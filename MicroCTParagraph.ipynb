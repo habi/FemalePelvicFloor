{
 "cells": [
  {
   "cell_type": "markdown",
   "metadata": {},
   "source": [
    "# Output\n",
    "This notebook generates the paragraph about the microCT-scanning from logfiles of the scans.\n",
    "And an XLS sheet with the details from the scans."
   ]
  },
  {
   "cell_type": "code",
   "execution_count": null,
   "metadata": {},
   "outputs": [],
   "source": [
    "import platform\n",
    "import os\n",
    "import pandas\n",
    "import glob\n",
    "import numpy"
   ]
  },
  {
   "cell_type": "code",
   "execution_count": null,
   "metadata": {},
   "outputs": [],
   "source": [
    "# Import our own parsing functions which we've added as submodule\n",
    "from BrukerSkyScanLogfileRuminator.parsing_functions import *"
   ]
  },
  {
   "cell_type": "markdown",
   "metadata": {},
   "source": [
    "We select a folder and go through *each* subfolder there..."
   ]
  },
  {
   "cell_type": "code",
   "execution_count": null,
   "metadata": {},
   "outputs": [],
   "source": [
    "# Load the log files from the archive\n",
    "if 'Linux' in platform.system():\n",
    "    BasePath = os.path.join(os.sep, 'home', 'habi', 'research-storage-uct', 'Archiv_Tape')\n",
    "else:\n",
    "    BasePath = os.path.join('R:\\\\', 'Archiv_Tape')\n",
    "# Select relevant folder\n",
    "Root = os.path.join(BasePath, '*Aaldijk*')\n",
    "print('We are loading all the data from %s' % Root)"
   ]
  },
  {
   "cell_type": "code",
   "execution_count": null,
   "metadata": {},
   "outputs": [],
   "source": [
    "# Make us a dataframe for saving all that we need\n",
    "Data = pandas.DataFrame()"
   ]
  },
  {
   "cell_type": "code",
   "execution_count": null,
   "metadata": {},
   "outputs": [],
   "source": [
    "# Look for *all* log files in the selected folder\n",
    "Data['LogFile'] = glob.glob(os.path.join(Root, '**', '*.log'), recursive=True)"
   ]
  },
  {
   "cell_type": "code",
   "execution_count": null,
   "metadata": {},
   "outputs": [],
   "source": [
    "Data['LogFile'][0]"
   ]
  },
  {
   "cell_type": "code",
   "execution_count": null,
   "metadata": {},
   "outputs": [],
   "source": [
    "# Save us a less verbose relative path for the log files\n",
    "Data['LogFileRelativePath'] = [l[len(os.path.split(Root)[0])+1:] for l in Data['LogFile']]"
   ]
  },
  {
   "cell_type": "code",
   "execution_count": null,
   "metadata": {},
   "outputs": [],
   "source": [
    "Data['LogFileRelativePath'][0]"
   ]
  },
  {
   "cell_type": "code",
   "execution_count": null,
   "metadata": {},
   "outputs": [],
   "source": [
    "# Use only the 'proj' log files\n",
    "for c, row in Data.iterrows():\n",
    "    if 'rec' not in row.LogFile:\n",
    "        Data.drop([c], inplace=True)\n",
    "    if 'rectmp' in row.LogFile:\n",
    "        Data.drop([c], inplace=True)\n",
    "    if 'ctan.log' in row.LogFile:\n",
    "        # Remove log file from CTAn\n",
    "        Data.drop([c], inplace=True)"
   ]
  },
  {
   "cell_type": "code",
   "execution_count": null,
   "metadata": {},
   "outputs": [],
   "source": [
    "# for l in Data.LogFile:\n",
    "#     print(l)"
   ]
  },
  {
   "cell_type": "code",
   "execution_count": null,
   "metadata": {},
   "outputs": [],
   "source": [
    "# For the manuscript, we use only the 'Foetus02' and 'Mouse01' scans, so let's only use these logs:"
   ]
  },
  {
   "cell_type": "code",
   "execution_count": null,
   "metadata": {},
   "outputs": [],
   "source": [
    "# Use only the 'proj' log files\n",
    "for c, row in Data.iterrows():\n",
    "    if ('Foetus02' not in row.LogFile) & ('Mouse01' not in row.LogFile):  # Exclude all other scans\n",
    "        Data.drop([c], inplace=True)\n",
    "    elif 'Registration' in row.LogFile:  # We've tried to register scans with DataViewer, which we also want to exclude\n",
    "        Data.drop([c], inplace=True)        "
   ]
  },
  {
   "cell_type": "code",
   "execution_count": null,
   "metadata": {},
   "outputs": [],
   "source": [
    "Data"
   ]
  },
  {
   "cell_type": "code",
   "execution_count": null,
   "metadata": {},
   "outputs": [],
   "source": [
    "# Generate descritive 'sample' name\n",
    "Data['Sample'] = [os.path.basename(os.path.dirname(os.path.dirname(l))).split('_')[0] for l in Data['LogFile']]\n",
    "# Sort "
   ]
  },
  {
   "cell_type": "code",
   "execution_count": null,
   "metadata": {},
   "outputs": [],
   "source": [
    "Data['Scanner'] = [scanner(log) for log in Data['LogFile']]\n",
    "Data['Software'] = [controlsoftware(log) for log in Data['LogFile']]"
   ]
  },
  {
   "cell_type": "code",
   "execution_count": null,
   "metadata": {},
   "outputs": [],
   "source": [
    "Data['Voxelsize'] = [pixelsize(log) for log in Data['LogFile']]\n",
    "Data['Voxelsize_rounded'] = [round(vs,1) for vs in Data['Voxelsize']]"
   ]
  },
  {
   "cell_type": "code",
   "execution_count": null,
   "metadata": {},
   "outputs": [],
   "source": [
    "Data['Source'] = [source(log) for log in Data['LogFile']]\n",
    "Data['Camera'] = [camera(log) for log in Data['LogFile']]"
   ]
  },
  {
   "cell_type": "code",
   "execution_count": null,
   "metadata": {},
   "outputs": [],
   "source": [
    "Data['Voltage'] = [voltage(log) for log in Data['LogFile']]\n",
    "Data['Current'] = [current(log) for log in Data['LogFile']]\n",
    "Data['Filter'] = [whichfilter(log) for log in Data['LogFile']]"
   ]
  },
  {
   "cell_type": "code",
   "execution_count": null,
   "metadata": {},
   "outputs": [],
   "source": [
    "Data['Stacks'] = [stacks(log) for log in Data['LogFile']]\n",
    "Data['NumberOfProjections'] = [numproj(log) for log in Data['LogFile']]\n",
    "Data['CameraSize'] = [projection_size(log) for log in Data['LogFile']]\n",
    "Data['RotationStep'] = [rotationstep(log) for log in Data['LogFile']]\n",
    "Data['Wide'] = [overlapscan(log) for log in Data.LogFile]\n",
    "Data['ThreeSixtyScan'] = [threesixtyscan(log) for log in Data['LogFile']]"
   ]
  },
  {
   "cell_type": "code",
   "execution_count": null,
   "metadata": {},
   "outputs": [],
   "source": [
    "Data['RingRemoval'] = [ringremoval(log) for log in Data['LogFile']]\n",
    "Data['Beamhardening'] = [beamhardening(log) for log in Data['LogFile']]\n",
    "Data['GrayValueMax'] = [reconstruction_grayvalue(log) for log in Data['LogFile']]"
   ]
  },
  {
   "cell_type": "code",
   "execution_count": null,
   "metadata": {},
   "outputs": [],
   "source": [
    "Data['Exposure'] = [exposuretime(log) for log in Data['LogFile']]\n",
    "Data['Averaging'] = [averaging(log) for log in Data['LogFile']]"
   ]
  },
  {
   "cell_type": "code",
   "execution_count": null,
   "metadata": {},
   "outputs": [],
   "source": [
    "Data['Duration'] = [duration(log) for log in Data['LogFile']]"
   ]
  },
  {
   "cell_type": "code",
   "execution_count": null,
   "metadata": {},
   "outputs": [],
   "source": [
    "Data['Version'] = [nreconversion(log) for log in Data['LogFile']]"
   ]
  },
  {
   "cell_type": "code",
   "execution_count": null,
   "metadata": {},
   "outputs": [],
   "source": [
    "Data['Scan date'] = [scandate(log) for log in Data['LogFile']]\n",
    "# Calculate time 'spent' since start (for each sample separately)\n",
    "# Data['Time passed'] = [sd - Data['Scan date'].min() for sd in Data['Scan date']]\n",
    "for sample in Data.Sample.unique():\n",
    "    print('Sample %s scanned from %s to %s' % (sample, \n",
    "                                               Data[Data.Sample == sample]['Scan date'].min().date(),\n",
    "                                               Data[Data.Sample == sample]['Scan date'].max().date()))                                            \n",
    "    for c, row in Data[Data.Sample == sample].iterrows():\n",
    "        Data.at[c, 'Time passed'] = row['Scan date'] - Data[Data.Sample == sample]['Scan date'].min()\n",
    "# Also extract days, rounded\n",
    "Data['Days passed'] = [t.round('d') for t in Data['Time passed']]"
   ]
  },
  {
   "cell_type": "code",
   "execution_count": null,
   "metadata": {},
   "outputs": [],
   "source": [
    "# Sort our dataframe by Sample and time passed\n",
    "Data.sort_values(['Sample', 'Time passed'], inplace=True)"
   ]
  },
  {
   "cell_type": "code",
   "execution_count": null,
   "metadata": {},
   "outputs": [],
   "source": [
    "for i in Data:\n",
    "    print(\"'%s',\" % i)"
   ]
  },
  {
   "cell_type": "code",
   "execution_count": null,
   "metadata": {},
   "outputs": [],
   "source": [
    "Data.head()"
   ]
  },
  {
   "cell_type": "code",
   "execution_count": null,
   "metadata": {},
   "outputs": [],
   "source": [
    "# Save to 'data' subfolder here\n",
    "Data[['LogFileRelativePath',\n",
    "      'Sample',\n",
    "      'Scanner',\n",
    "      'Software',\n",
    "      'Voxelsize',\n",
    "      'Voxelsize_rounded',\n",
    "      'Source',\n",
    "      'Camera',\n",
    "      'Voltage',\n",
    "      'Current',\n",
    "      'Filter',\n",
    "      'Stacks',\n",
    "      'NumberOfProjections',\n",
    "      'CameraSize',\n",
    "      'RotationStep',\n",
    "      'Wide',\n",
    "      'ThreeSixtyScan',\n",
    "      'RingRemoval',\n",
    "      'Beamhardening',\n",
    "      'GrayValueMax',\n",
    "      'Exposure',\n",
    "      'Averaging',\n",
    "      'Duration',\n",
    "      'Version',\n",
    "      'Scan date',\n",
    "      'Time passed',\n",
    "      'Days passed']].to_csv(os.path.join('data', 'ScanDetails.Foetus.Mouse.csv'))"
   ]
  },
  {
   "cell_type": "code",
   "execution_count": null,
   "metadata": {},
   "outputs": [],
   "source": [
    "# Save to research storage folder of Dea\n",
    "Data[['LogFileRelativePath',\n",
    "      'Sample',\n",
    "      'Scanner',\n",
    "      'Software',\n",
    "      'Voxelsize',\n",
    "      'Voxelsize_rounded',\n",
    "      'Source',\n",
    "      'Camera',\n",
    "      'Voltage',\n",
    "      'Current',\n",
    "      'Filter',\n",
    "      'Stacks',\n",
    "      'NumberOfProjections',\n",
    "      'CameraSize',\n",
    "      'RotationStep',\n",
    "      'Wide',\n",
    "      'ThreeSixtyScan',\n",
    "      'RingRemoval',\n",
    "      'Beamhardening',\n",
    "      'GrayValueMax',\n",
    "      'Exposure',\n",
    "      'Averaging',\n",
    "      'Duration',\n",
    "      'Version',\n",
    "      'Scan date',\n",
    "      'Time passed',\n",
    "      'Days passed']].to_excel(os.path.join('/home/habi/research-storage-djonov/Aaldijk/PelvicFloor/Pelvis-Manuscript/Data', 'ScanDetails.Foetus.Mouse.xlsx'))"
   ]
  },
  {
   "cell_type": "markdown",
   "metadata": {},
   "source": [
    "----"
   ]
  },
  {
   "cell_type": "markdown",
   "metadata": {},
   "source": [
    "My microct blurb from http://simp.ly/publish/NBhZhH"
   ]
  },
  {
   "cell_type": "code",
   "execution_count": null,
   "metadata": {},
   "outputs": [],
   "source": [
    "print('Based on the %s log files read from %s' % (len(Data), Root))"
   ]
  },
  {
   "cell_type": "code",
   "execution_count": null,
   "metadata": {},
   "outputs": [],
   "source": [
    "print('After $PREPARATION, the',\n",
    "      len(Data.Sample.unique()),\n",
    "      'samples were imaged on a Bruker',\n",
    "      \" OR \".join(str(value) for value in Data.Scanner.unique()),\n",
    "      'high-resolution microtomography machine (Control software version',\n",
    "      \" OR \".join(str(value) for value in Data.Software.unique()) + \n",
    "      ', Bruker microCT, Kontich, Belgium).')"
   ]
  },
  {
   "cell_type": "code",
   "execution_count": null,
   "metadata": {},
   "outputs": [],
   "source": [
    "print('The machine is equipped with a',\n",
    "      \" OR \".join(str(value) for value in Data.Source.unique()),\n",
    "      'X-ray source and a',\n",
    "      \" OR \".join(str(value) for value in Data.Camera.unique()),\n",
    "      'camera.')"
   ]
  },
  {
   "cell_type": "code",
   "execution_count": null,
   "metadata": {},
   "outputs": [],
   "source": [
    "for sample in Data.Sample.unique():\n",
    "    print('For the \"%s\" scans' % sample)\n",
    "    print('We scanned at %s different time points' % len(Data[Data.Sample == sample]['Days passed'].unique()))\n",
    "    print('From %s to %s' % (Data[Data.Sample == sample]['Scan date'].min().date(),\n",
    "                             Data[Data.Sample == sample]['Scan date'].max().date()))\n",
    "    print('Over a total of %s days' % Data[Data.Sample == sample]['Days passed'].max().days)\n",
    "    print('I.e. on average one scan every %s days' % round(Data[Data.Sample == sample]['Days passed'].max().days / len(Data[Data.Sample == sample]['Days passed'].unique())))\n",
    "    print(80 * '-')"
   ]
  },
  {
   "cell_type": "code",
   "execution_count": null,
   "metadata": {},
   "outputs": [],
   "source": [
    "for sample in Data.Sample.unique():\n",
    "    print('For the \"%s\" scans' % sample)\n",
    "    print('The resulting voxel size was %s μm' % Data[Data.Sample == sample].Voxelsize.unique())\n",
    "    print('The X-ray source was set to a tube voltage of', \n",
    "          \" OR \".join(str(value) for value in Data[Data.Sample == sample].Voltage.unique()),\n",
    "          'kV and a tube current of',\n",
    "          \" OR \".join(str(value) for value in Data[Data.Sample == sample].Current.unique()),\n",
    "          'µA, the x-ray spectrum was', end=' ')\n",
    "    if Data[Data.Sample == sample].Filter.unique():\n",
    "        print('filtered by', \" OR \".join(str(value) for value in Data[Data.Sample == sample].Filter.unique()), end='.')\n",
    "    else:\n",
    "        print('not filtered', end='.')\n",
    "    print()\n",
    "    print(80 * '-')"
   ]
  },
  {
   "cell_type": "code",
   "execution_count": null,
   "metadata": {},
   "outputs": [],
   "source": [
    "for sample in Data.Sample.unique():\n",
    "    print('For the \"%s\" scans' % sample)\n",
    "    for ts in Data[Data.Sample == sample].ThreeSixtyScan.unique():\n",
    "        print('For 360°==%s' % ts)\n",
    "        print(Data[Data.Sample == sample][Data[Data.Sample == sample].ThreeSixtyScan == ts][['Voxelsize', 'Stacks',\n",
    "                                                                                             'CameraSize', 'NumberOfProjections', 'RotationStep',\n",
    "                                                                                             'Exposure', 'Duration']])\n",
    "        print(80*'-')"
   ]
  },
  {
   "cell_type": "code",
   "execution_count": null,
   "metadata": {},
   "outputs": [],
   "source": [
    "for vs in Data.Voxelsize.unique():\n",
    "    print(vs)"
   ]
  },
  {
   "cell_type": "code",
   "execution_count": null,
   "metadata": {},
   "outputs": [],
   "source": [
    "for vs in Data.Voxelsize.unique():\n",
    "    print('For each of the %s %s scans scanned with %s μm, we recorded a set of either' % (len(Data[Data.Voxelsize == vs]),\n",
    "                                                                                           Data[Data.Voxelsize == vs]['Sample'].unique()[0],\n",
    "                                                                                           round(vs)),\n",
    "          end=' ')\n",
    "    if Data[Data.Voxelsize == vs].Filter.unique().tolist()[0]:   \n",
    "        print(\" or \".join(str(value) for value in Data[Data.Voxelsize == vs].Stacks.unique()),\n",
    "              'stacked scans overlapping the sample height, each stack was recorded with', end=' ')\n",
    "    print(\" or \".join(str(value) for value in Data[Data.Voxelsize == vs].NumberOfProjections.unique()), 'projections with a size of', end=' ')\n",
    "    for cs in Data[Data.Voxelsize == vs].CameraSize.unique():\n",
    "        print(cs[0], end=' ')\n",
    "    print('x', end=' ')\n",
    "    for cs in Data[Data.Voxelsize == vs].CameraSize.unique():\n",
    "        print(cs[1], end=' ')\n",
    "    print('pixels', end=' ')\n",
    "    if Data[Data.Voxelsize == vs].Wide.unique().tolist()[0]:\n",
    "        print('(' + \" or \".join(str(value) for value in Data[Data.Voxelsize == vs].Wide.unique()), 'projections stitched laterally)', end=' ')\n",
    "    print('at every',\n",
    "           str(\" or \".join(str(value) for value in Data[Data.Voxelsize == vs].RotationStep.unique())) + '° over ', end='')\n",
    "    if len(Data[Data.Voxelsize == vs].ThreeSixtyScan.unique()) > 1:\n",
    "         print('either 180° or 360°', end=' ')\n",
    "    else:\n",
    "        if Data[Data.Voxelsize == vs].ThreeSixtyScan.unique()[0]:\n",
    "            print('360°', end=' ')\n",
    "        else:\n",
    "            print('180°', end=' ')\n",
    "    print('sample rotation.')\n",
    "    print(80*'-')"
   ]
  },
  {
   "cell_type": "code",
   "execution_count": null,
   "metadata": {},
   "outputs": [],
   "source": [
    "for vs in Data.Voxelsize.unique():\n",
    "    print('For each sample scanned with %s μm we exposed every single projection for (on average)' % round(vs), end=' ')\n",
    "    print('%s ms' % round(Data[Data.Voxelsize == vs].Exposure.mean()))\n",
    "    print(80*'-')"
   ]
  },
  {
   "cell_type": "code",
   "execution_count": null,
   "metadata": {},
   "outputs": [],
   "source": [
    "for vs in Data.Voxelsize.unique():\n",
    "    print('This resulted in a average scan time of ', end='')\n",
    "    print(timeformat(datetime.timedelta(seconds=Data[Data.Voxelsize == vs].Duration.mean()),\n",
    "                     '{hours} hours and {minutes} minutes for each of the *stacks*'))\n",
    "    print(80*'-')"
   ]
  },
  {
   "cell_type": "code",
   "execution_count": null,
   "metadata": {},
   "outputs": [],
   "source": [
    "print('The projection images were then subsequently reconstructed into a 3D stack',\n",
    "      'of images with',\n",
    "      Data.Version.unique()[0][0],\n",
    "      '(Version',\n",
    "      Data.Version.unique()[0][1] + ', Bruker microCT, Kontich Belgium).')"
   ]
  },
  {
   "cell_type": "code",
   "execution_count": null,
   "metadata": {},
   "outputs": [],
   "source": [
    "print('The whole process resulted in datasets with an isometric voxel size of',\n",
    "      \" or \".join(str(value) for value in Data.Voxelsize_rounded.unique()),\n",
    "      'µm.') "
   ]
  },
  {
   "cell_type": "code",
   "execution_count": null,
   "metadata": {},
   "outputs": [],
   "source": []
  }
 ],
 "metadata": {
  "kernelspec": {
   "display_name": "Python 3 (ipykernel)",
   "language": "python",
   "name": "python3"
  },
  "language_info": {
   "codemirror_mode": {
    "name": "ipython",
    "version": 3
   },
   "file_extension": ".py",
   "mimetype": "text/x-python",
   "name": "python",
   "nbconvert_exporter": "python",
   "pygments_lexer": "ipython3",
   "version": "3.10.13"
  }
 },
 "nbformat": 4,
 "nbformat_minor": 4
}
