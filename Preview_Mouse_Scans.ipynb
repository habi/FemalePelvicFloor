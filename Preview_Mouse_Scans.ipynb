{
 "cells": [
  {
   "cell_type": "markdown",
   "metadata": {},
   "source": [
    "# Datawrangling the pelvic floor scans of the mouse samples\n",
    "Let's see what we did there..."
   ]
  },
  {
   "cell_type": "code",
   "execution_count": 1,
   "metadata": {
    "tags": []
   },
   "outputs": [],
   "source": [
    "import platform\n",
    "import os\n",
    "import glob\n",
    "import pandas\n",
    "import dask\n",
    "from dask.distributed import Client, LocalCluster\n",
    "import dask_image.imread\n",
    "import matplotlib.pyplot as plt\n",
    "from matplotlib_scalebar.scalebar import ScaleBar\n",
    "from matplotlib.gridspec import GridSpec\n",
    "import seaborn\n",
    "import numpy\n",
    "from tqdm.auto import tqdm, trange\n",
    "import imageio"
   ]
  },
  {
   "cell_type": "code",
   "execution_count": 2,
   "metadata": {
    "tags": []
   },
   "outputs": [],
   "source": [
    "# Import our own parsing functions which we've added as submodule\n",
    "from BrukerSkyScanLogfileRuminator.parsing_functions import *"
   ]
  },
  {
   "cell_type": "code",
   "execution_count": 3,
   "metadata": {
    "tags": []
   },
   "outputs": [
    {
     "name": "stdout",
     "output_type": "stream",
     "text": [
      "Dask temporary files go to /media/habi/Fast_SSD/tmp\n"
     ]
    }
   ],
   "source": [
    "# Set dask temporary folder\n",
    "# Do this before creating a client: https://stackoverflow.com/a/62804525/323100\n",
    "import tempfile\n",
    "if 'Linux' in platform.system():\n",
    "    tmp = os.path.join(os.sep, 'media', 'habi', 'Fast_SSD')\n",
    "elif 'Darwin' in platform.system():\n",
    "    tmp = tempfile.gettempdir()\n",
    "else:\n",
    "    if 'anaklin' in platform.node():\n",
    "        tmp = os.path.join('F:\\\\')\n",
    "    else:\n",
    "        tmp = os.path.join('D:\\\\')\n",
    "dask.config.set({'temporary_directory': os.path.join(tmp, 'tmp')})\n",
    "print('Dask temporary files go to %s' % dask.config.get('temporary_directory'))"
   ]
  },
  {
   "cell_type": "code",
   "execution_count": 4,
   "metadata": {
    "tags": []
   },
   "outputs": [],
   "source": [
    "# Start cluster and client now, after setting tempdir\n",
    "try:\n",
    "    cluster = LocalCluster()\n",
    "except PermissionError:\n",
    "    print('Mount the Fast_SSD, otherwise we cannot use it for saving the temporary files!')\n",
    "    print('Then rerun this cell.')\n",
    "client = Client(cluster)"
   ]
  },
  {
   "cell_type": "code",
   "execution_count": 5,
   "metadata": {
    "tags": []
   },
   "outputs": [
    {
     "name": "stdout",
     "output_type": "stream",
     "text": [
      "You can seee what DASK is doing at \"http://localhost:8787/status\"\n"
     ]
    }
   ],
   "source": [
    "print('You can seee what DASK is doing at \"http://localhost:%s/status\"' % client.scheduler_info()['services']['dashboard'])"
   ]
  },
  {
   "cell_type": "code",
   "execution_count": 6,
   "metadata": {
    "tags": []
   },
   "outputs": [],
   "source": [
    "# # Ignore warnings in the notebook\n",
    "# import warnings\n",
    "# warnings.filterwarnings(\"ignore\")"
   ]
  },
  {
   "cell_type": "code",
   "execution_count": 7,
   "metadata": {
    "tags": []
   },
   "outputs": [],
   "source": [
    "# Set up figure defaults\n",
    "plt.rc('image', cmap='gray', interpolation='nearest')  # Display all images in b&w and with 'nearest' interpolation\n",
    "plt.rcParams['figure.figsize'] = (16, 9)  # Size up figures a bit\n",
    "plt.rcParams['figure.dpi'] = 300"
   ]
  },
  {
   "cell_type": "code",
   "execution_count": 8,
   "metadata": {
    "tags": []
   },
   "outputs": [],
   "source": [
    "# Setup scale bar defaults\n",
    "plt.rcParams['scalebar.location'] = 'lower right'\n",
    "plt.rcParams['scalebar.frameon'] = False\n",
    "plt.rcParams['scalebar.color'] = 'white'"
   ]
  },
  {
   "cell_type": "code",
   "execution_count": 9,
   "metadata": {
    "tags": []
   },
   "outputs": [],
   "source": [
    "# Display all plots identically\n",
    "lines = 3\n",
    "# And then do something like\n",
    "# plt.subplot(lines, int(numpy.ceil(len(Data) / float(lines))), c + 1)"
   ]
  },
  {
   "cell_type": "code",
   "execution_count": 10,
   "metadata": {
    "tags": []
   },
   "outputs": [
    {
     "name": "stdout",
     "output_type": "stream",
     "text": [
      "We are loading all the data from /home/habi/research-storage-djonov/Aaldijk\n"
     ]
    }
   ],
   "source": [
    "# Different locations if running either on Linux or Windows\n",
    "FastSSD = False\n",
    "# to speed things up significantly\n",
    "if 'Linux' in platform.system():\n",
    "    if FastSSD:\n",
    "        BasePath = os.path.join(os.sep, 'media', 'habi', 'Fast_SSD')\n",
    "    else:\n",
    "        BasePath = os.path.join(os.sep, 'home', 'habi', 'research-storage-djonov')\n",
    "elif 'Darwin' in platform.system():\n",
    "    # First mount smb://resstore.unibe.ch/ana_rs_djonov/data in the Finder\n",
    "    FastSSD = False\n",
    "    BasePath = os.path.join('/Volumes/data/')\n",
    "elif 'Windows' in platform.system():\n",
    "    if FastSSD:\n",
    "        BasePath = os.path.join('F:\\\\')\n",
    "    else:\n",
    "        if 'anaklin' in platform.node():\n",
    "            BasePath = os.path.join('V:\\\\')\n",
    "        else:\n",
    "            BasePath = os.path.join('V:\\\\')\n",
    "Root = os.path.join(BasePath, 'Aaldijk')\n",
    "print('We are loading all the data from %s' % Root)"
   ]
  },
  {
   "cell_type": "code",
   "execution_count": 11,
   "metadata": {
    "tags": []
   },
   "outputs": [],
   "source": [
    "def get_git_hash():\n",
    "    '''\n",
    "    Get the current git hash from the repository.\n",
    "    Based on http://stackoverflow.com/a/949391/323100 and\n",
    "    http://stackoverflow.com/a/18283905/323100\n",
    "    '''\n",
    "    from subprocess import Popen, PIPE\n",
    "    import os\n",
    "    gitprocess = Popen(['git',\n",
    "                        '--git-dir',\n",
    "                        os.path.join(os.getcwd(), '.git'),\n",
    "                        'rev-parse',\n",
    "                        '--short',\n",
    "                        '--verify',\n",
    "                        'HEAD'],\n",
    "                       stdout=PIPE)\n",
    "    (output, _) = gitprocess.communicate()\n",
    "    return output.strip().decode(\"utf-8\")"
   ]
  },
  {
   "cell_type": "code",
   "execution_count": 167,
   "metadata": {
    "tags": []
   },
   "outputs": [
    {
     "name": "stdout",
     "output_type": "stream",
     "text": [
      "We are saving all the output to /home/habi/P/Documents/Dea-Beckenboden/Output/1270bf4\n"
     ]
    }
   ],
   "source": [
    "# Make directory for output\n",
    "OutPutDir = os.path.join(os.getcwd(), 'Output', get_git_hash())\n",
    "print('We are saving all the output to %s' % OutPutDir)\n",
    "os.makedirs(OutPutDir, exist_ok=True)"
   ]
  },
  {
   "cell_type": "code",
   "execution_count": 13,
   "metadata": {
    "tags": []
   },
   "outputs": [],
   "source": [
    "# Make us a dataframe for saving all that we need\n",
    "Data = pandas.DataFrame()"
   ]
  },
  {
   "cell_type": "code",
   "execution_count": 14,
   "metadata": {
    "tags": []
   },
   "outputs": [
    {
     "name": "stdout",
     "output_type": "stream",
     "text": [
      "Searching for all log files in /home/habi/research-storage-djonov/Aaldijk\n"
     ]
    }
   ],
   "source": [
    "# Get *all* log files, unsorted but faster than with glob\n",
    "print('Searching for all log files in %s' % Root)\n",
    "Data['LogFile'] = [os.path.join(root, name)\n",
    "                   for root, dirs, files in os.walk(Root)\n",
    "                   for name in files\n",
    "                   if name.endswith((\".log\"))]"
   ]
  },
  {
   "cell_type": "code",
   "execution_count": 15,
   "metadata": {
    "tags": []
   },
   "outputs": [],
   "source": [
    "# Drop all non-mouse scans\n",
    "for c, row in Data.iterrows():\n",
    "    if 'Mouse' not in row.LogFile:\n",
    "        Data.drop([c], inplace=True)\n",
    "Data.reset_index(inplace=True)"
   ]
  },
  {
   "cell_type": "code",
   "execution_count": 16,
   "metadata": {
    "tags": []
   },
   "outputs": [],
   "source": [
    "# Get all folders\n",
    "Data['Folder'] = [os.path.dirname(f) for f in Data['LogFile']]"
   ]
  },
  {
   "cell_type": "code",
   "execution_count": 17,
   "metadata": {
    "tags": []
   },
   "outputs": [],
   "source": [
    "#Check for samples which are not yet reconstructed\n",
    "for c, row in Data.iterrows():\n",
    "    # Iterate over every 'proj' folder\n",
    "    if 'proj' in row.Folder:\n",
    "        if not 'TScopy' in row.Folder and not 'PR' in row.Folder:\n",
    "            # If there's nothing with 'rec*' on the same level, then tell us        \n",
    "            if not glob.glob(row.Folder.replace('proj', '*rec*')):\n",
    "                print('- %s is missing matching reconstructions' % row.LogFile[len(Root)+1:])"
   ]
  },
  {
   "cell_type": "code",
   "execution_count": 18,
   "metadata": {
    "tags": []
   },
   "outputs": [],
   "source": [
    "Data['XYAlignment'] = [glob.glob(os.path.join(f, '*.csv')) for f in Data['Folder']]"
   ]
  },
  {
   "cell_type": "code",
   "execution_count": 19,
   "metadata": {
    "tags": []
   },
   "outputs": [],
   "source": [
    "# Check for samples which are missing the .csv-files for the XY-alignment\n",
    "for c, row in Data.iterrows():\n",
    "    # Iterate over every 'proj' folder\n",
    "    if 'proj' in row.Folder:\n",
    "        if not len(row.XYAlignment):\n",
    "            if not any(x in row.LogFile for x in ['rectmp.log']):\n",
    "                # 'rectmp.log' because we only exclude it afterwards :)\n",
    "                print('- %s has *not* been X/Y aligned' % row.LogFile[len(Root)+1:])"
   ]
  },
  {
   "cell_type": "code",
   "execution_count": 20,
   "metadata": {
    "tags": []
   },
   "outputs": [],
   "source": [
    "# Get rid of all logfiles that we don't want\n",
    "for c, row in Data.iterrows():\n",
    "    if 'rec' not in row.Folder:  # drop all non-rec folders\n",
    "        Data.drop([c], inplace=True)\n",
    "    elif 'SubScan' in row.Folder:  # drop all partial reconstructions which might be there from synchronization\n",
    "        Data.drop([c], inplace=True)        \n",
    "    elif 'rectmp.log' in row.LogFile:  # drop all temporary logfiles\n",
    "        Data.drop([c], inplace=True)\n",
    "# Reset dataframe to something that we would get if we only would have loaded the 'rec' files\n",
    "Data = Data.reset_index(drop=True)"
   ]
  },
  {
   "cell_type": "code",
   "execution_count": 21,
   "metadata": {
    "tags": []
   },
   "outputs": [],
   "source": [
    "# Generate us some meaningful colums\n",
    "Data['Sample'] = [l[len(Root)+1:].split(os.sep)[0] for l in Data['LogFile']]\n",
    "Data['SampleName'] = [sn.split('_')[0] for sn in Data['Sample']]\n",
    "Data['Scan'] = ['_'.join(l[len(Root)+1:].split(os.sep)[1:-1]) for l in Data['LogFile']]"
   ]
  },
  {
   "cell_type": "code",
   "execution_count": 22,
   "metadata": {
    "tags": []
   },
   "outputs": [
    {
     "data": {
      "text/plain": [
       "array(['Mouse01', 'Mouse02'], dtype=object)"
      ]
     },
     "execution_count": 22,
     "metadata": {},
     "output_type": "execute_result"
    }
   ],
   "source": [
    "Data.SampleName.unique()"
   ]
  },
  {
   "cell_type": "code",
   "execution_count": 23,
   "metadata": {
    "tags": []
   },
   "outputs": [],
   "source": [
    "# if not len(Data.SampleName.unique()) == 1:\n",
    "#     print('Something went wrong with the extration of the common sample name')"
   ]
  },
  {
   "cell_type": "code",
   "execution_count": 24,
   "metadata": {
    "tags": []
   },
   "outputs": [],
   "source": [
    "# Get the file names of the reconstructions\n",
    "Data['Reconstructions'] = [sorted(glob.glob(os.path.join(f, '*rec0*.png'))) for f in Data['Folder']]\n",
    "Data['Number of reconstructions'] = [len(r) for r in Data.Reconstructions]"
   ]
  },
  {
   "cell_type": "code",
   "execution_count": 25,
   "metadata": {
    "tags": []
   },
   "outputs": [
    {
     "name": "stdout",
     "output_type": "stream",
     "text": [
      "We have 25 folders with reconstructions\n"
     ]
    }
   ],
   "source": [
    "# Drop samples which have either not been reconstructed yet or of which we deleted the reconstructions with\n",
    "# `find . -name \"*rec*.png\" -type f -mtime +333 -delete`\n",
    "# Based on https://stackoverflow.com/a/13851602\n",
    "# for c,row in Data.iterrows():\n",
    "#     if not row['Number of reconstructions']:\n",
    "#         print('%s contains no PNG files, we might be currently reconstructing it' % row.Folder)\n",
    "Data = Data[Data['Number of reconstructions'] > 0]\n",
    "Data.reset_index(drop=True, inplace=True)\n",
    "print('We have %s folders with reconstructions' % (len(Data)))"
   ]
  },
  {
   "cell_type": "code",
   "execution_count": 26,
   "metadata": {
    "tags": []
   },
   "outputs": [],
   "source": [
    "# Get scanning parameters to doublecheck from logfiles\n",
    "Data['Scanner'] = [scanner(log) for log in Data['LogFile']]\n",
    "Data['Voltage'] = [voltage(log) for log in Data['LogFile']]\n",
    "Data['Current'] = [current(log) for log in Data['LogFile']]\n",
    "Data['Voxelsize'] = [pixelsize(log, rounded=True) for log in Data['LogFile']]\n",
    "Data['CameraWindow'] = [projection_size(log) for log in Data['LogFile']]\n",
    "Data['Exposuretime'] = [exposure(log) for log in Data['LogFile']]\n",
    "Data['Averaging'] = [averaging(log) for log in Data['LogFile']]\n",
    "Data['Stacks'] = [stacks(log) for log in Data['LogFile']]\n",
    "Data['RotationStep'] = [rotationstep(log) for log in Data['LogFile']]\n",
    "Data['Scan date'] = [scandate(log) for log in Data['LogFile']]\n",
    "Data['Scan time'] = [duration(log) for log in Data['LogFile']]"
   ]
  },
  {
   "cell_type": "code",
   "execution_count": 27,
   "metadata": {
    "tags": []
   },
   "outputs": [],
   "source": [
    "# Sort our dataframe by scan date\n",
    "Data.sort_values(by='Scan date', inplace=True, ignore_index=True)"
   ]
  },
  {
   "cell_type": "code",
   "execution_count": 28,
   "metadata": {
    "tags": []
   },
   "outputs": [
    {
     "data": {
      "text/plain": [
       "array([60.])"
      ]
     },
     "execution_count": 28,
     "metadata": {},
     "output_type": "execute_result"
    }
   ],
   "source": [
    "Data.Voltage.unique()"
   ]
  },
  {
   "cell_type": "code",
   "execution_count": 29,
   "metadata": {
    "tags": []
   },
   "outputs": [
    {
     "data": {
      "text/plain": [
       "array([140.])"
      ]
     },
     "execution_count": 29,
     "metadata": {},
     "output_type": "execute_result"
    }
   ],
   "source": [
    "Data.Current.unique()"
   ]
  },
  {
   "cell_type": "code",
   "execution_count": 30,
   "metadata": {
    "tags": []
   },
   "outputs": [
    {
     "data": {
      "text/plain": [
       "array([False])"
      ]
     },
     "execution_count": 30,
     "metadata": {},
     "output_type": "execute_result"
    }
   ],
   "source": [
    "Data.Averaging.unique()"
   ]
  },
  {
   "cell_type": "code",
   "execution_count": 31,
   "metadata": {
    "tags": []
   },
   "outputs": [
    {
     "data": {
      "text/plain": [
       "array([15.,  9.])"
      ]
     },
     "execution_count": 31,
     "metadata": {},
     "output_type": "execute_result"
    }
   ],
   "source": [
    "Data.Voxelsize.unique()"
   ]
  },
  {
   "cell_type": "code",
   "execution_count": 32,
   "metadata": {
    "tags": []
   },
   "outputs": [
    {
     "data": {
      "text/plain": [
       "array([(3072, 1944), (2457, 1944)], dtype=object)"
      ]
     },
     "execution_count": 32,
     "metadata": {},
     "output_type": "execute_result"
    }
   ],
   "source": [
    "Data['CameraWindow'].unique()"
   ]
  },
  {
   "cell_type": "code",
   "execution_count": 33,
   "metadata": {
    "tags": []
   },
   "outputs": [],
   "source": [
    "# Get reconstruction parameters to doublecheck from logfiles\n",
    "Data['Grayvalue'] = [reconstruction_grayvalue(log) for log in Data['LogFile']]\n",
    "Data['RingartefactCorrection'] = [ringremoval(log) for log in Data['LogFile']]\n",
    "Data['BeamHardeningCorrection'] = [beamhardening(log) for log in Data['LogFile']]\n",
    "Data['DefectPixelMasking'] = [defectpixelmasking(log) for log in Data['LogFile']]\n",
    "Data['ROI'] = [region_of_interest(log) for log in Data['LogFile']]"
   ]
  },
  {
   "cell_type": "code",
   "execution_count": 34,
   "metadata": {
    "tags": []
   },
   "outputs": [
    {
     "data": {
      "text/html": [
       "<div>\n",
       "<style scoped>\n",
       "    .dataframe tbody tr th:only-of-type {\n",
       "        vertical-align: middle;\n",
       "    }\n",
       "\n",
       "    .dataframe tbody tr th {\n",
       "        vertical-align: top;\n",
       "    }\n",
       "\n",
       "    .dataframe thead th {\n",
       "        text-align: right;\n",
       "    }\n",
       "</style>\n",
       "<table border=\"1\" class=\"dataframe\">\n",
       "  <thead>\n",
       "    <tr style=\"text-align: right;\">\n",
       "      <th></th>\n",
       "      <th>Sample</th>\n",
       "      <th>Scan</th>\n",
       "      <th>ROI</th>\n",
       "    </tr>\n",
       "  </thead>\n",
       "  <tbody>\n",
       "    <tr>\n",
       "      <th>0</th>\n",
       "      <td>Mouse01_Nativ_20220905</td>\n",
       "      <td>rec</td>\n",
       "      <td>(2622, 678, 445, 2389)</td>\n",
       "    </tr>\n",
       "    <tr>\n",
       "      <th>1</th>\n",
       "      <td>Mouse02_Nativ_20220905</td>\n",
       "      <td>rec</td>\n",
       "      <td>(2573, 629, 567, 2511)</td>\n",
       "    </tr>\n",
       "    <tr>\n",
       "      <th>2</th>\n",
       "      <td>Mouse01_Lugol_15pct_20220914</td>\n",
       "      <td>rec</td>\n",
       "      <td>(2642, 698, 500, 2444)</td>\n",
       "    </tr>\n",
       "    <tr>\n",
       "      <th>3</th>\n",
       "      <td>Mouse01_Lugol_15pct_20220921</td>\n",
       "      <td>rec</td>\n",
       "      <td>(2517, 573, 640, 2584)</td>\n",
       "    </tr>\n",
       "    <tr>\n",
       "      <th>4</th>\n",
       "      <td>Mouse01_Lugol_15pct_20220928</td>\n",
       "      <td>rec</td>\n",
       "      <td>(2368, 424, 715, 2659)</td>\n",
       "    </tr>\n",
       "    <tr>\n",
       "      <th>5</th>\n",
       "      <td>Mouse01_Lugol_15pct_20221017</td>\n",
       "      <td>rec</td>\n",
       "      <td>(2369, 425, 652, 2596)</td>\n",
       "    </tr>\n",
       "    <tr>\n",
       "      <th>6</th>\n",
       "      <td>Mouse01_Lugol_15pct_20221027</td>\n",
       "      <td>rec</td>\n",
       "      <td>(2420, 476, 530, 2474)</td>\n",
       "    </tr>\n",
       "    <tr>\n",
       "      <th>7</th>\n",
       "      <td>Mouse01_Lugol_15pct_20221107</td>\n",
       "      <td>rec</td>\n",
       "      <td>(2414, 470, 656, 2600)</td>\n",
       "    </tr>\n",
       "    <tr>\n",
       "      <th>8</th>\n",
       "      <td>Mouse01_Lugol_15pct_20221117</td>\n",
       "      <td>rec</td>\n",
       "      <td>(2395, 451, 564, 2508)</td>\n",
       "    </tr>\n",
       "    <tr>\n",
       "      <th>9</th>\n",
       "      <td>Mouse01_Lugol_15pct_20221128</td>\n",
       "      <td>rec</td>\n",
       "      <td>(2424, 480, 645, 2589)</td>\n",
       "    </tr>\n",
       "    <tr>\n",
       "      <th>10</th>\n",
       "      <td>Mouse01_Lugol_15pct_20221209</td>\n",
       "      <td>rec</td>\n",
       "      <td>(2017, 73, 275, 2219)</td>\n",
       "    </tr>\n",
       "    <tr>\n",
       "      <th>11</th>\n",
       "      <td>Mouse01_Lugol_15pct_20221223</td>\n",
       "      <td>rec</td>\n",
       "      <td>(2334, 390, 595, 2539)</td>\n",
       "    </tr>\n",
       "    <tr>\n",
       "      <th>12</th>\n",
       "      <td>Mouse01_Lugol_15pct_20230104</td>\n",
       "      <td>rec</td>\n",
       "      <td>(2272, 328, 525, 2469)</td>\n",
       "    </tr>\n",
       "    <tr>\n",
       "      <th>13</th>\n",
       "      <td>Mouse01_Lugol_15pct_20230113</td>\n",
       "      <td>rec</td>\n",
       "      <td>(2529, 585, 526, 2470)</td>\n",
       "    </tr>\n",
       "    <tr>\n",
       "      <th>14</th>\n",
       "      <td>Mouse01_Lugol_15pct_20230125</td>\n",
       "      <td>rec</td>\n",
       "      <td>(2385, 441, 622, 2566)</td>\n",
       "    </tr>\n",
       "    <tr>\n",
       "      <th>15</th>\n",
       "      <td>Mouse01_Lugol_15pct_20230203</td>\n",
       "      <td>rec</td>\n",
       "      <td>(2368, 424, 589, 2533)</td>\n",
       "    </tr>\n",
       "    <tr>\n",
       "      <th>16</th>\n",
       "      <td>Mouse01_Lugol_15pct_20230214</td>\n",
       "      <td>rec</td>\n",
       "      <td>(2326, 382, 418, 2362)</td>\n",
       "    </tr>\n",
       "    <tr>\n",
       "      <th>17</th>\n",
       "      <td>Mouse01_Lugol_15pct_20230227</td>\n",
       "      <td>rec</td>\n",
       "      <td>(2485, 541, 588, 2532)</td>\n",
       "    </tr>\n",
       "    <tr>\n",
       "      <th>18</th>\n",
       "      <td>Mouse01_Lugol_15pct_20230317</td>\n",
       "      <td>rec</td>\n",
       "      <td>(2537, 593, 590, 2534)</td>\n",
       "    </tr>\n",
       "    <tr>\n",
       "      <th>19</th>\n",
       "      <td>Mouse01_Lugol_15pct_20230330</td>\n",
       "      <td>rec</td>\n",
       "      <td>(2490, 546, 627, 2571)</td>\n",
       "    </tr>\n",
       "    <tr>\n",
       "      <th>20</th>\n",
       "      <td>Mouse01_Lugol_15pct_20230411</td>\n",
       "      <td>rec</td>\n",
       "      <td>(2403, 459, 507, 2451)</td>\n",
       "    </tr>\n",
       "    <tr>\n",
       "      <th>21</th>\n",
       "      <td>Mouse01_Lugol_15pct_20230421</td>\n",
       "      <td>rec</td>\n",
       "      <td>(2630, 686, 365, 2309)</td>\n",
       "    </tr>\n",
       "    <tr>\n",
       "      <th>22</th>\n",
       "      <td>Mouse01_Lugol_15pct_20230501</td>\n",
       "      <td>rec</td>\n",
       "      <td>(2520, 576, 620, 2564)</td>\n",
       "    </tr>\n",
       "    <tr>\n",
       "      <th>23</th>\n",
       "      <td>Mouse02_Lugol_15pct_20230501</td>\n",
       "      <td>rec</td>\n",
       "      <td>(2570, 626, 667, 2611)</td>\n",
       "    </tr>\n",
       "    <tr>\n",
       "      <th>24</th>\n",
       "      <td>Mouse01_Lugol_15pct_20230510</td>\n",
       "      <td>rec_09um</td>\n",
       "      <td>False</td>\n",
       "    </tr>\n",
       "  </tbody>\n",
       "</table>\n",
       "</div>"
      ],
      "text/plain": [
       "                          Sample      Scan                     ROI\n",
       "0         Mouse01_Nativ_20220905       rec  (2622, 678, 445, 2389)\n",
       "1         Mouse02_Nativ_20220905       rec  (2573, 629, 567, 2511)\n",
       "2   Mouse01_Lugol_15pct_20220914       rec  (2642, 698, 500, 2444)\n",
       "3   Mouse01_Lugol_15pct_20220921       rec  (2517, 573, 640, 2584)\n",
       "4   Mouse01_Lugol_15pct_20220928       rec  (2368, 424, 715, 2659)\n",
       "5   Mouse01_Lugol_15pct_20221017       rec  (2369, 425, 652, 2596)\n",
       "6   Mouse01_Lugol_15pct_20221027       rec  (2420, 476, 530, 2474)\n",
       "7   Mouse01_Lugol_15pct_20221107       rec  (2414, 470, 656, 2600)\n",
       "8   Mouse01_Lugol_15pct_20221117       rec  (2395, 451, 564, 2508)\n",
       "9   Mouse01_Lugol_15pct_20221128       rec  (2424, 480, 645, 2589)\n",
       "10  Mouse01_Lugol_15pct_20221209       rec   (2017, 73, 275, 2219)\n",
       "11  Mouse01_Lugol_15pct_20221223       rec  (2334, 390, 595, 2539)\n",
       "12  Mouse01_Lugol_15pct_20230104       rec  (2272, 328, 525, 2469)\n",
       "13  Mouse01_Lugol_15pct_20230113       rec  (2529, 585, 526, 2470)\n",
       "14  Mouse01_Lugol_15pct_20230125       rec  (2385, 441, 622, 2566)\n",
       "15  Mouse01_Lugol_15pct_20230203       rec  (2368, 424, 589, 2533)\n",
       "16  Mouse01_Lugol_15pct_20230214       rec  (2326, 382, 418, 2362)\n",
       "17  Mouse01_Lugol_15pct_20230227       rec  (2485, 541, 588, 2532)\n",
       "18  Mouse01_Lugol_15pct_20230317       rec  (2537, 593, 590, 2534)\n",
       "19  Mouse01_Lugol_15pct_20230330       rec  (2490, 546, 627, 2571)\n",
       "20  Mouse01_Lugol_15pct_20230411       rec  (2403, 459, 507, 2451)\n",
       "21  Mouse01_Lugol_15pct_20230421       rec  (2630, 686, 365, 2309)\n",
       "22  Mouse01_Lugol_15pct_20230501       rec  (2520, 576, 620, 2564)\n",
       "23  Mouse02_Lugol_15pct_20230501       rec  (2570, 626, 667, 2611)\n",
       "24  Mouse01_Lugol_15pct_20230510  rec_09um                   False"
      ]
     },
     "execution_count": 34,
     "metadata": {},
     "output_type": "execute_result"
    }
   ],
   "source": [
    "Data[['Sample', 'Scan', 'ROI']]"
   ]
  },
  {
   "cell_type": "code",
   "execution_count": 35,
   "metadata": {
    "tags": []
   },
   "outputs": [
    {
     "data": {
      "text/plain": [
       "array([0.1     , 0.151022])"
      ]
     },
     "execution_count": 35,
     "metadata": {},
     "output_type": "execute_result"
    }
   ],
   "source": [
    "Data['Grayvalue'].unique()"
   ]
  },
  {
   "cell_type": "code",
   "execution_count": 36,
   "metadata": {
    "tags": []
   },
   "outputs": [
    {
     "data": {
      "text/plain": [
       "array([1, 0])"
      ]
     },
     "execution_count": 36,
     "metadata": {},
     "output_type": "execute_result"
    }
   ],
   "source": [
    "Data['RingartefactCorrection'].unique()"
   ]
  },
  {
   "cell_type": "code",
   "execution_count": 37,
   "metadata": {
    "tags": []
   },
   "outputs": [
    {
     "name": "stdout",
     "output_type": "stream",
     "text": [
      "Mouse01_Lugol_15pct_20230510 0.151022\n"
     ]
    }
   ],
   "source": [
    "for c,row in Data.iterrows():\n",
    "    if row.Grayvalue != 0.1:\n",
    "        print(row.Sample, row.Grayvalue)"
   ]
  },
  {
   "cell_type": "code",
   "execution_count": 38,
   "metadata": {
    "tags": []
   },
   "outputs": [
    {
     "name": "stdout",
     "output_type": "stream",
     "text": [
      "Mouse01_Lugol_15pct_20230510 0\n"
     ]
    }
   ],
   "source": [
    "for c,row in Data.iterrows():\n",
    "    if not row.RingartefactCorrection:\n",
    "        print(row.Sample, row.RingartefactCorrection)"
   ]
  },
  {
   "cell_type": "code",
   "execution_count": 39,
   "metadata": {
    "tags": []
   },
   "outputs": [
    {
     "data": {
      "text/html": [
       "<div>\n",
       "<style scoped>\n",
       "    .dataframe tbody tr th:only-of-type {\n",
       "        vertical-align: middle;\n",
       "    }\n",
       "\n",
       "    .dataframe tbody tr th {\n",
       "        vertical-align: top;\n",
       "    }\n",
       "\n",
       "    .dataframe thead th {\n",
       "        text-align: right;\n",
       "    }\n",
       "</style>\n",
       "<table border=\"1\" class=\"dataframe\">\n",
       "  <thead>\n",
       "    <tr style=\"text-align: right;\">\n",
       "      <th></th>\n",
       "      <th>Sample</th>\n",
       "      <th>Scan</th>\n",
       "      <th>Grayvalue</th>\n",
       "      <th>RingartefactCorrection</th>\n",
       "      <th>BeamHardeningCorrection</th>\n",
       "      <th>DefectPixelMasking</th>\n",
       "    </tr>\n",
       "  </thead>\n",
       "  <tbody>\n",
       "    <tr>\n",
       "      <th>0</th>\n",
       "      <td>Mouse01_Nativ_20220905</td>\n",
       "      <td>rec</td>\n",
       "      <td>0.100000</td>\n",
       "      <td>1</td>\n",
       "      <td>0</td>\n",
       "      <td>0</td>\n",
       "    </tr>\n",
       "    <tr>\n",
       "      <th>1</th>\n",
       "      <td>Mouse02_Nativ_20220905</td>\n",
       "      <td>rec</td>\n",
       "      <td>0.100000</td>\n",
       "      <td>1</td>\n",
       "      <td>0</td>\n",
       "      <td>0</td>\n",
       "    </tr>\n",
       "    <tr>\n",
       "      <th>2</th>\n",
       "      <td>Mouse01_Lugol_15pct_20220914</td>\n",
       "      <td>rec</td>\n",
       "      <td>0.100000</td>\n",
       "      <td>1</td>\n",
       "      <td>0</td>\n",
       "      <td>0</td>\n",
       "    </tr>\n",
       "    <tr>\n",
       "      <th>3</th>\n",
       "      <td>Mouse01_Lugol_15pct_20220921</td>\n",
       "      <td>rec</td>\n",
       "      <td>0.100000</td>\n",
       "      <td>1</td>\n",
       "      <td>0</td>\n",
       "      <td>0</td>\n",
       "    </tr>\n",
       "    <tr>\n",
       "      <th>4</th>\n",
       "      <td>Mouse01_Lugol_15pct_20220928</td>\n",
       "      <td>rec</td>\n",
       "      <td>0.100000</td>\n",
       "      <td>1</td>\n",
       "      <td>0</td>\n",
       "      <td>0</td>\n",
       "    </tr>\n",
       "    <tr>\n",
       "      <th>5</th>\n",
       "      <td>Mouse01_Lugol_15pct_20221017</td>\n",
       "      <td>rec</td>\n",
       "      <td>0.100000</td>\n",
       "      <td>1</td>\n",
       "      <td>0</td>\n",
       "      <td>0</td>\n",
       "    </tr>\n",
       "    <tr>\n",
       "      <th>6</th>\n",
       "      <td>Mouse01_Lugol_15pct_20221027</td>\n",
       "      <td>rec</td>\n",
       "      <td>0.100000</td>\n",
       "      <td>1</td>\n",
       "      <td>0</td>\n",
       "      <td>0</td>\n",
       "    </tr>\n",
       "    <tr>\n",
       "      <th>7</th>\n",
       "      <td>Mouse01_Lugol_15pct_20221107</td>\n",
       "      <td>rec</td>\n",
       "      <td>0.100000</td>\n",
       "      <td>1</td>\n",
       "      <td>0</td>\n",
       "      <td>0</td>\n",
       "    </tr>\n",
       "    <tr>\n",
       "      <th>8</th>\n",
       "      <td>Mouse01_Lugol_15pct_20221117</td>\n",
       "      <td>rec</td>\n",
       "      <td>0.100000</td>\n",
       "      <td>1</td>\n",
       "      <td>0</td>\n",
       "      <td>0</td>\n",
       "    </tr>\n",
       "    <tr>\n",
       "      <th>9</th>\n",
       "      <td>Mouse01_Lugol_15pct_20221128</td>\n",
       "      <td>rec</td>\n",
       "      <td>0.100000</td>\n",
       "      <td>1</td>\n",
       "      <td>0</td>\n",
       "      <td>0</td>\n",
       "    </tr>\n",
       "    <tr>\n",
       "      <th>10</th>\n",
       "      <td>Mouse01_Lugol_15pct_20221209</td>\n",
       "      <td>rec</td>\n",
       "      <td>0.100000</td>\n",
       "      <td>1</td>\n",
       "      <td>0</td>\n",
       "      <td>0</td>\n",
       "    </tr>\n",
       "    <tr>\n",
       "      <th>11</th>\n",
       "      <td>Mouse01_Lugol_15pct_20221223</td>\n",
       "      <td>rec</td>\n",
       "      <td>0.100000</td>\n",
       "      <td>1</td>\n",
       "      <td>0</td>\n",
       "      <td>0</td>\n",
       "    </tr>\n",
       "    <tr>\n",
       "      <th>12</th>\n",
       "      <td>Mouse01_Lugol_15pct_20230104</td>\n",
       "      <td>rec</td>\n",
       "      <td>0.100000</td>\n",
       "      <td>1</td>\n",
       "      <td>0</td>\n",
       "      <td>0</td>\n",
       "    </tr>\n",
       "    <tr>\n",
       "      <th>13</th>\n",
       "      <td>Mouse01_Lugol_15pct_20230113</td>\n",
       "      <td>rec</td>\n",
       "      <td>0.100000</td>\n",
       "      <td>1</td>\n",
       "      <td>0</td>\n",
       "      <td>0</td>\n",
       "    </tr>\n",
       "    <tr>\n",
       "      <th>14</th>\n",
       "      <td>Mouse01_Lugol_15pct_20230125</td>\n",
       "      <td>rec</td>\n",
       "      <td>0.100000</td>\n",
       "      <td>1</td>\n",
       "      <td>0</td>\n",
       "      <td>0</td>\n",
       "    </tr>\n",
       "    <tr>\n",
       "      <th>15</th>\n",
       "      <td>Mouse01_Lugol_15pct_20230203</td>\n",
       "      <td>rec</td>\n",
       "      <td>0.100000</td>\n",
       "      <td>1</td>\n",
       "      <td>0</td>\n",
       "      <td>0</td>\n",
       "    </tr>\n",
       "    <tr>\n",
       "      <th>16</th>\n",
       "      <td>Mouse01_Lugol_15pct_20230214</td>\n",
       "      <td>rec</td>\n",
       "      <td>0.100000</td>\n",
       "      <td>1</td>\n",
       "      <td>0</td>\n",
       "      <td>0</td>\n",
       "    </tr>\n",
       "    <tr>\n",
       "      <th>17</th>\n",
       "      <td>Mouse01_Lugol_15pct_20230227</td>\n",
       "      <td>rec</td>\n",
       "      <td>0.100000</td>\n",
       "      <td>1</td>\n",
       "      <td>0</td>\n",
       "      <td>0</td>\n",
       "    </tr>\n",
       "    <tr>\n",
       "      <th>18</th>\n",
       "      <td>Mouse01_Lugol_15pct_20230317</td>\n",
       "      <td>rec</td>\n",
       "      <td>0.100000</td>\n",
       "      <td>1</td>\n",
       "      <td>0</td>\n",
       "      <td>0</td>\n",
       "    </tr>\n",
       "    <tr>\n",
       "      <th>19</th>\n",
       "      <td>Mouse01_Lugol_15pct_20230330</td>\n",
       "      <td>rec</td>\n",
       "      <td>0.100000</td>\n",
       "      <td>1</td>\n",
       "      <td>0</td>\n",
       "      <td>0</td>\n",
       "    </tr>\n",
       "    <tr>\n",
       "      <th>20</th>\n",
       "      <td>Mouse01_Lugol_15pct_20230411</td>\n",
       "      <td>rec</td>\n",
       "      <td>0.100000</td>\n",
       "      <td>1</td>\n",
       "      <td>0</td>\n",
       "      <td>0</td>\n",
       "    </tr>\n",
       "    <tr>\n",
       "      <th>21</th>\n",
       "      <td>Mouse01_Lugol_15pct_20230421</td>\n",
       "      <td>rec</td>\n",
       "      <td>0.100000</td>\n",
       "      <td>1</td>\n",
       "      <td>0</td>\n",
       "      <td>0</td>\n",
       "    </tr>\n",
       "    <tr>\n",
       "      <th>22</th>\n",
       "      <td>Mouse01_Lugol_15pct_20230501</td>\n",
       "      <td>rec</td>\n",
       "      <td>0.100000</td>\n",
       "      <td>1</td>\n",
       "      <td>0</td>\n",
       "      <td>0</td>\n",
       "    </tr>\n",
       "    <tr>\n",
       "      <th>23</th>\n",
       "      <td>Mouse02_Lugol_15pct_20230501</td>\n",
       "      <td>rec</td>\n",
       "      <td>0.100000</td>\n",
       "      <td>1</td>\n",
       "      <td>0</td>\n",
       "      <td>0</td>\n",
       "    </tr>\n",
       "    <tr>\n",
       "      <th>24</th>\n",
       "      <td>Mouse01_Lugol_15pct_20230510</td>\n",
       "      <td>rec_09um</td>\n",
       "      <td>0.151022</td>\n",
       "      <td>0</td>\n",
       "      <td>0</td>\n",
       "      <td>0</td>\n",
       "    </tr>\n",
       "  </tbody>\n",
       "</table>\n",
       "</div>"
      ],
      "text/plain": [
       "                          Sample      Scan  Grayvalue  RingartefactCorrection  \\\n",
       "0         Mouse01_Nativ_20220905       rec   0.100000                       1   \n",
       "1         Mouse02_Nativ_20220905       rec   0.100000                       1   \n",
       "2   Mouse01_Lugol_15pct_20220914       rec   0.100000                       1   \n",
       "3   Mouse01_Lugol_15pct_20220921       rec   0.100000                       1   \n",
       "4   Mouse01_Lugol_15pct_20220928       rec   0.100000                       1   \n",
       "5   Mouse01_Lugol_15pct_20221017       rec   0.100000                       1   \n",
       "6   Mouse01_Lugol_15pct_20221027       rec   0.100000                       1   \n",
       "7   Mouse01_Lugol_15pct_20221107       rec   0.100000                       1   \n",
       "8   Mouse01_Lugol_15pct_20221117       rec   0.100000                       1   \n",
       "9   Mouse01_Lugol_15pct_20221128       rec   0.100000                       1   \n",
       "10  Mouse01_Lugol_15pct_20221209       rec   0.100000                       1   \n",
       "11  Mouse01_Lugol_15pct_20221223       rec   0.100000                       1   \n",
       "12  Mouse01_Lugol_15pct_20230104       rec   0.100000                       1   \n",
       "13  Mouse01_Lugol_15pct_20230113       rec   0.100000                       1   \n",
       "14  Mouse01_Lugol_15pct_20230125       rec   0.100000                       1   \n",
       "15  Mouse01_Lugol_15pct_20230203       rec   0.100000                       1   \n",
       "16  Mouse01_Lugol_15pct_20230214       rec   0.100000                       1   \n",
       "17  Mouse01_Lugol_15pct_20230227       rec   0.100000                       1   \n",
       "18  Mouse01_Lugol_15pct_20230317       rec   0.100000                       1   \n",
       "19  Mouse01_Lugol_15pct_20230330       rec   0.100000                       1   \n",
       "20  Mouse01_Lugol_15pct_20230411       rec   0.100000                       1   \n",
       "21  Mouse01_Lugol_15pct_20230421       rec   0.100000                       1   \n",
       "22  Mouse01_Lugol_15pct_20230501       rec   0.100000                       1   \n",
       "23  Mouse02_Lugol_15pct_20230501       rec   0.100000                       1   \n",
       "24  Mouse01_Lugol_15pct_20230510  rec_09um   0.151022                       0   \n",
       "\n",
       "    BeamHardeningCorrection  DefectPixelMasking  \n",
       "0                         0                   0  \n",
       "1                         0                   0  \n",
       "2                         0                   0  \n",
       "3                         0                   0  \n",
       "4                         0                   0  \n",
       "5                         0                   0  \n",
       "6                         0                   0  \n",
       "7                         0                   0  \n",
       "8                         0                   0  \n",
       "9                         0                   0  \n",
       "10                        0                   0  \n",
       "11                        0                   0  \n",
       "12                        0                   0  \n",
       "13                        0                   0  \n",
       "14                        0                   0  \n",
       "15                        0                   0  \n",
       "16                        0                   0  \n",
       "17                        0                   0  \n",
       "18                        0                   0  \n",
       "19                        0                   0  \n",
       "20                        0                   0  \n",
       "21                        0                   0  \n",
       "22                        0                   0  \n",
       "23                        0                   0  \n",
       "24                        0                   0  "
      ]
     },
     "execution_count": 39,
     "metadata": {},
     "output_type": "execute_result"
    }
   ],
   "source": [
    "Data[['Sample', 'Scan', 'Grayvalue', 'RingartefactCorrection', 'BeamHardeningCorrection', 'DefectPixelMasking']]"
   ]
  },
  {
   "cell_type": "code",
   "execution_count": 40,
   "metadata": {
    "tags": []
   },
   "outputs": [],
   "source": [
    "# Calculate time 'spent' since start\n",
    "Data['Time passed'] = [sd - Data['Scan date'].min() for sd in Data['Scan date']]\n",
    "# Also extract days, rounded\n",
    "Data['Days passed'] = [t.round('d') for t in Data['Time passed']]"
   ]
  },
  {
   "cell_type": "code",
   "execution_count": 41,
   "metadata": {
    "tags": []
   },
   "outputs": [
    {
     "data": {
      "text/html": [
       "<div>\n",
       "<style scoped>\n",
       "    .dataframe tbody tr th:only-of-type {\n",
       "        vertical-align: middle;\n",
       "    }\n",
       "\n",
       "    .dataframe tbody tr th {\n",
       "        vertical-align: top;\n",
       "    }\n",
       "\n",
       "    .dataframe thead th {\n",
       "        text-align: right;\n",
       "    }\n",
       "</style>\n",
       "<table border=\"1\" class=\"dataframe\">\n",
       "  <thead>\n",
       "    <tr style=\"text-align: right;\">\n",
       "      <th></th>\n",
       "      <th>Sample</th>\n",
       "      <th>Scan date</th>\n",
       "      <th>Time passed</th>\n",
       "      <th>Days passed</th>\n",
       "    </tr>\n",
       "  </thead>\n",
       "  <tbody>\n",
       "    <tr>\n",
       "      <th>0</th>\n",
       "      <td>Mouse01_Nativ_20220905</td>\n",
       "      <td>2022-09-05 12:05:31</td>\n",
       "      <td>0 days 00:00:00</td>\n",
       "      <td>0 days</td>\n",
       "    </tr>\n",
       "    <tr>\n",
       "      <th>1</th>\n",
       "      <td>Mouse02_Nativ_20220905</td>\n",
       "      <td>2022-09-05 14:43:22</td>\n",
       "      <td>0 days 02:37:51</td>\n",
       "      <td>0 days</td>\n",
       "    </tr>\n",
       "    <tr>\n",
       "      <th>2</th>\n",
       "      <td>Mouse01_Lugol_15pct_20220914</td>\n",
       "      <td>2022-09-14 11:48:21</td>\n",
       "      <td>8 days 23:42:50</td>\n",
       "      <td>9 days</td>\n",
       "    </tr>\n",
       "    <tr>\n",
       "      <th>3</th>\n",
       "      <td>Mouse01_Lugol_15pct_20220921</td>\n",
       "      <td>2022-09-21 11:45:53</td>\n",
       "      <td>15 days 23:40:22</td>\n",
       "      <td>16 days</td>\n",
       "    </tr>\n",
       "    <tr>\n",
       "      <th>4</th>\n",
       "      <td>Mouse01_Lugol_15pct_20220928</td>\n",
       "      <td>2022-09-28 12:46:39</td>\n",
       "      <td>23 days 00:41:08</td>\n",
       "      <td>23 days</td>\n",
       "    </tr>\n",
       "    <tr>\n",
       "      <th>5</th>\n",
       "      <td>Mouse01_Lugol_15pct_20221017</td>\n",
       "      <td>2022-10-17 13:08:30</td>\n",
       "      <td>42 days 01:02:59</td>\n",
       "      <td>42 days</td>\n",
       "    </tr>\n",
       "    <tr>\n",
       "      <th>6</th>\n",
       "      <td>Mouse01_Lugol_15pct_20221027</td>\n",
       "      <td>2022-10-27 14:58:04</td>\n",
       "      <td>52 days 02:52:33</td>\n",
       "      <td>52 days</td>\n",
       "    </tr>\n",
       "    <tr>\n",
       "      <th>7</th>\n",
       "      <td>Mouse01_Lugol_15pct_20221107</td>\n",
       "      <td>2022-11-07 14:10:21</td>\n",
       "      <td>63 days 02:04:50</td>\n",
       "      <td>63 days</td>\n",
       "    </tr>\n",
       "    <tr>\n",
       "      <th>8</th>\n",
       "      <td>Mouse01_Lugol_15pct_20221117</td>\n",
       "      <td>2022-11-17 11:34:45</td>\n",
       "      <td>72 days 23:29:14</td>\n",
       "      <td>73 days</td>\n",
       "    </tr>\n",
       "    <tr>\n",
       "      <th>9</th>\n",
       "      <td>Mouse01_Lugol_15pct_20221128</td>\n",
       "      <td>2022-11-28 12:20:20</td>\n",
       "      <td>84 days 00:14:49</td>\n",
       "      <td>84 days</td>\n",
       "    </tr>\n",
       "    <tr>\n",
       "      <th>10</th>\n",
       "      <td>Mouse01_Lugol_15pct_20221209</td>\n",
       "      <td>2022-12-09 11:03:12</td>\n",
       "      <td>94 days 22:57:41</td>\n",
       "      <td>95 days</td>\n",
       "    </tr>\n",
       "    <tr>\n",
       "      <th>11</th>\n",
       "      <td>Mouse01_Lugol_15pct_20221223</td>\n",
       "      <td>2022-12-23 13:45:40</td>\n",
       "      <td>109 days 01:40:09</td>\n",
       "      <td>109 days</td>\n",
       "    </tr>\n",
       "    <tr>\n",
       "      <th>12</th>\n",
       "      <td>Mouse01_Lugol_15pct_20230104</td>\n",
       "      <td>2023-01-04 11:59:18</td>\n",
       "      <td>120 days 23:53:47</td>\n",
       "      <td>121 days</td>\n",
       "    </tr>\n",
       "    <tr>\n",
       "      <th>13</th>\n",
       "      <td>Mouse01_Lugol_15pct_20230113</td>\n",
       "      <td>2023-01-13 11:47:15</td>\n",
       "      <td>129 days 23:41:44</td>\n",
       "      <td>130 days</td>\n",
       "    </tr>\n",
       "    <tr>\n",
       "      <th>14</th>\n",
       "      <td>Mouse01_Lugol_15pct_20230125</td>\n",
       "      <td>2023-01-25 11:23:16</td>\n",
       "      <td>141 days 23:17:45</td>\n",
       "      <td>142 days</td>\n",
       "    </tr>\n",
       "    <tr>\n",
       "      <th>15</th>\n",
       "      <td>Mouse01_Lugol_15pct_20230203</td>\n",
       "      <td>2023-02-03 11:26:01</td>\n",
       "      <td>150 days 23:20:30</td>\n",
       "      <td>151 days</td>\n",
       "    </tr>\n",
       "    <tr>\n",
       "      <th>16</th>\n",
       "      <td>Mouse01_Lugol_15pct_20230214</td>\n",
       "      <td>2023-02-14 11:57:24</td>\n",
       "      <td>161 days 23:51:53</td>\n",
       "      <td>162 days</td>\n",
       "    </tr>\n",
       "    <tr>\n",
       "      <th>17</th>\n",
       "      <td>Mouse01_Lugol_15pct_20230227</td>\n",
       "      <td>2023-02-27 15:01:38</td>\n",
       "      <td>175 days 02:56:07</td>\n",
       "      <td>175 days</td>\n",
       "    </tr>\n",
       "    <tr>\n",
       "      <th>18</th>\n",
       "      <td>Mouse01_Lugol_15pct_20230317</td>\n",
       "      <td>2023-03-17 11:20:03</td>\n",
       "      <td>192 days 23:14:32</td>\n",
       "      <td>193 days</td>\n",
       "    </tr>\n",
       "    <tr>\n",
       "      <th>19</th>\n",
       "      <td>Mouse01_Lugol_15pct_20230330</td>\n",
       "      <td>2023-03-30 11:28:02</td>\n",
       "      <td>205 days 23:22:31</td>\n",
       "      <td>206 days</td>\n",
       "    </tr>\n",
       "    <tr>\n",
       "      <th>20</th>\n",
       "      <td>Mouse01_Lugol_15pct_20230411</td>\n",
       "      <td>2023-04-11 12:25:39</td>\n",
       "      <td>218 days 00:20:08</td>\n",
       "      <td>218 days</td>\n",
       "    </tr>\n",
       "    <tr>\n",
       "      <th>21</th>\n",
       "      <td>Mouse01_Lugol_15pct_20230421</td>\n",
       "      <td>2023-04-21 11:53:00</td>\n",
       "      <td>227 days 23:47:29</td>\n",
       "      <td>228 days</td>\n",
       "    </tr>\n",
       "    <tr>\n",
       "      <th>22</th>\n",
       "      <td>Mouse01_Lugol_15pct_20230501</td>\n",
       "      <td>2023-05-01 14:07:43</td>\n",
       "      <td>238 days 02:02:12</td>\n",
       "      <td>238 days</td>\n",
       "    </tr>\n",
       "    <tr>\n",
       "      <th>23</th>\n",
       "      <td>Mouse02_Lugol_15pct_20230501</td>\n",
       "      <td>2023-05-01 17:08:20</td>\n",
       "      <td>238 days 05:02:49</td>\n",
       "      <td>238 days</td>\n",
       "    </tr>\n",
       "    <tr>\n",
       "      <th>24</th>\n",
       "      <td>Mouse01_Lugol_15pct_20230510</td>\n",
       "      <td>2023-05-10 13:10:00</td>\n",
       "      <td>247 days 01:04:29</td>\n",
       "      <td>247 days</td>\n",
       "    </tr>\n",
       "  </tbody>\n",
       "</table>\n",
       "</div>"
      ],
      "text/plain": [
       "                          Sample           Scan date       Time passed  \\\n",
       "0         Mouse01_Nativ_20220905 2022-09-05 12:05:31   0 days 00:00:00   \n",
       "1         Mouse02_Nativ_20220905 2022-09-05 14:43:22   0 days 02:37:51   \n",
       "2   Mouse01_Lugol_15pct_20220914 2022-09-14 11:48:21   8 days 23:42:50   \n",
       "3   Mouse01_Lugol_15pct_20220921 2022-09-21 11:45:53  15 days 23:40:22   \n",
       "4   Mouse01_Lugol_15pct_20220928 2022-09-28 12:46:39  23 days 00:41:08   \n",
       "5   Mouse01_Lugol_15pct_20221017 2022-10-17 13:08:30  42 days 01:02:59   \n",
       "6   Mouse01_Lugol_15pct_20221027 2022-10-27 14:58:04  52 days 02:52:33   \n",
       "7   Mouse01_Lugol_15pct_20221107 2022-11-07 14:10:21  63 days 02:04:50   \n",
       "8   Mouse01_Lugol_15pct_20221117 2022-11-17 11:34:45  72 days 23:29:14   \n",
       "9   Mouse01_Lugol_15pct_20221128 2022-11-28 12:20:20  84 days 00:14:49   \n",
       "10  Mouse01_Lugol_15pct_20221209 2022-12-09 11:03:12  94 days 22:57:41   \n",
       "11  Mouse01_Lugol_15pct_20221223 2022-12-23 13:45:40 109 days 01:40:09   \n",
       "12  Mouse01_Lugol_15pct_20230104 2023-01-04 11:59:18 120 days 23:53:47   \n",
       "13  Mouse01_Lugol_15pct_20230113 2023-01-13 11:47:15 129 days 23:41:44   \n",
       "14  Mouse01_Lugol_15pct_20230125 2023-01-25 11:23:16 141 days 23:17:45   \n",
       "15  Mouse01_Lugol_15pct_20230203 2023-02-03 11:26:01 150 days 23:20:30   \n",
       "16  Mouse01_Lugol_15pct_20230214 2023-02-14 11:57:24 161 days 23:51:53   \n",
       "17  Mouse01_Lugol_15pct_20230227 2023-02-27 15:01:38 175 days 02:56:07   \n",
       "18  Mouse01_Lugol_15pct_20230317 2023-03-17 11:20:03 192 days 23:14:32   \n",
       "19  Mouse01_Lugol_15pct_20230330 2023-03-30 11:28:02 205 days 23:22:31   \n",
       "20  Mouse01_Lugol_15pct_20230411 2023-04-11 12:25:39 218 days 00:20:08   \n",
       "21  Mouse01_Lugol_15pct_20230421 2023-04-21 11:53:00 227 days 23:47:29   \n",
       "22  Mouse01_Lugol_15pct_20230501 2023-05-01 14:07:43 238 days 02:02:12   \n",
       "23  Mouse02_Lugol_15pct_20230501 2023-05-01 17:08:20 238 days 05:02:49   \n",
       "24  Mouse01_Lugol_15pct_20230510 2023-05-10 13:10:00 247 days 01:04:29   \n",
       "\n",
       "   Days passed  \n",
       "0       0 days  \n",
       "1       0 days  \n",
       "2       9 days  \n",
       "3      16 days  \n",
       "4      23 days  \n",
       "5      42 days  \n",
       "6      52 days  \n",
       "7      63 days  \n",
       "8      73 days  \n",
       "9      84 days  \n",
       "10     95 days  \n",
       "11    109 days  \n",
       "12    121 days  \n",
       "13    130 days  \n",
       "14    142 days  \n",
       "15    151 days  \n",
       "16    162 days  \n",
       "17    175 days  \n",
       "18    193 days  \n",
       "19    206 days  \n",
       "20    218 days  \n",
       "21    228 days  \n",
       "22    238 days  \n",
       "23    238 days  \n",
       "24    247 days  "
      ]
     },
     "execution_count": 41,
     "metadata": {},
     "output_type": "execute_result"
    }
   ],
   "source": [
    "Data[['Sample', 'Scan date', 'Time passed', 'Days passed']]"
   ]
  },
  {
   "cell_type": "markdown",
   "metadata": {},
   "source": [
    "Some consistency checks"
   ]
  },
  {
   "cell_type": "code",
   "execution_count": 42,
   "metadata": {
    "tags": []
   },
   "outputs": [
    {
     "name": "stdout",
     "output_type": "stream",
     "text": [
      "For the SkyScan 2214 we have ringartefact-correction values of [1 0]\n"
     ]
    }
   ],
   "source": [
    "# Check ringremoval parameters\n",
    "for machine in Data['Scanner'].unique():\n",
    "    print('For the %s we have '\n",
    "          'ringartefact-correction values of %s' % (machine,\n",
    "                                                    Data[Data.Scanner==machine]['RingartefactCorrection'].unique()))"
   ]
  },
  {
   "cell_type": "code",
   "execution_count": 43,
   "metadata": {
    "tags": []
   },
   "outputs": [
    {
     "name": "stdout",
     "output_type": "stream",
     "text": [
      "For the SkyScan 2214 we have beamhardening correction values of [0]\n"
     ]
    }
   ],
   "source": [
    "# Check beamhardening parameters\n",
    "for scanner in Data.Scanner.unique():\n",
    "    print('For the %s we have '\n",
    "          'beamhardening correction values of %s' % (scanner,\n",
    "                                                     Data[Data.Scanner==scanner]['BeamHardeningCorrection'].unique()))"
   ]
  },
  {
   "cell_type": "code",
   "execution_count": 44,
   "metadata": {
    "tags": []
   },
   "outputs": [
    {
     "name": "stdout",
     "output_type": "stream",
     "text": [
      "For the SkyScan 2214 we have defect pixel masking values of [0]\n"
     ]
    }
   ],
   "source": [
    "# Check defect pixel masking parameters\n",
    "for scanner in Data.Scanner.unique():\n",
    "    print('For the %s we have '\n",
    "          'defect pixel masking values of %s' % (scanner,\n",
    "                                                 Data[Data.Scanner==scanner]['DefectPixelMasking'].unique()))"
   ]
  },
  {
   "cell_type": "code",
   "execution_count": 45,
   "metadata": {
    "tags": []
   },
   "outputs": [
    {
     "name": "stdout",
     "output_type": "stream",
     "text": [
      "For the SkyScan 2214 we have reconstruction gray values of [0.1      0.151022]\n"
     ]
    }
   ],
   "source": [
    "# Check defect pixel masking parameters\n",
    "for scanner in Data.Scanner.unique():\n",
    "    print('For the %s we have '\n",
    "          'reconstruction gray values of %s' % (scanner,\n",
    "                                                Data[Data.Scanner==scanner]['Grayvalue'].unique()))"
   ]
  },
  {
   "cell_type": "markdown",
   "metadata": {},
   "source": [
    "Check and display scan times"
   ]
  },
  {
   "cell_type": "code",
   "execution_count": 46,
   "metadata": {
    "tags": []
   },
   "outputs": [],
   "source": [
    "Data['Scan time total'] = [ st * stk  for st, stk in zip(Data['Scan time'], Data['Stacks'])]"
   ]
  },
  {
   "cell_type": "code",
   "execution_count": 47,
   "metadata": {
    "tags": []
   },
   "outputs": [],
   "source": [
    "# # https://www.geeksforgeeks.org/iterating-over-rows-and-columns-in-pandas-dataframe/\n",
    "# columns = list(Data)\n",
    "# columns.remove('Folder') \n",
    "# columns.remove('Sample')\n",
    "# columns.remove('LogFile')\n",
    "# columns.remove('Reconstructions')\n",
    "# columns.remove('Number of reconstructions')\n",
    "# columns.remove('Grayvalue')\n",
    "# columns.remove('Scan time')\n",
    "# columns.remove('Scan time total')\n",
    "# columns.remove('Scan date')\n",
    "# print(columns)\n",
    "# for col in columns:\n",
    "#     print(col)\n",
    "#     print(Data[col].unique())\n",
    "#     print(80*'-')    "
   ]
  },
  {
   "cell_type": "code",
   "execution_count": 48,
   "metadata": {
    "tags": []
   },
   "outputs": [
    {
     "name": "stdout",
     "output_type": "stream",
     "text": [
      "We scanned all datasets with 2 different voxel sizes\n",
      "- 9.0 um for Mouse01_Lugol_15pct_20230510/rec_09um, \n",
      "- 15.0 um for Mouse01_Nativ_20220905/rec, Mouse02_Nativ_20220905/rec, Mouse01_Lugol_15pct_20220914/rec, Mouse01_Lugol_15pct_20220921/rec, Mouse01_Lugol_15pct_20220928/rec, Mouse01_Lugol_15pct_20221017/rec, Mouse01_Lugol_15pct_20221027/rec, Mouse01_Lugol_15pct_20221107/rec, Mouse01_Lugol_15pct_20221117/rec, Mouse01_Lugol_15pct_20221128/rec, Mouse01_Lugol_15pct_20221209/rec, Mouse01_Lugol_15pct_20221223/rec, Mouse01_Lugol_15pct_20230104/rec, Mouse01_Lugol_15pct_20230113/rec, Mouse01_Lugol_15pct_20230125/rec, Mouse01_Lugol_15pct_20230203/rec, Mouse01_Lugol_15pct_20230214/rec, Mouse01_Lugol_15pct_20230227/rec, Mouse01_Lugol_15pct_20230317/rec, Mouse01_Lugol_15pct_20230330/rec, Mouse01_Lugol_15pct_20230411/rec, Mouse01_Lugol_15pct_20230421/rec, Mouse01_Lugol_15pct_20230501/rec, Mouse02_Lugol_15pct_20230501/rec, \n"
     ]
    }
   ],
   "source": [
    "# Check voxel sizes (*rounded* to two after-comma values)\n",
    "# If different, spit out which values\n",
    "roundto = 2\n",
    "if len(Data['Voxelsize'].round(roundto).unique()) > 1:\n",
    "    print('We scanned all datasets with %s different voxel sizes' % len(Data['Voxelsize'].round(roundto).unique()))\n",
    "    for vs in sorted(Data['Voxelsize'].round(roundto).unique()):\n",
    "        print('-', vs, 'um for ', end='')\n",
    "        for c, row in Data.iterrows():\n",
    "            if float(vs) == round(row['Voxelsize'], roundto):\n",
    "                print(os.path.join(row['Sample'], row['Scan']), end=', ')\n",
    "        print('')\n",
    "else:\n",
    "    print('We scanned all datasets with equal voxel size, namely %s um.' % float(Data['Voxelsize'].round(roundto).unique()))"
   ]
  },
  {
   "cell_type": "code",
   "execution_count": 49,
   "metadata": {
    "tags": []
   },
   "outputs": [
    {
     "data": {
      "text/html": [
       "<div>\n",
       "<style scoped>\n",
       "    .dataframe tbody tr th:only-of-type {\n",
       "        vertical-align: middle;\n",
       "    }\n",
       "\n",
       "    .dataframe tbody tr th {\n",
       "        vertical-align: top;\n",
       "    }\n",
       "\n",
       "    .dataframe thead th {\n",
       "        text-align: right;\n",
       "    }\n",
       "</style>\n",
       "<table border=\"1\" class=\"dataframe\">\n",
       "  <thead>\n",
       "    <tr style=\"text-align: right;\">\n",
       "      <th></th>\n",
       "      <th>Sample</th>\n",
       "      <th>Scan</th>\n",
       "      <th>BeamHardeningCorrection</th>\n",
       "      <th>DefectPixelMasking</th>\n",
       "      <th>RingartefactCorrection</th>\n",
       "      <th>Grayvalue</th>\n",
       "    </tr>\n",
       "  </thead>\n",
       "  <tbody>\n",
       "    <tr>\n",
       "      <th>0</th>\n",
       "      <td>Mouse01_Nativ_20220905</td>\n",
       "      <td>rec</td>\n",
       "      <td>0</td>\n",
       "      <td>0</td>\n",
       "      <td>1</td>\n",
       "      <td>0.100000</td>\n",
       "    </tr>\n",
       "    <tr>\n",
       "      <th>1</th>\n",
       "      <td>Mouse02_Nativ_20220905</td>\n",
       "      <td>rec</td>\n",
       "      <td>0</td>\n",
       "      <td>0</td>\n",
       "      <td>1</td>\n",
       "      <td>0.100000</td>\n",
       "    </tr>\n",
       "    <tr>\n",
       "      <th>2</th>\n",
       "      <td>Mouse01_Lugol_15pct_20220914</td>\n",
       "      <td>rec</td>\n",
       "      <td>0</td>\n",
       "      <td>0</td>\n",
       "      <td>1</td>\n",
       "      <td>0.100000</td>\n",
       "    </tr>\n",
       "    <tr>\n",
       "      <th>3</th>\n",
       "      <td>Mouse01_Lugol_15pct_20220921</td>\n",
       "      <td>rec</td>\n",
       "      <td>0</td>\n",
       "      <td>0</td>\n",
       "      <td>1</td>\n",
       "      <td>0.100000</td>\n",
       "    </tr>\n",
       "    <tr>\n",
       "      <th>4</th>\n",
       "      <td>Mouse01_Lugol_15pct_20220928</td>\n",
       "      <td>rec</td>\n",
       "      <td>0</td>\n",
       "      <td>0</td>\n",
       "      <td>1</td>\n",
       "      <td>0.100000</td>\n",
       "    </tr>\n",
       "    <tr>\n",
       "      <th>5</th>\n",
       "      <td>Mouse01_Lugol_15pct_20221017</td>\n",
       "      <td>rec</td>\n",
       "      <td>0</td>\n",
       "      <td>0</td>\n",
       "      <td>1</td>\n",
       "      <td>0.100000</td>\n",
       "    </tr>\n",
       "    <tr>\n",
       "      <th>6</th>\n",
       "      <td>Mouse01_Lugol_15pct_20221027</td>\n",
       "      <td>rec</td>\n",
       "      <td>0</td>\n",
       "      <td>0</td>\n",
       "      <td>1</td>\n",
       "      <td>0.100000</td>\n",
       "    </tr>\n",
       "    <tr>\n",
       "      <th>7</th>\n",
       "      <td>Mouse01_Lugol_15pct_20221107</td>\n",
       "      <td>rec</td>\n",
       "      <td>0</td>\n",
       "      <td>0</td>\n",
       "      <td>1</td>\n",
       "      <td>0.100000</td>\n",
       "    </tr>\n",
       "    <tr>\n",
       "      <th>8</th>\n",
       "      <td>Mouse01_Lugol_15pct_20221117</td>\n",
       "      <td>rec</td>\n",
       "      <td>0</td>\n",
       "      <td>0</td>\n",
       "      <td>1</td>\n",
       "      <td>0.100000</td>\n",
       "    </tr>\n",
       "    <tr>\n",
       "      <th>9</th>\n",
       "      <td>Mouse01_Lugol_15pct_20221128</td>\n",
       "      <td>rec</td>\n",
       "      <td>0</td>\n",
       "      <td>0</td>\n",
       "      <td>1</td>\n",
       "      <td>0.100000</td>\n",
       "    </tr>\n",
       "    <tr>\n",
       "      <th>10</th>\n",
       "      <td>Mouse01_Lugol_15pct_20221209</td>\n",
       "      <td>rec</td>\n",
       "      <td>0</td>\n",
       "      <td>0</td>\n",
       "      <td>1</td>\n",
       "      <td>0.100000</td>\n",
       "    </tr>\n",
       "    <tr>\n",
       "      <th>11</th>\n",
       "      <td>Mouse01_Lugol_15pct_20221223</td>\n",
       "      <td>rec</td>\n",
       "      <td>0</td>\n",
       "      <td>0</td>\n",
       "      <td>1</td>\n",
       "      <td>0.100000</td>\n",
       "    </tr>\n",
       "    <tr>\n",
       "      <th>12</th>\n",
       "      <td>Mouse01_Lugol_15pct_20230104</td>\n",
       "      <td>rec</td>\n",
       "      <td>0</td>\n",
       "      <td>0</td>\n",
       "      <td>1</td>\n",
       "      <td>0.100000</td>\n",
       "    </tr>\n",
       "    <tr>\n",
       "      <th>13</th>\n",
       "      <td>Mouse01_Lugol_15pct_20230113</td>\n",
       "      <td>rec</td>\n",
       "      <td>0</td>\n",
       "      <td>0</td>\n",
       "      <td>1</td>\n",
       "      <td>0.100000</td>\n",
       "    </tr>\n",
       "    <tr>\n",
       "      <th>14</th>\n",
       "      <td>Mouse01_Lugol_15pct_20230125</td>\n",
       "      <td>rec</td>\n",
       "      <td>0</td>\n",
       "      <td>0</td>\n",
       "      <td>1</td>\n",
       "      <td>0.100000</td>\n",
       "    </tr>\n",
       "    <tr>\n",
       "      <th>15</th>\n",
       "      <td>Mouse01_Lugol_15pct_20230203</td>\n",
       "      <td>rec</td>\n",
       "      <td>0</td>\n",
       "      <td>0</td>\n",
       "      <td>1</td>\n",
       "      <td>0.100000</td>\n",
       "    </tr>\n",
       "    <tr>\n",
       "      <th>16</th>\n",
       "      <td>Mouse01_Lugol_15pct_20230214</td>\n",
       "      <td>rec</td>\n",
       "      <td>0</td>\n",
       "      <td>0</td>\n",
       "      <td>1</td>\n",
       "      <td>0.100000</td>\n",
       "    </tr>\n",
       "    <tr>\n",
       "      <th>17</th>\n",
       "      <td>Mouse01_Lugol_15pct_20230227</td>\n",
       "      <td>rec</td>\n",
       "      <td>0</td>\n",
       "      <td>0</td>\n",
       "      <td>1</td>\n",
       "      <td>0.100000</td>\n",
       "    </tr>\n",
       "    <tr>\n",
       "      <th>18</th>\n",
       "      <td>Mouse01_Lugol_15pct_20230317</td>\n",
       "      <td>rec</td>\n",
       "      <td>0</td>\n",
       "      <td>0</td>\n",
       "      <td>1</td>\n",
       "      <td>0.100000</td>\n",
       "    </tr>\n",
       "    <tr>\n",
       "      <th>19</th>\n",
       "      <td>Mouse01_Lugol_15pct_20230330</td>\n",
       "      <td>rec</td>\n",
       "      <td>0</td>\n",
       "      <td>0</td>\n",
       "      <td>1</td>\n",
       "      <td>0.100000</td>\n",
       "    </tr>\n",
       "    <tr>\n",
       "      <th>20</th>\n",
       "      <td>Mouse01_Lugol_15pct_20230411</td>\n",
       "      <td>rec</td>\n",
       "      <td>0</td>\n",
       "      <td>0</td>\n",
       "      <td>1</td>\n",
       "      <td>0.100000</td>\n",
       "    </tr>\n",
       "    <tr>\n",
       "      <th>21</th>\n",
       "      <td>Mouse01_Lugol_15pct_20230421</td>\n",
       "      <td>rec</td>\n",
       "      <td>0</td>\n",
       "      <td>0</td>\n",
       "      <td>1</td>\n",
       "      <td>0.100000</td>\n",
       "    </tr>\n",
       "    <tr>\n",
       "      <th>22</th>\n",
       "      <td>Mouse01_Lugol_15pct_20230501</td>\n",
       "      <td>rec</td>\n",
       "      <td>0</td>\n",
       "      <td>0</td>\n",
       "      <td>1</td>\n",
       "      <td>0.100000</td>\n",
       "    </tr>\n",
       "    <tr>\n",
       "      <th>23</th>\n",
       "      <td>Mouse02_Lugol_15pct_20230501</td>\n",
       "      <td>rec</td>\n",
       "      <td>0</td>\n",
       "      <td>0</td>\n",
       "      <td>1</td>\n",
       "      <td>0.100000</td>\n",
       "    </tr>\n",
       "    <tr>\n",
       "      <th>24</th>\n",
       "      <td>Mouse01_Lugol_15pct_20230510</td>\n",
       "      <td>rec_09um</td>\n",
       "      <td>0</td>\n",
       "      <td>0</td>\n",
       "      <td>0</td>\n",
       "      <td>0.151022</td>\n",
       "    </tr>\n",
       "  </tbody>\n",
       "</table>\n",
       "</div>"
      ],
      "text/plain": [
       "                          Sample      Scan  BeamHardeningCorrection  \\\n",
       "0         Mouse01_Nativ_20220905       rec                        0   \n",
       "1         Mouse02_Nativ_20220905       rec                        0   \n",
       "2   Mouse01_Lugol_15pct_20220914       rec                        0   \n",
       "3   Mouse01_Lugol_15pct_20220921       rec                        0   \n",
       "4   Mouse01_Lugol_15pct_20220928       rec                        0   \n",
       "5   Mouse01_Lugol_15pct_20221017       rec                        0   \n",
       "6   Mouse01_Lugol_15pct_20221027       rec                        0   \n",
       "7   Mouse01_Lugol_15pct_20221107       rec                        0   \n",
       "8   Mouse01_Lugol_15pct_20221117       rec                        0   \n",
       "9   Mouse01_Lugol_15pct_20221128       rec                        0   \n",
       "10  Mouse01_Lugol_15pct_20221209       rec                        0   \n",
       "11  Mouse01_Lugol_15pct_20221223       rec                        0   \n",
       "12  Mouse01_Lugol_15pct_20230104       rec                        0   \n",
       "13  Mouse01_Lugol_15pct_20230113       rec                        0   \n",
       "14  Mouse01_Lugol_15pct_20230125       rec                        0   \n",
       "15  Mouse01_Lugol_15pct_20230203       rec                        0   \n",
       "16  Mouse01_Lugol_15pct_20230214       rec                        0   \n",
       "17  Mouse01_Lugol_15pct_20230227       rec                        0   \n",
       "18  Mouse01_Lugol_15pct_20230317       rec                        0   \n",
       "19  Mouse01_Lugol_15pct_20230330       rec                        0   \n",
       "20  Mouse01_Lugol_15pct_20230411       rec                        0   \n",
       "21  Mouse01_Lugol_15pct_20230421       rec                        0   \n",
       "22  Mouse01_Lugol_15pct_20230501       rec                        0   \n",
       "23  Mouse02_Lugol_15pct_20230501       rec                        0   \n",
       "24  Mouse01_Lugol_15pct_20230510  rec_09um                        0   \n",
       "\n",
       "    DefectPixelMasking  RingartefactCorrection  Grayvalue  \n",
       "0                    0                       1   0.100000  \n",
       "1                    0                       1   0.100000  \n",
       "2                    0                       1   0.100000  \n",
       "3                    0                       1   0.100000  \n",
       "4                    0                       1   0.100000  \n",
       "5                    0                       1   0.100000  \n",
       "6                    0                       1   0.100000  \n",
       "7                    0                       1   0.100000  \n",
       "8                    0                       1   0.100000  \n",
       "9                    0                       1   0.100000  \n",
       "10                   0                       1   0.100000  \n",
       "11                   0                       1   0.100000  \n",
       "12                   0                       1   0.100000  \n",
       "13                   0                       1   0.100000  \n",
       "14                   0                       1   0.100000  \n",
       "15                   0                       1   0.100000  \n",
       "16                   0                       1   0.100000  \n",
       "17                   0                       1   0.100000  \n",
       "18                   0                       1   0.100000  \n",
       "19                   0                       1   0.100000  \n",
       "20                   0                       1   0.100000  \n",
       "21                   0                       1   0.100000  \n",
       "22                   0                       1   0.100000  \n",
       "23                   0                       1   0.100000  \n",
       "24                   0                       0   0.151022  "
      ]
     },
     "execution_count": 49,
     "metadata": {},
     "output_type": "execute_result"
    }
   ],
   "source": [
    "Data[['Sample', 'Scan',\n",
    "      'BeamHardeningCorrection', 'DefectPixelMasking',\n",
    "      'RingartefactCorrection', 'Grayvalue',]]"
   ]
  },
  {
   "cell_type": "code",
   "execution_count": 50,
   "metadata": {
    "tags": []
   },
   "outputs": [],
   "source": [
    "# if len(Data['Grayvalue'].unique()) > 1:\n",
    "#     print('We reconstructed the datasets with different maximum gray values, namely')\n",
    "#     for gv in Data['Grayvalue'].unique():\n",
    "#         print(gv, 'for Samples ', end='')\n",
    "#         for c, row in Data.iterrows():\n",
    "#             if float(gv) == row['Grayvalue']:\n",
    "#                 print(os.path.join(row['Sample'], row['Scan']), end=', ')\n",
    "#         print('')\n",
    "# else:\n",
    "#     print('We reconstructed all datasets with equal maximum gray value, namely %s.' % Data['Grayvalue'].unique()[0])"
   ]
  },
  {
   "cell_type": "code",
   "execution_count": 51,
   "metadata": {
    "tags": []
   },
   "outputs": [],
   "source": [
    "# Data[['Sample', 'Scan',\n",
    "#       'Voxelsize', 'Scanner',\n",
    "#       'Scan date', 'CameraWindow', 'RotationStep', 'Averaging',\n",
    "#       'Scan time', 'Stacks', 'Scan time total']]"
   ]
  },
  {
   "cell_type": "code",
   "execution_count": 52,
   "metadata": {
    "tags": []
   },
   "outputs": [
    {
     "name": "stdout",
     "output_type": "stream",
     "text": [
      "In total, we scanned for 52 hours and 36 minutes)\n",
      "\t - Of these, we scanned 52 hours and 36 minutes on the SkyScan 2214, for 25 scans\n"
     ]
    }
   ],
   "source": [
    "# Get an overview over the total scan time\n",
    "# Nice output based on https://stackoverflow.com/a/8907407/323100\n",
    "total_seconds = int(Data['Scan time total'].sum())\n",
    "hours, remainder = divmod(total_seconds,60*60)\n",
    "minutes, seconds = divmod(remainder,60)\n",
    "print('In total, we scanned for %s hours and %s minutes)' % (hours, minutes))\n",
    "for machine in Data['Scanner'].unique():\n",
    "    total_seconds = int(Data[Data['Scanner'] == machine]['Scan time total'].sum())\n",
    "    hours, remainder = divmod(total_seconds,60*60)\n",
    "    minutes, seconds = divmod(remainder,60)\n",
    "    print('\\t - Of these, we scanned %s hours and %s minutes on the %s,'\n",
    "          ' for %s scans' % (hours,\n",
    "                             minutes,\n",
    "                             machine,\n",
    "                             len(Data[Data['Scanner'] == machine])))"
   ]
  },
  {
   "cell_type": "code",
   "execution_count": 53,
   "metadata": {
    "tags": []
   },
   "outputs": [],
   "source": [
    "Data[['Sample', 'Scan',\n",
    "      'Voxelsize', 'Scanner',\n",
    "      'Scan date', 'CameraWindow', 'RotationStep', 'Averaging', 'Scan time', 'Stacks' ]].to_excel('Mouse.Details.xlsx')"
   ]
  },
  {
   "cell_type": "code",
   "execution_count": 54,
   "metadata": {
    "tags": []
   },
   "outputs": [],
   "source": [
    "Data[['Sample', 'Scan',\n",
    "      'Voxelsize', 'Scanner',\n",
    "      'Scan date', 'CameraWindow',\n",
    "      'RotationStep', 'Averaging', 'Scan time', 'Stacks' ]].to_excel(os.path.join(Root,'Mouse.Details.xlsx'))"
   ]
  },
  {
   "cell_type": "code",
   "execution_count": 55,
   "metadata": {
    "tags": []
   },
   "outputs": [
    {
     "data": {
      "text/html": [
       "<div>\n",
       "<style scoped>\n",
       "    .dataframe tbody tr th:only-of-type {\n",
       "        vertical-align: middle;\n",
       "    }\n",
       "\n",
       "    .dataframe tbody tr th {\n",
       "        vertical-align: top;\n",
       "    }\n",
       "\n",
       "    .dataframe thead th {\n",
       "        text-align: right;\n",
       "    }\n",
       "</style>\n",
       "<table border=\"1\" class=\"dataframe\">\n",
       "  <thead>\n",
       "    <tr style=\"text-align: right;\">\n",
       "      <th></th>\n",
       "      <th>index</th>\n",
       "      <th>LogFile</th>\n",
       "      <th>Folder</th>\n",
       "      <th>XYAlignment</th>\n",
       "      <th>Sample</th>\n",
       "      <th>SampleName</th>\n",
       "      <th>Scan</th>\n",
       "      <th>Reconstructions</th>\n",
       "      <th>Number of reconstructions</th>\n",
       "      <th>Scanner</th>\n",
       "      <th>...</th>\n",
       "      <th>Scan date</th>\n",
       "      <th>Scan time</th>\n",
       "      <th>Grayvalue</th>\n",
       "      <th>RingartefactCorrection</th>\n",
       "      <th>BeamHardeningCorrection</th>\n",
       "      <th>DefectPixelMasking</th>\n",
       "      <th>ROI</th>\n",
       "      <th>Time passed</th>\n",
       "      <th>Days passed</th>\n",
       "      <th>Scan time total</th>\n",
       "    </tr>\n",
       "  </thead>\n",
       "  <tbody>\n",
       "    <tr>\n",
       "      <th>20</th>\n",
       "      <td>95</td>\n",
       "      <td>/home/habi/research-storage-djonov/Aaldijk/Mou...</td>\n",
       "      <td>/home/habi/research-storage-djonov/Aaldijk/Mou...</td>\n",
       "      <td>[]</td>\n",
       "      <td>Mouse01_Lugol_15pct_20230411</td>\n",
       "      <td>Mouse01</td>\n",
       "      <td>rec</td>\n",
       "      <td>[/home/habi/research-storage-djonov/Aaldijk/Mo...</td>\n",
       "      <td>1941</td>\n",
       "      <td>SkyScan 2214</td>\n",
       "      <td>...</td>\n",
       "      <td>2023-04-11 12:25:39</td>\n",
       "      <td>6818.0</td>\n",
       "      <td>0.100000</td>\n",
       "      <td>1</td>\n",
       "      <td>0</td>\n",
       "      <td>0</td>\n",
       "      <td>(2403, 459, 507, 2451)</td>\n",
       "      <td>218 days 00:20:08</td>\n",
       "      <td>218 days</td>\n",
       "      <td>6818.0</td>\n",
       "    </tr>\n",
       "    <tr>\n",
       "      <th>21</th>\n",
       "      <td>56</td>\n",
       "      <td>/home/habi/research-storage-djonov/Aaldijk/Mou...</td>\n",
       "      <td>/home/habi/research-storage-djonov/Aaldijk/Mou...</td>\n",
       "      <td>[]</td>\n",
       "      <td>Mouse01_Lugol_15pct_20230421</td>\n",
       "      <td>Mouse01</td>\n",
       "      <td>rec</td>\n",
       "      <td>[/home/habi/research-storage-djonov/Aaldijk/Mo...</td>\n",
       "      <td>1941</td>\n",
       "      <td>SkyScan 2214</td>\n",
       "      <td>...</td>\n",
       "      <td>2023-04-21 11:53:00</td>\n",
       "      <td>6502.0</td>\n",
       "      <td>0.100000</td>\n",
       "      <td>1</td>\n",
       "      <td>0</td>\n",
       "      <td>0</td>\n",
       "      <td>(2630, 686, 365, 2309)</td>\n",
       "      <td>227 days 23:47:29</td>\n",
       "      <td>228 days</td>\n",
       "      <td>6502.0</td>\n",
       "    </tr>\n",
       "    <tr>\n",
       "      <th>22</th>\n",
       "      <td>78</td>\n",
       "      <td>/home/habi/research-storage-djonov/Aaldijk/Mou...</td>\n",
       "      <td>/home/habi/research-storage-djonov/Aaldijk/Mou...</td>\n",
       "      <td>[]</td>\n",
       "      <td>Mouse01_Lugol_15pct_20230501</td>\n",
       "      <td>Mouse01</td>\n",
       "      <td>rec</td>\n",
       "      <td>[/home/habi/research-storage-djonov/Aaldijk/Mo...</td>\n",
       "      <td>1941</td>\n",
       "      <td>SkyScan 2214</td>\n",
       "      <td>...</td>\n",
       "      <td>2023-05-01 14:07:43</td>\n",
       "      <td>8934.0</td>\n",
       "      <td>0.100000</td>\n",
       "      <td>1</td>\n",
       "      <td>0</td>\n",
       "      <td>0</td>\n",
       "      <td>(2520, 576, 620, 2564)</td>\n",
       "      <td>238 days 02:02:12</td>\n",
       "      <td>238 days</td>\n",
       "      <td>8934.0</td>\n",
       "    </tr>\n",
       "    <tr>\n",
       "      <th>23</th>\n",
       "      <td>89</td>\n",
       "      <td>/home/habi/research-storage-djonov/Aaldijk/Mou...</td>\n",
       "      <td>/home/habi/research-storage-djonov/Aaldijk/Mou...</td>\n",
       "      <td>[]</td>\n",
       "      <td>Mouse02_Lugol_15pct_20230501</td>\n",
       "      <td>Mouse02</td>\n",
       "      <td>rec</td>\n",
       "      <td>[/home/habi/research-storage-djonov/Aaldijk/Mo...</td>\n",
       "      <td>1941</td>\n",
       "      <td>SkyScan 2214</td>\n",
       "      <td>...</td>\n",
       "      <td>2023-05-01 17:08:20</td>\n",
       "      <td>8639.0</td>\n",
       "      <td>0.100000</td>\n",
       "      <td>1</td>\n",
       "      <td>0</td>\n",
       "      <td>0</td>\n",
       "      <td>(2570, 626, 667, 2611)</td>\n",
       "      <td>238 days 05:02:49</td>\n",
       "      <td>238 days</td>\n",
       "      <td>8639.0</td>\n",
       "    </tr>\n",
       "    <tr>\n",
       "      <th>24</th>\n",
       "      <td>83</td>\n",
       "      <td>/home/habi/research-storage-djonov/Aaldijk/Mou...</td>\n",
       "      <td>/home/habi/research-storage-djonov/Aaldijk/Mou...</td>\n",
       "      <td>[]</td>\n",
       "      <td>Mouse01_Lugol_15pct_20230510</td>\n",
       "      <td>Mouse01</td>\n",
       "      <td>rec_09um</td>\n",
       "      <td>[/home/habi/research-storage-djonov/Aaldijk/Mo...</td>\n",
       "      <td>2995</td>\n",
       "      <td>SkyScan 2214</td>\n",
       "      <td>...</td>\n",
       "      <td>2023-05-10 13:10:00</td>\n",
       "      <td>9649.0</td>\n",
       "      <td>0.151022</td>\n",
       "      <td>0</td>\n",
       "      <td>0</td>\n",
       "      <td>0</td>\n",
       "      <td>False</td>\n",
       "      <td>247 days 01:04:29</td>\n",
       "      <td>247 days</td>\n",
       "      <td>9649.0</td>\n",
       "    </tr>\n",
       "  </tbody>\n",
       "</table>\n",
       "<p>5 rows × 28 columns</p>\n",
       "</div>"
      ],
      "text/plain": [
       "    index                                            LogFile  \\\n",
       "20     95  /home/habi/research-storage-djonov/Aaldijk/Mou...   \n",
       "21     56  /home/habi/research-storage-djonov/Aaldijk/Mou...   \n",
       "22     78  /home/habi/research-storage-djonov/Aaldijk/Mou...   \n",
       "23     89  /home/habi/research-storage-djonov/Aaldijk/Mou...   \n",
       "24     83  /home/habi/research-storage-djonov/Aaldijk/Mou...   \n",
       "\n",
       "                                               Folder XYAlignment  \\\n",
       "20  /home/habi/research-storage-djonov/Aaldijk/Mou...          []   \n",
       "21  /home/habi/research-storage-djonov/Aaldijk/Mou...          []   \n",
       "22  /home/habi/research-storage-djonov/Aaldijk/Mou...          []   \n",
       "23  /home/habi/research-storage-djonov/Aaldijk/Mou...          []   \n",
       "24  /home/habi/research-storage-djonov/Aaldijk/Mou...          []   \n",
       "\n",
       "                          Sample SampleName      Scan  \\\n",
       "20  Mouse01_Lugol_15pct_20230411    Mouse01       rec   \n",
       "21  Mouse01_Lugol_15pct_20230421    Mouse01       rec   \n",
       "22  Mouse01_Lugol_15pct_20230501    Mouse01       rec   \n",
       "23  Mouse02_Lugol_15pct_20230501    Mouse02       rec   \n",
       "24  Mouse01_Lugol_15pct_20230510    Mouse01  rec_09um   \n",
       "\n",
       "                                      Reconstructions  \\\n",
       "20  [/home/habi/research-storage-djonov/Aaldijk/Mo...   \n",
       "21  [/home/habi/research-storage-djonov/Aaldijk/Mo...   \n",
       "22  [/home/habi/research-storage-djonov/Aaldijk/Mo...   \n",
       "23  [/home/habi/research-storage-djonov/Aaldijk/Mo...   \n",
       "24  [/home/habi/research-storage-djonov/Aaldijk/Mo...   \n",
       "\n",
       "    Number of reconstructions       Scanner  ...           Scan date  \\\n",
       "20                       1941  SkyScan 2214  ... 2023-04-11 12:25:39   \n",
       "21                       1941  SkyScan 2214  ... 2023-04-21 11:53:00   \n",
       "22                       1941  SkyScan 2214  ... 2023-05-01 14:07:43   \n",
       "23                       1941  SkyScan 2214  ... 2023-05-01 17:08:20   \n",
       "24                       2995  SkyScan 2214  ... 2023-05-10 13:10:00   \n",
       "\n",
       "    Scan time  Grayvalue RingartefactCorrection  BeamHardeningCorrection  \\\n",
       "20     6818.0   0.100000                      1                        0   \n",
       "21     6502.0   0.100000                      1                        0   \n",
       "22     8934.0   0.100000                      1                        0   \n",
       "23     8639.0   0.100000                      1                        0   \n",
       "24     9649.0   0.151022                      0                        0   \n",
       "\n",
       "    DefectPixelMasking                     ROI       Time passed Days passed  \\\n",
       "20                   0  (2403, 459, 507, 2451) 218 days 00:20:08    218 days   \n",
       "21                   0  (2630, 686, 365, 2309) 227 days 23:47:29    228 days   \n",
       "22                   0  (2520, 576, 620, 2564) 238 days 02:02:12    238 days   \n",
       "23                   0  (2570, 626, 667, 2611) 238 days 05:02:49    238 days   \n",
       "24                   0                   False 247 days 01:04:29    247 days   \n",
       "\n",
       "    Scan time total  \n",
       "20           6818.0  \n",
       "21           6502.0  \n",
       "22           8934.0  \n",
       "23           8639.0  \n",
       "24           9649.0  \n",
       "\n",
       "[5 rows x 28 columns]"
      ]
     },
     "execution_count": 55,
     "metadata": {},
     "output_type": "execute_result"
    }
   ],
   "source": [
    "Data.tail()"
   ]
  },
  {
   "cell_type": "code",
   "execution_count": 56,
   "metadata": {
    "tags": []
   },
   "outputs": [],
   "source": [
    "# Data['PreviewImagePath'] = [sorted(glob.glob(os.path.join(f, '*_spr.bmp')))[0] for f in Data['Folder']]\n",
    "# Data['PreviewImage'] = [dask_image.imread.imread(pip)\n",
    "#                         if pip\n",
    "#                         else numpy.random.random((100, 100)) for pip in Data['PreviewImagePath']]"
   ]
  },
  {
   "cell_type": "code",
   "execution_count": 57,
   "metadata": {
    "tags": []
   },
   "outputs": [],
   "source": [
    "# Make an approximately square overview image\n",
    "lines = 3"
   ]
  },
  {
   "cell_type": "code",
   "execution_count": 58,
   "metadata": {
    "tags": []
   },
   "outputs": [],
   "source": [
    "# for c, row in Data.iterrows():\n",
    "#     plt.subplot(lines, int(numpy.ceil(len(Data) / float(lines))), c + 1)\n",
    "#     plt.imshow(row.PreviewImage.squeeze())\n",
    "#     plt.title('%s at day %s' % (row['SampleName'], row['Days passed'].days))\n",
    "#     plt.gca().add_artist(ScaleBar(row['Voxelsize'],\n",
    "#                                   'um',\n",
    "#                                   color='black',\n",
    "#                                   frameon=True))\n",
    "#     plt.axis('off')\n",
    "# plt.tight_layout()\n",
    "# plt.savefig(os.path.join(Root, 'ScanOverviews.Mouse.png'),\n",
    "#             bbox_inches='tight')\n",
    "# plt.show()"
   ]
  },
  {
   "cell_type": "code",
   "execution_count": 59,
   "metadata": {
    "tags": []
   },
   "outputs": [
    {
     "data": {
      "application/vnd.jupyter.widget-view+json": {
       "model_id": "2b8c5e3b6bc24a4d8d4f981e438d33c0",
       "version_major": 2,
       "version_minor": 0
      },
      "text/plain": [
       "Load reconstructions:   0%|          | 0/25 [00:00<?, ?it/s]"
      ]
     },
     "metadata": {},
     "output_type": "display_data"
    }
   ],
   "source": [
    "# Load all reconstructions into ephemereal DASK arrays\n",
    "Reconstructions = [None] * len(Data)\n",
    "for c, row in tqdm(Data.iterrows(),\n",
    "                   desc='Load reconstructions',\n",
    "                   total=len(Data)):\n",
    "    Reconstructions[c] = dask_image.imread.imread(os.path.join(row['Folder'],\n",
    "                                                               '*rec*.png'))"
   ]
  },
  {
   "cell_type": "code",
   "execution_count": 60,
   "metadata": {
    "tags": []
   },
   "outputs": [],
   "source": [
    "# Check if something went wrong\n",
    "# for file in Data['OutputNameRec']:\n",
    "#     print(file)\n",
    "#     dask.array.from_zarr(file)"
   ]
  },
  {
   "cell_type": "code",
   "execution_count": 82,
   "metadata": {
    "tags": []
   },
   "outputs": [],
   "source": [
    "# How big are the datasets?\n",
    "Data['Size'] = [rec.shape for rec in Reconstructions]"
   ]
  },
  {
   "cell_type": "code",
   "execution_count": 83,
   "metadata": {
    "tags": []
   },
   "outputs": [
    {
     "data": {
      "text/html": [
       "<div>\n",
       "<style scoped>\n",
       "    .dataframe tbody tr th:only-of-type {\n",
       "        vertical-align: middle;\n",
       "    }\n",
       "\n",
       "    .dataframe tbody tr th {\n",
       "        vertical-align: top;\n",
       "    }\n",
       "\n",
       "    .dataframe thead th {\n",
       "        text-align: right;\n",
       "    }\n",
       "</style>\n",
       "<table border=\"1\" class=\"dataframe\">\n",
       "  <thead>\n",
       "    <tr style=\"text-align: right;\">\n",
       "      <th></th>\n",
       "      <th>Sample</th>\n",
       "      <th>Scan</th>\n",
       "      <th>Size</th>\n",
       "      <th>ROI</th>\n",
       "      <th>RingartefactCorrection</th>\n",
       "      <th>Grayvalue</th>\n",
       "    </tr>\n",
       "  </thead>\n",
       "  <tbody>\n",
       "    <tr>\n",
       "      <th>0</th>\n",
       "      <td>Mouse01_Nativ_20220905</td>\n",
       "      <td>rec</td>\n",
       "      <td>(1941, 1944, 1944)</td>\n",
       "      <td>(2622, 678, 445, 2389)</td>\n",
       "      <td>1</td>\n",
       "      <td>0.1</td>\n",
       "    </tr>\n",
       "    <tr>\n",
       "      <th>1</th>\n",
       "      <td>Mouse01_Lugol_15pct_20220914</td>\n",
       "      <td>rec</td>\n",
       "      <td>(1941, 1944, 1944)</td>\n",
       "      <td>(2642, 698, 500, 2444)</td>\n",
       "      <td>1</td>\n",
       "      <td>0.1</td>\n",
       "    </tr>\n",
       "    <tr>\n",
       "      <th>2</th>\n",
       "      <td>Mouse01_Lugol_15pct_20220921</td>\n",
       "      <td>rec</td>\n",
       "      <td>(1941, 1944, 1944)</td>\n",
       "      <td>(2517, 573, 640, 2584)</td>\n",
       "      <td>1</td>\n",
       "      <td>0.1</td>\n",
       "    </tr>\n",
       "    <tr>\n",
       "      <th>3</th>\n",
       "      <td>Mouse01_Lugol_15pct_20220928</td>\n",
       "      <td>rec</td>\n",
       "      <td>(1941, 1944, 1944)</td>\n",
       "      <td>(2368, 424, 715, 2659)</td>\n",
       "      <td>1</td>\n",
       "      <td>0.1</td>\n",
       "    </tr>\n",
       "    <tr>\n",
       "      <th>4</th>\n",
       "      <td>Mouse01_Lugol_15pct_20221017</td>\n",
       "      <td>rec</td>\n",
       "      <td>(1941, 1944, 1944)</td>\n",
       "      <td>(2369, 425, 652, 2596)</td>\n",
       "      <td>1</td>\n",
       "      <td>0.1</td>\n",
       "    </tr>\n",
       "    <tr>\n",
       "      <th>5</th>\n",
       "      <td>Mouse01_Lugol_15pct_20221027</td>\n",
       "      <td>rec</td>\n",
       "      <td>(1941, 1944, 1944)</td>\n",
       "      <td>(2420, 476, 530, 2474)</td>\n",
       "      <td>1</td>\n",
       "      <td>0.1</td>\n",
       "    </tr>\n",
       "    <tr>\n",
       "      <th>6</th>\n",
       "      <td>Mouse01_Lugol_15pct_20221107</td>\n",
       "      <td>rec</td>\n",
       "      <td>(1941, 1944, 1944)</td>\n",
       "      <td>(2414, 470, 656, 2600)</td>\n",
       "      <td>1</td>\n",
       "      <td>0.1</td>\n",
       "    </tr>\n",
       "    <tr>\n",
       "      <th>7</th>\n",
       "      <td>Mouse01_Lugol_15pct_20221117</td>\n",
       "      <td>rec</td>\n",
       "      <td>(1941, 1944, 1944)</td>\n",
       "      <td>(2395, 451, 564, 2508)</td>\n",
       "      <td>1</td>\n",
       "      <td>0.1</td>\n",
       "    </tr>\n",
       "    <tr>\n",
       "      <th>8</th>\n",
       "      <td>Mouse01_Lugol_15pct_20221128</td>\n",
       "      <td>rec</td>\n",
       "      <td>(1941, 1944, 1944)</td>\n",
       "      <td>(2424, 480, 645, 2589)</td>\n",
       "      <td>1</td>\n",
       "      <td>0.1</td>\n",
       "    </tr>\n",
       "    <tr>\n",
       "      <th>9</th>\n",
       "      <td>Mouse01_Lugol_15pct_20221209</td>\n",
       "      <td>rec</td>\n",
       "      <td>(1941, 1944, 1944)</td>\n",
       "      <td>(2017, 73, 275, 2219)</td>\n",
       "      <td>1</td>\n",
       "      <td>0.1</td>\n",
       "    </tr>\n",
       "    <tr>\n",
       "      <th>10</th>\n",
       "      <td>Mouse01_Lugol_15pct_20221223</td>\n",
       "      <td>rec</td>\n",
       "      <td>(1941, 1944, 1944)</td>\n",
       "      <td>(2334, 390, 595, 2539)</td>\n",
       "      <td>1</td>\n",
       "      <td>0.1</td>\n",
       "    </tr>\n",
       "    <tr>\n",
       "      <th>11</th>\n",
       "      <td>Mouse01_Lugol_15pct_20230104</td>\n",
       "      <td>rec</td>\n",
       "      <td>(1941, 1944, 1944)</td>\n",
       "      <td>(2272, 328, 525, 2469)</td>\n",
       "      <td>1</td>\n",
       "      <td>0.1</td>\n",
       "    </tr>\n",
       "    <tr>\n",
       "      <th>12</th>\n",
       "      <td>Mouse01_Lugol_15pct_20230113</td>\n",
       "      <td>rec</td>\n",
       "      <td>(1941, 1944, 1944)</td>\n",
       "      <td>(2529, 585, 526, 2470)</td>\n",
       "      <td>1</td>\n",
       "      <td>0.1</td>\n",
       "    </tr>\n",
       "    <tr>\n",
       "      <th>13</th>\n",
       "      <td>Mouse01_Lugol_15pct_20230125</td>\n",
       "      <td>rec</td>\n",
       "      <td>(1941, 1944, 1944)</td>\n",
       "      <td>(2385, 441, 622, 2566)</td>\n",
       "      <td>1</td>\n",
       "      <td>0.1</td>\n",
       "    </tr>\n",
       "    <tr>\n",
       "      <th>14</th>\n",
       "      <td>Mouse01_Lugol_15pct_20230203</td>\n",
       "      <td>rec</td>\n",
       "      <td>(1941, 1944, 1944)</td>\n",
       "      <td>(2368, 424, 589, 2533)</td>\n",
       "      <td>1</td>\n",
       "      <td>0.1</td>\n",
       "    </tr>\n",
       "    <tr>\n",
       "      <th>15</th>\n",
       "      <td>Mouse01_Lugol_15pct_20230214</td>\n",
       "      <td>rec</td>\n",
       "      <td>(1941, 1944, 1944)</td>\n",
       "      <td>(2326, 382, 418, 2362)</td>\n",
       "      <td>1</td>\n",
       "      <td>0.1</td>\n",
       "    </tr>\n",
       "    <tr>\n",
       "      <th>16</th>\n",
       "      <td>Mouse01_Lugol_15pct_20230227</td>\n",
       "      <td>rec</td>\n",
       "      <td>(1941, 1944, 1944)</td>\n",
       "      <td>(2485, 541, 588, 2532)</td>\n",
       "      <td>1</td>\n",
       "      <td>0.1</td>\n",
       "    </tr>\n",
       "    <tr>\n",
       "      <th>17</th>\n",
       "      <td>Mouse01_Lugol_15pct_20230317</td>\n",
       "      <td>rec</td>\n",
       "      <td>(1941, 1944, 1944)</td>\n",
       "      <td>(2537, 593, 590, 2534)</td>\n",
       "      <td>1</td>\n",
       "      <td>0.1</td>\n",
       "    </tr>\n",
       "    <tr>\n",
       "      <th>18</th>\n",
       "      <td>Mouse01_Lugol_15pct_20230330</td>\n",
       "      <td>rec</td>\n",
       "      <td>(1941, 1944, 1944)</td>\n",
       "      <td>(2490, 546, 627, 2571)</td>\n",
       "      <td>1</td>\n",
       "      <td>0.1</td>\n",
       "    </tr>\n",
       "    <tr>\n",
       "      <th>19</th>\n",
       "      <td>Mouse01_Lugol_15pct_20230411</td>\n",
       "      <td>rec</td>\n",
       "      <td>(1941, 1944, 1944)</td>\n",
       "      <td>(2403, 459, 507, 2451)</td>\n",
       "      <td>1</td>\n",
       "      <td>0.1</td>\n",
       "    </tr>\n",
       "    <tr>\n",
       "      <th>20</th>\n",
       "      <td>Mouse01_Lugol_15pct_20230421</td>\n",
       "      <td>rec</td>\n",
       "      <td>(1941, 1944, 1944)</td>\n",
       "      <td>(2630, 686, 365, 2309)</td>\n",
       "      <td>1</td>\n",
       "      <td>0.1</td>\n",
       "    </tr>\n",
       "    <tr>\n",
       "      <th>21</th>\n",
       "      <td>Mouse01_Lugol_15pct_20230501</td>\n",
       "      <td>rec</td>\n",
       "      <td>(1941, 1944, 1944)</td>\n",
       "      <td>(2520, 576, 620, 2564)</td>\n",
       "      <td>1</td>\n",
       "      <td>0.1</td>\n",
       "    </tr>\n",
       "  </tbody>\n",
       "</table>\n",
       "</div>"
      ],
      "text/plain": [
       "                          Sample Scan                Size  \\\n",
       "0         Mouse01_Nativ_20220905  rec  (1941, 1944, 1944)   \n",
       "1   Mouse01_Lugol_15pct_20220914  rec  (1941, 1944, 1944)   \n",
       "2   Mouse01_Lugol_15pct_20220921  rec  (1941, 1944, 1944)   \n",
       "3   Mouse01_Lugol_15pct_20220928  rec  (1941, 1944, 1944)   \n",
       "4   Mouse01_Lugol_15pct_20221017  rec  (1941, 1944, 1944)   \n",
       "5   Mouse01_Lugol_15pct_20221027  rec  (1941, 1944, 1944)   \n",
       "6   Mouse01_Lugol_15pct_20221107  rec  (1941, 1944, 1944)   \n",
       "7   Mouse01_Lugol_15pct_20221117  rec  (1941, 1944, 1944)   \n",
       "8   Mouse01_Lugol_15pct_20221128  rec  (1941, 1944, 1944)   \n",
       "9   Mouse01_Lugol_15pct_20221209  rec  (1941, 1944, 1944)   \n",
       "10  Mouse01_Lugol_15pct_20221223  rec  (1941, 1944, 1944)   \n",
       "11  Mouse01_Lugol_15pct_20230104  rec  (1941, 1944, 1944)   \n",
       "12  Mouse01_Lugol_15pct_20230113  rec  (1941, 1944, 1944)   \n",
       "13  Mouse01_Lugol_15pct_20230125  rec  (1941, 1944, 1944)   \n",
       "14  Mouse01_Lugol_15pct_20230203  rec  (1941, 1944, 1944)   \n",
       "15  Mouse01_Lugol_15pct_20230214  rec  (1941, 1944, 1944)   \n",
       "16  Mouse01_Lugol_15pct_20230227  rec  (1941, 1944, 1944)   \n",
       "17  Mouse01_Lugol_15pct_20230317  rec  (1941, 1944, 1944)   \n",
       "18  Mouse01_Lugol_15pct_20230330  rec  (1941, 1944, 1944)   \n",
       "19  Mouse01_Lugol_15pct_20230411  rec  (1941, 1944, 1944)   \n",
       "20  Mouse01_Lugol_15pct_20230421  rec  (1941, 1944, 1944)   \n",
       "21  Mouse01_Lugol_15pct_20230501  rec  (1941, 1944, 1944)   \n",
       "\n",
       "                       ROI  RingartefactCorrection  Grayvalue  \n",
       "0   (2622, 678, 445, 2389)                       1        0.1  \n",
       "1   (2642, 698, 500, 2444)                       1        0.1  \n",
       "2   (2517, 573, 640, 2584)                       1        0.1  \n",
       "3   (2368, 424, 715, 2659)                       1        0.1  \n",
       "4   (2369, 425, 652, 2596)                       1        0.1  \n",
       "5   (2420, 476, 530, 2474)                       1        0.1  \n",
       "6   (2414, 470, 656, 2600)                       1        0.1  \n",
       "7   (2395, 451, 564, 2508)                       1        0.1  \n",
       "8   (2424, 480, 645, 2589)                       1        0.1  \n",
       "9    (2017, 73, 275, 2219)                       1        0.1  \n",
       "10  (2334, 390, 595, 2539)                       1        0.1  \n",
       "11  (2272, 328, 525, 2469)                       1        0.1  \n",
       "12  (2529, 585, 526, 2470)                       1        0.1  \n",
       "13  (2385, 441, 622, 2566)                       1        0.1  \n",
       "14  (2368, 424, 589, 2533)                       1        0.1  \n",
       "15  (2326, 382, 418, 2362)                       1        0.1  \n",
       "16  (2485, 541, 588, 2532)                       1        0.1  \n",
       "17  (2537, 593, 590, 2534)                       1        0.1  \n",
       "18  (2490, 546, 627, 2571)                       1        0.1  \n",
       "19  (2403, 459, 507, 2451)                       1        0.1  \n",
       "20  (2630, 686, 365, 2309)                       1        0.1  \n",
       "21  (2520, 576, 620, 2564)                       1        0.1  "
      ]
     },
     "execution_count": 83,
     "metadata": {},
     "output_type": "execute_result"
    }
   ],
   "source": [
    "Data[['Sample', 'Scan', 'Size', 'ROI', 'RingartefactCorrection', 'Grayvalue']]"
   ]
  },
  {
   "cell_type": "code",
   "execution_count": 84,
   "metadata": {
    "tags": []
   },
   "outputs": [
    {
     "name": "stdout",
     "output_type": "stream",
     "text": [
      "For the SkyScan 2214 we have reconstruction gray values of [(1941, 1944, 1944)]\n"
     ]
    }
   ],
   "source": [
    "# Check defect pixel masking parameters\n",
    "for scanner in Data.Scanner.unique():\n",
    "    print('For the %s we have '\n",
    "          'reconstruction gray values of %s' % (scanner,\n",
    "                                                Data[Data.Scanner==scanner]['Size'].unique()))"
   ]
  },
  {
   "cell_type": "code",
   "execution_count": 85,
   "metadata": {
    "tags": []
   },
   "outputs": [],
   "source": [
    "# The three cardinal directions\n",
    "directions = ['Axial',\n",
    "              'Coronal',\n",
    "              'Sagittal']"
   ]
  },
  {
   "cell_type": "code",
   "execution_count": 86,
   "metadata": {
    "tags": []
   },
   "outputs": [
    {
     "data": {
      "application/vnd.jupyter.widget-view+json": {
       "model_id": "",
       "version_major": 2,
       "version_minor": 0
      },
      "text/plain": [
       "Middle images:   0%|          | 0/22 [00:00<?, ?it/s]"
      ]
     },
     "metadata": {},
     "output_type": "display_data"
    },
    {
     "data": {
      "application/vnd.jupyter.widget-view+json": {
       "model_id": "",
       "version_major": 2,
       "version_minor": 0
      },
      "text/plain": [
       "Mouse01_Nativ_20220905/rec:   0%|          | 0/3 [00:00<?, ?it/s]"
      ]
     },
     "metadata": {},
     "output_type": "display_data"
    },
    {
     "data": {
      "application/vnd.jupyter.widget-view+json": {
       "model_id": "",
       "version_major": 2,
       "version_minor": 0
      },
      "text/plain": [
       "Mouse01_Lugol_15pct_20220914/rec:   0%|          | 0/3 [00:00<?, ?it/s]"
      ]
     },
     "metadata": {},
     "output_type": "display_data"
    },
    {
     "data": {
      "application/vnd.jupyter.widget-view+json": {
       "model_id": "",
       "version_major": 2,
       "version_minor": 0
      },
      "text/plain": [
       "Mouse01_Lugol_15pct_20220921/rec:   0%|          | 0/3 [00:00<?, ?it/s]"
      ]
     },
     "metadata": {},
     "output_type": "display_data"
    },
    {
     "data": {
      "application/vnd.jupyter.widget-view+json": {
       "model_id": "",
       "version_major": 2,
       "version_minor": 0
      },
      "text/plain": [
       "Mouse01_Lugol_15pct_20220928/rec:   0%|          | 0/3 [00:00<?, ?it/s]"
      ]
     },
     "metadata": {},
     "output_type": "display_data"
    },
    {
     "data": {
      "application/vnd.jupyter.widget-view+json": {
       "model_id": "",
       "version_major": 2,
       "version_minor": 0
      },
      "text/plain": [
       "Mouse01_Lugol_15pct_20221017/rec:   0%|          | 0/3 [00:00<?, ?it/s]"
      ]
     },
     "metadata": {},
     "output_type": "display_data"
    },
    {
     "data": {
      "application/vnd.jupyter.widget-view+json": {
       "model_id": "",
       "version_major": 2,
       "version_minor": 0
      },
      "text/plain": [
       "Mouse01_Lugol_15pct_20221027/rec:   0%|          | 0/3 [00:00<?, ?it/s]"
      ]
     },
     "metadata": {},
     "output_type": "display_data"
    },
    {
     "data": {
      "application/vnd.jupyter.widget-view+json": {
       "model_id": "",
       "version_major": 2,
       "version_minor": 0
      },
      "text/plain": [
       "Mouse01_Lugol_15pct_20221107/rec:   0%|          | 0/3 [00:00<?, ?it/s]"
      ]
     },
     "metadata": {},
     "output_type": "display_data"
    },
    {
     "data": {
      "application/vnd.jupyter.widget-view+json": {
       "model_id": "",
       "version_major": 2,
       "version_minor": 0
      },
      "text/plain": [
       "Mouse01_Lugol_15pct_20221117/rec:   0%|          | 0/3 [00:00<?, ?it/s]"
      ]
     },
     "metadata": {},
     "output_type": "display_data"
    },
    {
     "data": {
      "application/vnd.jupyter.widget-view+json": {
       "model_id": "",
       "version_major": 2,
       "version_minor": 0
      },
      "text/plain": [
       "Mouse01_Lugol_15pct_20221128/rec:   0%|          | 0/3 [00:00<?, ?it/s]"
      ]
     },
     "metadata": {},
     "output_type": "display_data"
    },
    {
     "data": {
      "application/vnd.jupyter.widget-view+json": {
       "model_id": "",
       "version_major": 2,
       "version_minor": 0
      },
      "text/plain": [
       "Mouse01_Lugol_15pct_20221209/rec:   0%|          | 0/3 [00:00<?, ?it/s]"
      ]
     },
     "metadata": {},
     "output_type": "display_data"
    },
    {
     "data": {
      "application/vnd.jupyter.widget-view+json": {
       "model_id": "",
       "version_major": 2,
       "version_minor": 0
      },
      "text/plain": [
       "Mouse01_Lugol_15pct_20221223/rec:   0%|          | 0/3 [00:00<?, ?it/s]"
      ]
     },
     "metadata": {},
     "output_type": "display_data"
    },
    {
     "data": {
      "application/vnd.jupyter.widget-view+json": {
       "model_id": "",
       "version_major": 2,
       "version_minor": 0
      },
      "text/plain": [
       "Mouse01_Lugol_15pct_20230104/rec:   0%|          | 0/3 [00:00<?, ?it/s]"
      ]
     },
     "metadata": {},
     "output_type": "display_data"
    },
    {
     "data": {
      "application/vnd.jupyter.widget-view+json": {
       "model_id": "",
       "version_major": 2,
       "version_minor": 0
      },
      "text/plain": [
       "Mouse01_Lugol_15pct_20230113/rec:   0%|          | 0/3 [00:00<?, ?it/s]"
      ]
     },
     "metadata": {},
     "output_type": "display_data"
    },
    {
     "data": {
      "application/vnd.jupyter.widget-view+json": {
       "model_id": "",
       "version_major": 2,
       "version_minor": 0
      },
      "text/plain": [
       "Mouse01_Lugol_15pct_20230125/rec:   0%|          | 0/3 [00:00<?, ?it/s]"
      ]
     },
     "metadata": {},
     "output_type": "display_data"
    },
    {
     "data": {
      "application/vnd.jupyter.widget-view+json": {
       "model_id": "",
       "version_major": 2,
       "version_minor": 0
      },
      "text/plain": [
       "Mouse01_Lugol_15pct_20230203/rec:   0%|          | 0/3 [00:00<?, ?it/s]"
      ]
     },
     "metadata": {},
     "output_type": "display_data"
    },
    {
     "data": {
      "application/vnd.jupyter.widget-view+json": {
       "model_id": "",
       "version_major": 2,
       "version_minor": 0
      },
      "text/plain": [
       "Mouse01_Lugol_15pct_20230214/rec:   0%|          | 0/3 [00:00<?, ?it/s]"
      ]
     },
     "metadata": {},
     "output_type": "display_data"
    },
    {
     "data": {
      "application/vnd.jupyter.widget-view+json": {
       "model_id": "",
       "version_major": 2,
       "version_minor": 0
      },
      "text/plain": [
       "Mouse01_Lugol_15pct_20230227/rec:   0%|          | 0/3 [00:00<?, ?it/s]"
      ]
     },
     "metadata": {},
     "output_type": "display_data"
    },
    {
     "data": {
      "application/vnd.jupyter.widget-view+json": {
       "model_id": "",
       "version_major": 2,
       "version_minor": 0
      },
      "text/plain": [
       "Mouse01_Lugol_15pct_20230317/rec:   0%|          | 0/3 [00:00<?, ?it/s]"
      ]
     },
     "metadata": {},
     "output_type": "display_data"
    },
    {
     "data": {
      "application/vnd.jupyter.widget-view+json": {
       "model_id": "",
       "version_major": 2,
       "version_minor": 0
      },
      "text/plain": [
       "Mouse01_Lugol_15pct_20230330/rec:   0%|          | 0/3 [00:00<?, ?it/s]"
      ]
     },
     "metadata": {},
     "output_type": "display_data"
    },
    {
     "data": {
      "application/vnd.jupyter.widget-view+json": {
       "model_id": "",
       "version_major": 2,
       "version_minor": 0
      },
      "text/plain": [
       "Mouse01_Lugol_15pct_20230411/rec:   0%|          | 0/3 [00:00<?, ?it/s]"
      ]
     },
     "metadata": {},
     "output_type": "display_data"
    },
    {
     "data": {
      "application/vnd.jupyter.widget-view+json": {
       "model_id": "",
       "version_major": 2,
       "version_minor": 0
      },
      "text/plain": [
       "Mouse01_Lugol_15pct_20230421/rec:   0%|          | 0/3 [00:00<?, ?it/s]"
      ]
     },
     "metadata": {},
     "output_type": "display_data"
    },
    {
     "data": {
      "application/vnd.jupyter.widget-view+json": {
       "model_id": "",
       "version_major": 2,
       "version_minor": 0
      },
      "text/plain": [
       "Mouse01_Lugol_15pct_20230501/rec:   0%|          | 0/3 [00:00<?, ?it/s]"
      ]
     },
     "metadata": {},
     "output_type": "display_data"
    }
   ],
   "source": [
    "# Read or calculate the middle slices, put them into the dataframe and save them to disk\n",
    "for d, direction in enumerate(directions):\n",
    "    Data['Mid_' + direction] = [None] * len(Reconstructions)\n",
    "for c, row in tqdm(Data.iterrows(), desc='Middle images', total=len(Data), leave=False):\n",
    "    for d, direction in tqdm(enumerate(directions),\n",
    "                             desc='%s/%s' % (row['Sample'], row['Scan']),\n",
    "                             leave=False,\n",
    "                             total=len(directions)):\n",
    "        outfilepath = os.path.join(os.path.dirname(row['Folder']),\n",
    "                                   '%s.%s.Middle.%s.png' % (row['Sample'],\n",
    "                                                            row['Scan'],\n",
    "                                                            direction))\n",
    "        if os.path.exists(outfilepath):\n",
    "            Data.at[c, 'Mid_' + direction] = dask_image.imread.imread(outfilepath).squeeze()\n",
    "        else:\n",
    "            # Generate requested axial view\n",
    "            if 'Axial' in direction:\n",
    "                Data.at[c, 'Mid_' + direction] = Reconstructions[c][Data['Size'][c][0] // 2].compute().squeeze()\n",
    "            if 'Coronal' in direction:\n",
    "                Data.at[c, 'Mid_' + direction] = Reconstructions[c][:, Data['Size'][c][1] // 2, :].compute().squeeze()\n",
    "            if 'Sagittal' in direction:\n",
    "                Data.at[c, 'Mid_' + direction] = Reconstructions[c][:, :, Data['Size'][c][2] // 2].compute().squeeze()\n",
    "            # Save the calculated 'direction' view to disk\n",
    "            imageio.imwrite(outfilepath, (Data.at[c, 'Mid_' + direction]))"
   ]
  },
  {
   "cell_type": "code",
   "execution_count": 87,
   "metadata": {
    "tags": []
   },
   "outputs": [
    {
     "data": {
      "application/vnd.jupyter.widget-view+json": {
       "model_id": "",
       "version_major": 2,
       "version_minor": 0
      },
      "text/plain": [
       "Saving middle images overview:   0%|          | 0/22 [00:00<?, ?it/s]"
      ]
     },
     "metadata": {},
     "output_type": "display_data"
    }
   ],
   "source": [
    "# Show middle slices\n",
    "for c, row in tqdm(Data.iterrows(),\n",
    "                   desc='Saving middle images overview',\n",
    "                   total=len(Data),\n",
    "                   leave=False):\n",
    "    outfilepath = os.path.join(os.path.dirname(row['Folder']),\n",
    "                               '%s.%s.MiddleSlices.png' % (row['Sample'], row['Scan']))\n",
    "    if not os.path.exists(outfilepath):    \n",
    "        for d, direction in tqdm(enumerate(directions),\n",
    "                                 desc='%s/%s' % (row['Sample'], row['Scan']),\n",
    "                                 leave=False,\n",
    "                                 total=len(directions)):\n",
    "            plt.subplot(1, 3, d + 1)\n",
    "            plt.imshow(row['Mid_' + direction].squeeze())\n",
    "            if d == 0:\n",
    "                plt.axhline(row.Size[1] // 2, c=seaborn.color_palette()[0])\n",
    "                plt.axvline(row.Size[2] // 2, c=seaborn.color_palette()[1])\n",
    "                plt.gca().add_artist(ScaleBar(row['Voxelsize'],\n",
    "                                              'um',\n",
    "                                              color=seaborn.color_palette()[2]))\n",
    "            elif d == 1:\n",
    "                plt.axhline(row.Size[0] // 2, c=seaborn.color_palette()[2])\n",
    "                plt.axvline(row.Size[d] // 2, c=seaborn.color_palette()[1])\n",
    "                plt.gca().add_artist(ScaleBar(row['Voxelsize'],\n",
    "                                              'um',\n",
    "                                              color=seaborn.color_palette()[0]))\n",
    "            else:\n",
    "                plt.axhline(row.Size[0] // 2, c=seaborn.color_palette()[2])\n",
    "                plt.axvline(row.Size[d] // 2, c=seaborn.color_palette()[0])\n",
    "                plt.gca().add_artist(ScaleBar(row['Voxelsize'],\n",
    "                                              'um',\n",
    "                                              color=seaborn.color_palette()[1]))\n",
    "            plt.title('%s at day %s\\n%s' % (row['SampleName'],\n",
    "                                            row['Days passed'].days,\n",
    "                                            direction + ' Middle slice'))\n",
    "            plt.axis('off')\n",
    "            plt.savefig(outfilepath,\n",
    "                        transparent=True,\n",
    "                        bbox_inches='tight')\n",
    "        plt.show()"
   ]
  },
  {
   "cell_type": "code",
   "execution_count": 88,
   "metadata": {
    "tags": []
   },
   "outputs": [
    {
     "data": {
      "application/vnd.jupyter.widget-view+json": {
       "model_id": "",
       "version_major": 2,
       "version_minor": 0
      },
      "text/plain": [
       "MIPs:   0%|          | 0/22 [00:00<?, ?it/s]"
      ]
     },
     "metadata": {},
     "output_type": "display_data"
    },
    {
     "data": {
      "application/vnd.jupyter.widget-view+json": {
       "model_id": "",
       "version_major": 2,
       "version_minor": 0
      },
      "text/plain": [
       "Mouse01_Nativ_20220905/rec:   0%|          | 0/3 [00:00<?, ?it/s]"
      ]
     },
     "metadata": {},
     "output_type": "display_data"
    },
    {
     "data": {
      "application/vnd.jupyter.widget-view+json": {
       "model_id": "",
       "version_major": 2,
       "version_minor": 0
      },
      "text/plain": [
       "Mouse01_Lugol_15pct_20220914/rec:   0%|          | 0/3 [00:00<?, ?it/s]"
      ]
     },
     "metadata": {},
     "output_type": "display_data"
    },
    {
     "data": {
      "application/vnd.jupyter.widget-view+json": {
       "model_id": "",
       "version_major": 2,
       "version_minor": 0
      },
      "text/plain": [
       "Mouse01_Lugol_15pct_20220921/rec:   0%|          | 0/3 [00:00<?, ?it/s]"
      ]
     },
     "metadata": {},
     "output_type": "display_data"
    },
    {
     "data": {
      "application/vnd.jupyter.widget-view+json": {
       "model_id": "",
       "version_major": 2,
       "version_minor": 0
      },
      "text/plain": [
       "Mouse01_Lugol_15pct_20220928/rec:   0%|          | 0/3 [00:00<?, ?it/s]"
      ]
     },
     "metadata": {},
     "output_type": "display_data"
    },
    {
     "data": {
      "application/vnd.jupyter.widget-view+json": {
       "model_id": "",
       "version_major": 2,
       "version_minor": 0
      },
      "text/plain": [
       "Mouse01_Lugol_15pct_20221017/rec:   0%|          | 0/3 [00:00<?, ?it/s]"
      ]
     },
     "metadata": {},
     "output_type": "display_data"
    },
    {
     "data": {
      "application/vnd.jupyter.widget-view+json": {
       "model_id": "",
       "version_major": 2,
       "version_minor": 0
      },
      "text/plain": [
       "Mouse01_Lugol_15pct_20221027/rec:   0%|          | 0/3 [00:00<?, ?it/s]"
      ]
     },
     "metadata": {},
     "output_type": "display_data"
    },
    {
     "data": {
      "application/vnd.jupyter.widget-view+json": {
       "model_id": "",
       "version_major": 2,
       "version_minor": 0
      },
      "text/plain": [
       "Mouse01_Lugol_15pct_20221107/rec:   0%|          | 0/3 [00:00<?, ?it/s]"
      ]
     },
     "metadata": {},
     "output_type": "display_data"
    },
    {
     "data": {
      "application/vnd.jupyter.widget-view+json": {
       "model_id": "",
       "version_major": 2,
       "version_minor": 0
      },
      "text/plain": [
       "Mouse01_Lugol_15pct_20221117/rec:   0%|          | 0/3 [00:00<?, ?it/s]"
      ]
     },
     "metadata": {},
     "output_type": "display_data"
    },
    {
     "data": {
      "application/vnd.jupyter.widget-view+json": {
       "model_id": "",
       "version_major": 2,
       "version_minor": 0
      },
      "text/plain": [
       "Mouse01_Lugol_15pct_20221128/rec:   0%|          | 0/3 [00:00<?, ?it/s]"
      ]
     },
     "metadata": {},
     "output_type": "display_data"
    },
    {
     "data": {
      "application/vnd.jupyter.widget-view+json": {
       "model_id": "",
       "version_major": 2,
       "version_minor": 0
      },
      "text/plain": [
       "Mouse01_Lugol_15pct_20221209/rec:   0%|          | 0/3 [00:00<?, ?it/s]"
      ]
     },
     "metadata": {},
     "output_type": "display_data"
    },
    {
     "data": {
      "application/vnd.jupyter.widget-view+json": {
       "model_id": "",
       "version_major": 2,
       "version_minor": 0
      },
      "text/plain": [
       "Mouse01_Lugol_15pct_20221223/rec:   0%|          | 0/3 [00:00<?, ?it/s]"
      ]
     },
     "metadata": {},
     "output_type": "display_data"
    },
    {
     "data": {
      "application/vnd.jupyter.widget-view+json": {
       "model_id": "",
       "version_major": 2,
       "version_minor": 0
      },
      "text/plain": [
       "Mouse01_Lugol_15pct_20230104/rec:   0%|          | 0/3 [00:00<?, ?it/s]"
      ]
     },
     "metadata": {},
     "output_type": "display_data"
    },
    {
     "data": {
      "application/vnd.jupyter.widget-view+json": {
       "model_id": "",
       "version_major": 2,
       "version_minor": 0
      },
      "text/plain": [
       "Mouse01_Lugol_15pct_20230113/rec:   0%|          | 0/3 [00:00<?, ?it/s]"
      ]
     },
     "metadata": {},
     "output_type": "display_data"
    },
    {
     "data": {
      "application/vnd.jupyter.widget-view+json": {
       "model_id": "",
       "version_major": 2,
       "version_minor": 0
      },
      "text/plain": [
       "Mouse01_Lugol_15pct_20230125/rec:   0%|          | 0/3 [00:00<?, ?it/s]"
      ]
     },
     "metadata": {},
     "output_type": "display_data"
    },
    {
     "data": {
      "application/vnd.jupyter.widget-view+json": {
       "model_id": "",
       "version_major": 2,
       "version_minor": 0
      },
      "text/plain": [
       "Mouse01_Lugol_15pct_20230203/rec:   0%|          | 0/3 [00:00<?, ?it/s]"
      ]
     },
     "metadata": {},
     "output_type": "display_data"
    },
    {
     "data": {
      "application/vnd.jupyter.widget-view+json": {
       "model_id": "",
       "version_major": 2,
       "version_minor": 0
      },
      "text/plain": [
       "Mouse01_Lugol_15pct_20230214/rec:   0%|          | 0/3 [00:00<?, ?it/s]"
      ]
     },
     "metadata": {},
     "output_type": "display_data"
    },
    {
     "data": {
      "application/vnd.jupyter.widget-view+json": {
       "model_id": "",
       "version_major": 2,
       "version_minor": 0
      },
      "text/plain": [
       "Mouse01_Lugol_15pct_20230227/rec:   0%|          | 0/3 [00:00<?, ?it/s]"
      ]
     },
     "metadata": {},
     "output_type": "display_data"
    },
    {
     "data": {
      "application/vnd.jupyter.widget-view+json": {
       "model_id": "",
       "version_major": 2,
       "version_minor": 0
      },
      "text/plain": [
       "Mouse01_Lugol_15pct_20230317/rec:   0%|          | 0/3 [00:00<?, ?it/s]"
      ]
     },
     "metadata": {},
     "output_type": "display_data"
    },
    {
     "data": {
      "application/vnd.jupyter.widget-view+json": {
       "model_id": "",
       "version_major": 2,
       "version_minor": 0
      },
      "text/plain": [
       "Mouse01_Lugol_15pct_20230330/rec:   0%|          | 0/3 [00:00<?, ?it/s]"
      ]
     },
     "metadata": {},
     "output_type": "display_data"
    },
    {
     "data": {
      "application/vnd.jupyter.widget-view+json": {
       "model_id": "",
       "version_major": 2,
       "version_minor": 0
      },
      "text/plain": [
       "Mouse01_Lugol_15pct_20230411/rec:   0%|          | 0/3 [00:00<?, ?it/s]"
      ]
     },
     "metadata": {},
     "output_type": "display_data"
    },
    {
     "data": {
      "application/vnd.jupyter.widget-view+json": {
       "model_id": "",
       "version_major": 2,
       "version_minor": 0
      },
      "text/plain": [
       "Mouse01_Lugol_15pct_20230421/rec:   0%|          | 0/3 [00:00<?, ?it/s]"
      ]
     },
     "metadata": {},
     "output_type": "display_data"
    },
    {
     "data": {
      "application/vnd.jupyter.widget-view+json": {
       "model_id": "",
       "version_major": 2,
       "version_minor": 0
      },
      "text/plain": [
       "Mouse01_Lugol_15pct_20230501/rec:   0%|          | 0/3 [00:00<?, ?it/s]"
      ]
     },
     "metadata": {},
     "output_type": "display_data"
    }
   ],
   "source": [
    "# Read or calculate the directional MIPs, put them into the dataframe and save them to disk\n",
    "for d, direction in enumerate(directions):\n",
    "    Data['MIP_' + direction] = [None] * len(Reconstructions)\n",
    "for c, row in tqdm(Data.iterrows(), desc='MIPs', total=len(Data), leave=False):\n",
    "    for d, direction in tqdm(enumerate(directions),\n",
    "                             desc='%s/%s' % (row['Sample'], row['Scan']),\n",
    "                             leave=False,\n",
    "                             total=len(directions)):\n",
    "        outfilepath = os.path.join(os.path.dirname(row['Folder']),\n",
    "                                   '%s.%s.MIP.%s.png' % (row['Sample'],\n",
    "                                                      row['Scan'],\n",
    "                                                      direction))\n",
    "        if os.path.exists(outfilepath):\n",
    "            Data.at[c, 'MIP_' + direction] = dask_image.imread.imread(outfilepath).squeeze()\n",
    "        else:\n",
    "            # Generate MIP\n",
    "            Data.at[c, 'MIP_' + direction] = Reconstructions[c].max(axis=d).compute().squeeze()\n",
    "            # Save it out\n",
    "            imageio.imwrite(outfilepath, Data.at[c, 'MIP_' + direction].astype('uint8'))"
   ]
  },
  {
   "cell_type": "code",
   "execution_count": 89,
   "metadata": {
    "tags": []
   },
   "outputs": [
    {
     "data": {
      "application/vnd.jupyter.widget-view+json": {
       "model_id": "",
       "version_major": 2,
       "version_minor": 0
      },
      "text/plain": [
       "Saving MIP images overview:   0%|          | 0/22 [00:00<?, ?it/s]"
      ]
     },
     "metadata": {},
     "output_type": "display_data"
    }
   ],
   "source": [
    "# Show MIP slices\n",
    "for c, row in tqdm(Data.iterrows(),\n",
    "                   desc='Saving MIP images overview',\n",
    "                   total=len(Data),\n",
    "                   leave=False):\n",
    "    outfilepath = os.path.join(os.path.dirname(row['Folder']),\n",
    "                               '%s.%s.MIPs.png' % (row['Sample'], row['Scan']))\n",
    "    if not os.path.exists(outfilepath):    \n",
    "        for d, direction in tqdm(enumerate(directions),\n",
    "                                          desc='%s/%s' % (row['Sample'], row['Scan']),\n",
    "                                          leave=False,\n",
    "                                          total=len(directions)):\n",
    "            plt.subplot(1, 3, d + 1)\n",
    "            plt.imshow(row['MIP_' + direction].squeeze())\n",
    "            plt.gca().add_artist(ScaleBar(row['Voxelsize'],\n",
    "                                          'um'))\n",
    "            plt.title('%s at day %s\\n%s' % (row['SampleName'],\n",
    "                                            row['Days passed'].days,\n",
    "                                            direction + ' MIP'))\n",
    "            plt.axis('off')\n",
    "        plt.savefig(outfilepath,\n",
    "                    transparent=True,\n",
    "                    bbox_inches='tight')\n",
    "        plt.show()"
   ]
  },
  {
   "cell_type": "code",
   "execution_count": 90,
   "metadata": {},
   "outputs": [
    {
     "data": {
      "text/plain": [
       "0           Mouse01_Nativ_20220905\n",
       "1     Mouse01_Lugol_15pct_20220914\n",
       "2     Mouse01_Lugol_15pct_20220921\n",
       "3     Mouse01_Lugol_15pct_20220928\n",
       "4     Mouse01_Lugol_15pct_20221017\n",
       "5     Mouse01_Lugol_15pct_20221027\n",
       "6     Mouse01_Lugol_15pct_20221107\n",
       "7     Mouse01_Lugol_15pct_20221117\n",
       "8     Mouse01_Lugol_15pct_20221128\n",
       "9     Mouse01_Lugol_15pct_20221209\n",
       "10    Mouse01_Lugol_15pct_20221223\n",
       "11    Mouse01_Lugol_15pct_20230104\n",
       "12    Mouse01_Lugol_15pct_20230113\n",
       "13    Mouse01_Lugol_15pct_20230125\n",
       "14    Mouse01_Lugol_15pct_20230203\n",
       "15    Mouse01_Lugol_15pct_20230214\n",
       "16    Mouse01_Lugol_15pct_20230227\n",
       "17    Mouse01_Lugol_15pct_20230317\n",
       "18    Mouse01_Lugol_15pct_20230330\n",
       "19    Mouse01_Lugol_15pct_20230411\n",
       "20    Mouse01_Lugol_15pct_20230421\n",
       "21    Mouse01_Lugol_15pct_20230501\n",
       "Name: Sample, dtype: object"
      ]
     },
     "execution_count": 90,
     "metadata": {},
     "output_type": "execute_result"
    }
   ],
   "source": [
    "Data.Sample"
   ]
  },
  {
   "cell_type": "code",
   "execution_count": 91,
   "metadata": {
    "tags": []
   },
   "outputs": [
    {
     "name": "stdout",
     "output_type": "stream",
     "text": [
      "We have 22 items in our dataframe\n",
      "After dropping all non-Mouse01-scans we have 22 items in our dataframe\n"
     ]
    }
   ],
   "source": [
    "# Drop the scans we don't want to show for the concatenated slices below\n",
    "print('We have %s items in our dataframe' % len(Data))\n",
    "# Drop all non-mouse scans\n",
    "for c, row in Data.iterrows():\n",
    "    if 'Mouse01' not in row.LogFile:\n",
    "        print('Dropping', row.Sample)\n",
    "        Data.drop([c], inplace=True)\n",
    "Data.reset_index(drop=True, inplace=True)\n",
    "print('After dropping all non-Mouse01-scans we have %s items in our dataframe' % len(Data))"
   ]
  },
  {
   "cell_type": "code",
   "execution_count": 92,
   "metadata": {},
   "outputs": [
    {
     "data": {
      "text/plain": [
       "array([15.])"
      ]
     },
     "execution_count": 92,
     "metadata": {},
     "output_type": "execute_result"
    }
   ],
   "source": [
    "Data.Voxelsize.unique()"
   ]
  },
  {
   "cell_type": "code",
   "execution_count": 93,
   "metadata": {},
   "outputs": [
    {
     "name": "stdout",
     "output_type": "stream",
     "text": [
      "We have 22 items in our dataframe\n",
      "After dropping all scans with voxelsize smaller than 15 um we have 22 items in our dataframe\n"
     ]
    }
   ],
   "source": [
    "# Drop the scans we don't want from for showing the concatenated slices below\n",
    "print('We have %s items in our dataframe' % len(Data))\n",
    "# Drop all non-mouse scans\n",
    "dropsize = 15\n",
    "for c, row in Data.iterrows():\n",
    "    if row.Voxelsize < dropsize:\n",
    "        print('Dropping', row.Sample)\n",
    "        Data.drop([c], inplace=True)\n",
    "Data.reset_index(drop=True, inplace=True)\n",
    "print('After dropping all scans with voxelsize smaller than %s um we have %s items in our dataframe' % (dropsize, len(Data)))"
   ]
  },
  {
   "cell_type": "code",
   "execution_count": 94,
   "metadata": {
    "tags": []
   },
   "outputs": [
    {
     "data": {
      "application/vnd.jupyter.widget-view+json": {
       "model_id": "3ad3685bbce94d9fb8c5476f413dee51",
       "version_major": 2,
       "version_minor": 0
      },
      "text/plain": [
       "Load reconstructions:   0%|          | 0/22 [00:00<?, ?it/s]"
      ]
     },
     "metadata": {},
     "output_type": "display_data"
    }
   ],
   "source": [
    "# Reload the reconstructions, so we show the correct slice below\n",
    "Reconstructions = [None] * len(Data)\n",
    "for c, row in tqdm(Data.iterrows(),\n",
    "                   desc='Load reconstructions',\n",
    "                   total=len(Data)):\n",
    "    Reconstructions[c] = dask_image.imread.imread(os.path.join(row['Folder'],\n",
    "                                                               '*rec*.png'))"
   ]
  },
  {
   "cell_type": "code",
   "execution_count": 185,
   "metadata": {},
   "outputs": [
    {
     "name": "stderr",
     "output_type": "stream",
     "text": [
      "Task exception was never retrieved\n",
      "future: <Task finished name='Task-616841' coro=<Client._gather.<locals>.wait() done, defined at /home/habi/miniconda3/envs/dea/lib/python3.9/site-packages/distributed/client.py:1994> exception=AllExit()>\n",
      "Traceback (most recent call last):\n",
      "  File \"/home/habi/miniconda3/envs/dea/lib/python3.9/site-packages/distributed/client.py\", line 1999, in wait\n",
      "    raise AllExit()\n",
      "distributed.client.AllExit\n",
      "distributed.utils_perf - WARNING - full garbage collections took 11% CPU time recently (threshold: 10%)\n",
      "distributed.utils_perf - WARNING - full garbage collections took 11% CPU time recently (threshold: 10%)\n",
      "distributed.utils_perf - WARNING - full garbage collections took 11% CPU time recently (threshold: 10%)\n",
      "distributed.utils_perf - WARNING - full garbage collections took 11% CPU time recently (threshold: 10%)\n"
     ]
    }
   ],
   "source": [
    "# Calculate mean brightness of the reconstructions\n",
    "# Subsample for speed reasons\n",
    "subsample = 7\n",
    "Data['MeanBrightness'] = [rec[::subsample,::subsample,::subsample].mean().compute() for rec in Reconstructions]"
   ]
  },
  {
   "cell_type": "code",
   "execution_count": 187,
   "metadata": {},
   "outputs": [
    {
     "data": {
      "image/png": "[encoded data removed]",
      "text/plain": [
       "<Figure size 4800x2700 with 1 Axes>"
      ]
     },
     "metadata": {
      "needs_background": "light"
     },
     "output_type": "display_data"
    }
   ],
   "source": [
    "# Plot the mean brightness of the scan with their dates\n",
    "seaborn.scatterplot(data=Data,\n",
    "                    x='Scan date',\n",
    "                    y='MeanBrightness',\n",
    "                    # size='MeanBrightness'\n",
    "                   )\n",
    "# Label text: https://matplotlib.org/stable/tutorials/text/annotations.html\n",
    "for c,row in Data.iterrows():\n",
    "    plt.gca().annotate(row.Sample.replace('Mouse01', 'M1').replace('_Lugol_15pct', '').replace('_Nativ', ''),\n",
    "                       xy=(row['Scan date'], row.MeanBrightness),\n",
    "                       xycoords='data',\n",
    "                       xytext=(-5, -70),\n",
    "                       textcoords='offset points',\n",
    "                       rotation=-60)\n",
    "    \n",
    "    \n",
    "plt.ylim(ymin=0)\n",
    "plt.title('Average gray value of the %s-times subsampled reconstructions' % subsample)\n",
    "plt.savefig(os.path.join(OutPutDir,\n",
    "                         'MeanBrightness.%s.png' % Data.SampleName.unique()[0]),\n",
    "            transparent=True,\n",
    "            bbox_inches='tight')\n",
    "plt.show()"
   ]
  },
  {
   "cell_type": "code",
   "execution_count": null,
   "metadata": {
    "tags": []
   },
   "outputs": [],
   "source": [
    "for direction in directions:\n",
    "    # Show each directional middle slice, concatenated\n",
    "    # Concatenate figures with GridSpec\n",
    "    # https://matplotlib.org/stable/gallery/subplots_axes_and_figures/gridspec_multicolumn.html#sphx-glr-gallery-subplots-axes-and-figures-gridspec-multicolumn-py\n",
    "    # Set up figure\n",
    "    fig = plt.figure(figsize=(len(Data)*3,3), constrained_layout=False)\n",
    "    gs = GridSpec(1,len(Data), figure=fig, wspace=0, hspace=0)\n",
    "    # plot the selected images\n",
    "    for c,row in Data.iterrows():\n",
    "        fig.add_subplot(gs[0, c])\n",
    "        plt.imshow(row['Mid_%s' % direction].squeeze())\n",
    "        plt.gca().add_artist(ScaleBar(row['Voxelsize'],'um'))\n",
    "        plt.title('%s at day %s\\n%s' % (row['SampleName'], row['Days passed'].days,\n",
    "                                        direction + ' Middle slice'))\n",
    "        plt.axis('off')\n",
    "    plt.savefig(os.path.join(Root, 'Mouse01.Mid_%s.png' % direction),\n",
    "                transparent=False,\n",
    "                bbox_inches='tight')\n",
    "    plt.show()"
   ]
  },
  {
   "cell_type": "code",
   "execution_count": null,
   "metadata": {
    "tags": []
   },
   "outputs": [],
   "source": [
    "for direction in directions:\n",
    "    # Show each directional MIP, concatenated\n",
    "    fig = plt.figure(figsize=(len(Data)*3,3), constrained_layout=False)\n",
    "    gs = GridSpec(1,len(Data), figure=fig, wspace=0, hspace=0)\n",
    "    # plot the selected images\n",
    "    for c,row in Data.iterrows():\n",
    "        fig.add_subplot(gs[0, c])\n",
    "        plt.imshow(row['MIP_%s' % direction].squeeze())\n",
    "        plt.gca().add_artist(ScaleBar(row['Voxelsize'],'um'))\n",
    "        plt.title('%s at day %s\\n%s' % (row['SampleName'],\n",
    "                                        row['Days passed'].days,\n",
    "                                        direction + ' MIP'))\n",
    "        plt.axis('off')\n",
    "    plt.savefig(os.path.join(Root, 'Mouse01.MIP_%s.png' % direction),\n",
    "                transparent=False,\n",
    "                bbox_inches='tight')\n",
    "    plt.show()"
   ]
  },
  {
   "cell_type": "code",
   "execution_count": null,
   "metadata": {
    "tags": []
   },
   "outputs": [],
   "source": [
    "# Show one slice of each of the scans, concatenated\n",
    "iteration = 300\n",
    "for whichslice in range(iteration, Data['Number of reconstructions'][0] - iteration, iteration):\n",
    "    # Concatenate figures with GridSpec\n",
    "    # https://matplotlib.org/stable/gallery/subplots_axes_and_figures/gridspec_multicolumn.html#sphx-glr-gallery-subplots-axes-and-figures-gridspec-multicolumn-py\n",
    "    from matplotlib.gridspec import GridSpec\n",
    "    # Set up figure\n",
    "    fig = plt.figure(figsize=(len(Data)*3,3), constrained_layout=False)\n",
    "    gs = GridSpec(1,len(Data), figure=fig, wspace=0, hspace=0)\n",
    "    # plot the selected images\n",
    "    for c,row in Data.iterrows():\n",
    "        fig.add_subplot(gs[0, c])\n",
    "        plt.imshow(Reconstructions[c][whichslice])\n",
    "        plt.gca().add_artist(ScaleBar(row['Voxelsize'],'um'))\n",
    "        plt.title('%s at day %s\\nReconstruction %s' % (row['SampleName'],\n",
    "                                                       row['Days passed'].days,\n",
    "                                                       whichslice))\n",
    "        plt.axis('off')\n",
    "    plt.savefig(os.path.join(Root, 'Mouse01.Slice%04d.png' % whichslice),\n",
    "                transparent=False,\n",
    "                bbox_inches='tight')\n",
    "    plt.show()"
   ]
  },
  {
   "cell_type": "code",
   "execution_count": null,
   "metadata": {
    "tags": []
   },
   "outputs": [],
   "source": [
    "# Write out GIF of progression\n",
    "for direction in directions:\n",
    "    # Concatenate directional MIPs into a GIF\n",
    "    # Since we `dask`ed the images, we first need to compute them...\n",
    "    mipseries = [mip.squeeze() for mip in Data['MIP_%s' % direction]]\n",
    "    imageio.mimwrite('Mouse01.Animation.MIP.%s.gif' % direction, mipseries, format= '.gif', fps = 1)\n",
    "    # Concatenate directional middle images into a GIF\n",
    "    # Since we `dask`ed the images, we first need to compute them...\n",
    "    midseries = [mid.squeeze() for mid in Data['Mid_%s' % direction]]\n",
    "    imageio.mimwrite('Mouse01.Animation.Middle.%s.gif' % direction, midseries, format= '.gif', fps = 1)"
   ]
  },
  {
   "cell_type": "code",
   "execution_count": null,
   "metadata": {
    "tags": []
   },
   "outputs": [],
   "source": [
    "# Calculate the histograms of one of the MIPs (or reconstructions, depending on which line we comment)\n",
    "# Caveat: dask.da.histogram returns histogram AND bins, making each histogram a 'nested' list of [h, b]\n",
    "Data['Histogram'] = [dask.array.histogram(dask.array.array(mip.squeeze()),\n",
    "                                          bins=2**8,\n",
    "                                          range=[0, 2**8]) for mip in Data['MIP_Coronal']]  \n",
    "# Data['Histogram'] = [dask.array.histogram(rec,\n",
    "#                                           bins=2**8,\n",
    "#                                           range=[0, 2**8]) for rec in Reconstructions]\n",
    "# Actually compute the data and put only h into the dataframe, since we use it quite often below.\n",
    "# Discard the bins\n",
    "Data['Histogram'] = [h.compute() for h,b in Data['Histogram']] "
   ]
  },
  {
   "cell_type": "code",
   "execution_count": null,
   "metadata": {
    "tags": []
   },
   "outputs": [],
   "source": [
    "for c, row in Data.iterrows():\n",
    "    print(row.Sample, row.Scan, row.Histogram[0])"
   ]
  },
  {
   "cell_type": "code",
   "execution_count": null,
   "metadata": {
    "tags": []
   },
   "outputs": [],
   "source": [
    "for c, row in sorted(Data.iterrows()):\n",
    "    plt.semilogy(row.Histogram, label='%s/%s' % (row.Sample, row.Scan))\n",
    "    plt.xlim([0, 255])\n",
    "    plt.legend()\n",
    "    plt.show()"
   ]
  },
  {
   "cell_type": "code",
   "execution_count": null,
   "metadata": {
    "tags": []
   },
   "outputs": [],
   "source": [
    "def overeexposecheck(item, threshold=222, howmanypercent=0.1, whichone='Coronal', verbose=False):\n",
    "    '''Function to check if a certain amount of voxels are brighter than a certain value'''\n",
    "    if (Data['MIP_%s' % whichone][item]>threshold).sum() > (Data['MIP_%s' % whichone][item].size * howmanypercent / 100):\n",
    "        if verbose:\n",
    "            plt.imshow(Data['MIP_%s' % whichone][item].squeeze())\n",
    "            plt.imshow(numpy.ma.masked_equal(Data['MIP_%s' % whichone][item].squeeze()>threshold, False),\n",
    "                       cmap='viridis_r',\n",
    "                       alpha=.618)\n",
    "            plt.title('%s/%s\\n%s px of %s Mpixels (>%s%%) are brighter '\n",
    "                      'than %s' % (Data['Sample'][item],\n",
    "                                   Data['Scan'][item],\n",
    "                                   (Data['MIP_%s' % whichone][item]>threshold).sum().compute(),\n",
    "                                   round(1e-6 * Data['MIP_%s' % whichone][item].size,2),\n",
    "                                   howmanypercent,\n",
    "                                   threshold))\n",
    "            plt.axis('off')\n",
    "            plt.gca().add_artist(ScaleBar(Data['Voxelsize'][item],\n",
    "                                          'um'))\n",
    "            plt.show()\n",
    "        return(True)\n",
    "    else:\n",
    "        return(False)    "
   ]
  },
  {
   "cell_type": "code",
   "execution_count": null,
   "metadata": {
    "tags": []
   },
   "outputs": [],
   "source": [
    "# Check if 'too much' of the MIP is overexposed\n",
    "Data['OverExposed'] = [overeexposecheck(c,\n",
    "                                        whichone='Coronal',\n",
    "                                        verbose=True) for c, row in Data.iterrows()]"
   ]
  },
  {
   "cell_type": "code",
   "execution_count": null,
   "metadata": {
    "tags": []
   },
   "outputs": [],
   "source": [
    "print('At the moment, we have previewed %s *Mouse* scans of %s samples in %s' % (len(Data),\n",
    "                                                                                 len(Data.Sample.unique()),\n",
    "                                                                                 Root))"
   ]
  },
  {
   "cell_type": "code",
   "execution_count": null,
   "metadata": {},
   "outputs": [],
   "source": []
  },
  {
   "cell_type": "code",
   "execution_count": null,
   "metadata": {},
   "outputs": [],
   "source": []
  },
  {
   "cell_type": "code",
   "execution_count": null,
   "metadata": {},
   "outputs": [],
   "source": []
  }
 ],
 "metadata": {
  "kernelspec": {
   "display_name": "Python 3 (ipykernel)",
   "language": "python",
   "name": "python3"
  },
  "language_info": {
   "codemirror_mode": {
    "name": "ipython",
    "version": 3
   },
   "file_extension": ".py",
   "mimetype": "text/x-python",
   "name": "python",
   "nbconvert_exporter": "python",
   "pygments_lexer": "ipython3",
   "version": "3.9.11"
  }
 },
 "nbformat": 4,
 "nbformat_minor": 4
}
