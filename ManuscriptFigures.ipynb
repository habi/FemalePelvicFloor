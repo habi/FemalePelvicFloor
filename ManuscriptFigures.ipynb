{
 "cells": [
  {
   "cell_type": "markdown",
   "metadata": {},
   "source": [
    "# Generate the figures for the manuscript"
   ]
  },
  {
   "cell_type": "code",
   "execution_count": null,
   "metadata": {
    "tags": []
   },
   "outputs": [],
   "source": [
    "import platform\n",
    "import os\n",
    "import glob\n",
    "import pandas\n",
    "import dask\n",
    "from dask.distributed import Client, LocalCluster\n",
    "import dask_image.imread\n",
    "import matplotlib.pyplot as plt\n",
    "import matplotlib.patches as patches\n",
    "from matplotlib_scalebar.scalebar import ScaleBar\n",
    "# from matplotlib.gridspec import GridSpec\n",
    "from matplotlib.markers import MarkerStyle\n",
    "from string import ascii_uppercase\n",
    "import seaborn\n",
    "import numpy\n",
    "from tqdm.auto import tqdm, trange\n",
    "import imageio\n",
    "import skimage"
   ]
  },
  {
   "cell_type": "code",
   "execution_count": null,
   "metadata": {
    "tags": []
   },
   "outputs": [],
   "source": [
    "# Import our own parsing functions which we've added as submodule\n",
    "from BrukerSkyScanLogfileRuminator.parsing_functions import *"
   ]
  },
  {
   "cell_type": "code",
   "execution_count": null,
   "metadata": {
    "tags": []
   },
   "outputs": [],
   "source": [
    "# Set dask temporary folder\n",
    "# Do this before creating a client: https://stackoverflow.com/a/62804525/323100\n",
    "import tempfile\n",
    "if 'Linux' in platform.system():\n",
    "    tmp = os.path.join(os.sep, 'media', 'habi', 'Fast_SSD')\n",
    "elif 'Darwin' in platform.system():\n",
    "    tmp = tempfile.gettempdir()\n",
    "else:\n",
    "    if 'anaklin' in platform.node():\n",
    "        tmp = os.path.join('F:\\\\')\n",
    "    else:\n",
    "        tmp = os.path.join('D:\\\\')\n",
    "dask.config.set({'temporary_directory': os.path.join(tmp, 'tmp')})\n",
    "print('Dask temporary files go to %s' % dask.config.get('temporary_directory'))"
   ]
  },
  {
   "cell_type": "code",
   "execution_count": null,
   "metadata": {
    "tags": []
   },
   "outputs": [],
   "source": [
    "# Start cluster and client now, after setting tempdir\n",
    "try:\n",
    "    cluster = LocalCluster()\n",
    "except PermissionError:\n",
    "    print('Mount the Fast_SSD, otherwise we cannot use it for saving the temporary files!')\n",
    "    print('Then rerun this cell.')\n",
    "client = Client(cluster)"
   ]
  },
  {
   "cell_type": "code",
   "execution_count": null,
   "metadata": {
    "tags": []
   },
   "outputs": [],
   "source": [
    "print('You can seee what DASK is doing at \"http://localhost:%s/status\"' % client.scheduler_info()['services']['dashboard'])"
   ]
  },
  {
   "cell_type": "code",
   "execution_count": null,
   "metadata": {
    "tags": []
   },
   "outputs": [],
   "source": [
    "# # Ignore warnings in the notebook\n",
    "# import warnings\n",
    "# warnings.filterwarnings(\"ignore\")"
   ]
  },
  {
   "cell_type": "code",
   "execution_count": null,
   "metadata": {
    "tags": []
   },
   "outputs": [],
   "source": [
    "# Set seaborn context\n",
    "# context: one of {paper, notebook, talk, poster}\n",
    "seaborn.set_context('paper')"
   ]
  },
  {
   "cell_type": "code",
   "execution_count": null,
   "metadata": {
    "tags": []
   },
   "outputs": [],
   "source": [
    "# Set up figure defaults\n",
    "plt.rc('image', cmap='gray', interpolation='nearest')  # Display all images in b&w and with 'nearest' interpolation\n",
    "plt.rcParams['figure.dpi'] = 200"
   ]
  },
  {
   "cell_type": "code",
   "execution_count": null,
   "metadata": {},
   "outputs": [],
   "source": [
    "# Set default figure size, see https://stackoverflow.com/a/41717533\n",
    "# Good to do after we're setting something strange below.\n",
    "plt.rcParams[\"figure.figsize\"] = plt.rcParamsDefault[\"figure.figsize\"]"
   ]
  },
  {
   "cell_type": "code",
   "execution_count": null,
   "metadata": {
    "tags": []
   },
   "outputs": [],
   "source": [
    "# Setup scale bar defaults\n",
    "plt.rcParams['scalebar.location'] = 'lower right'\n",
    "plt.rcParams['scalebar.frameon'] = False\n",
    "plt.rcParams['scalebar.color'] = 'white'"
   ]
  },
  {
   "cell_type": "code",
   "execution_count": null,
   "metadata": {
    "tags": []
   },
   "outputs": [],
   "source": [
    "# Different locations if running either on Linux or Windows\n",
    "FastSSD = True\n",
    "# to speed things up significantly\n",
    "if 'Linux' in platform.system():\n",
    "    if FastSSD:\n",
    "        BasePath = os.path.join(os.sep, 'media', 'habi', 'Fast_SSD')\n",
    "    else:\n",
    "        BasePath = os.path.join(os.sep, 'home', 'habi', 'research_storage_djonov')\n",
    "elif 'Darwin' in platform.system():\n",
    "    # First mount smb://resstore.unibe.ch/ana_rs_djonov/data in the Finder\n",
    "    FastSSD = False\n",
    "    BasePath = os.path.join('/Volumes/data/')\n",
    "elif 'Windows' in platform.system():\n",
    "    if FastSSD:\n",
    "        BasePath = os.path.join('F:\\\\')\n",
    "    else:\n",
    "        if 'anaklin' in platform.node():\n",
    "            BasePath = os.path.join('V:\\\\')\n",
    "        else:\n",
    "            BasePath = os.path.join('V:\\\\')\n",
    "Root = os.path.join(BasePath, 'Aaldijk', 'PelvicFloor')\n",
    "print('We are loading all the data from %s' % Root)"
   ]
  },
  {
   "cell_type": "code",
   "execution_count": null,
   "metadata": {
    "tags": []
   },
   "outputs": [],
   "source": [
    "def get_git_hash():\n",
    "    '''\n",
    "    Get the current git hash from the repository.\n",
    "    Based on http://stackoverflow.com/a/949391/323100 and\n",
    "    http://stackoverflow.com/a/18283905/323100\n",
    "    '''\n",
    "    from subprocess import Popen, PIPE\n",
    "    import os\n",
    "    gitprocess = Popen(['git',\n",
    "                        '--git-dir',\n",
    "                        os.path.join(os.getcwd(), '.git'),\n",
    "                        'rev-parse',\n",
    "                        '--short',\n",
    "                        '--verify',\n",
    "                        'HEAD'],\n",
    "                       stdout=PIPE)\n",
    "    (output, _) = gitprocess.communicate()\n",
    "    return output.strip().decode(\"utf-8\")"
   ]
  },
  {
   "cell_type": "code",
   "execution_count": null,
   "metadata": {
    "tags": []
   },
   "outputs": [],
   "source": [
    "# Make directory for output\n",
    "OutPutDir = os.path.join(os.getcwd(), 'Output', get_git_hash())\n",
    "print('We are saving all the output to %s' % OutPutDir)\n",
    "os.makedirs(OutPutDir, exist_ok=True)"
   ]
  },
  {
   "cell_type": "code",
   "execution_count": null,
   "metadata": {
    "tags": []
   },
   "outputs": [],
   "source": [
    "# Make us a dataframe for saving all that we need\n",
    "Data = pandas.DataFrame()"
   ]
  },
  {
   "cell_type": "code",
   "execution_count": null,
   "metadata": {
    "tags": []
   },
   "outputs": [],
   "source": [
    "# Get *all* log files, unsorted but faster than with glob\n",
    "print('Searching for all log files in %s' % Root)\n",
    "Data['LogFile'] = [os.path.join(root, name)\n",
    "                   for root, dirs, files in os.walk(Root)\n",
    "                   for name in files\n",
    "                   if name.endswith((\".log\"))]"
   ]
  },
  {
   "cell_type": "code",
   "execution_count": null,
   "metadata": {
    "tags": []
   },
   "outputs": [],
   "source": [
    "# Drop all the scans that are not of Foetus02\n",
    "for c, row in Data.iterrows():\n",
    "    if 'Foetus02' not in row.LogFile:\n",
    "        Data.drop([c], inplace=True)\n",
    "Data.reset_index(drop=True)"
   ]
  },
  {
   "cell_type": "code",
   "execution_count": null,
   "metadata": {
    "tags": []
   },
   "outputs": [],
   "source": [
    "# Get all folders\n",
    "Data['Folder'] = [os.path.dirname(f) for f in Data['LogFile']]"
   ]
  },
  {
   "cell_type": "code",
   "execution_count": null,
   "metadata": {
    "tags": []
   },
   "outputs": [],
   "source": [
    "# Get rid of all logfiles that we don't want and need\n",
    "for c, row in Data.iterrows():\n",
    "    if 'rec' not in row.Folder:  # drop all non-rec folders\n",
    "        Data.drop([c], inplace=True)\n",
    "    elif 'SubScan' in row.Folder:  # drop all partial reconstructions which might be there from synchronization\n",
    "        Data.drop([c], inplace=True)        \n",
    "    elif 'rectmp.log' in row.LogFile:  # drop all temporary logfiles\n",
    "        Data.drop([c], inplace=True)\n",
    "# Reset dataframe to something that we would get if we only would have loaded the 'rec' files\n",
    "Data = Data.reset_index(drop=True)"
   ]
  },
  {
   "cell_type": "code",
   "execution_count": null,
   "metadata": {
    "tags": []
   },
   "outputs": [],
   "source": [
    "# Generate us some meaningful colums\n",
    "Data['Sample'] = [l[len(Root)+1:].split(os.sep)[0] for l in Data['LogFile']]\n",
    "Data['SampleName'] = [sn.split('_')[0] for sn in Data['Sample']]\n",
    "Data['Scan'] = ['_'.join(l[len(Root)+1:].split(os.sep)[1:-1]) for l in Data['LogFile']]"
   ]
  },
  {
   "cell_type": "code",
   "execution_count": null,
   "metadata": {
    "tags": []
   },
   "outputs": [],
   "source": [
    "# Get the file names of the reconstructions\n",
    "Data['Reconstructions'] = [sorted(glob.glob(os.path.join(f, '*rec*.png'))) for f in Data['Folder']]\n",
    "Data['Number of reconstructions'] = [len(r) for r in Data.Reconstructions]"
   ]
  },
  {
   "cell_type": "code",
   "execution_count": null,
   "metadata": {},
   "outputs": [],
   "source": [
    "Data"
   ]
  },
  {
   "cell_type": "code",
   "execution_count": null,
   "metadata": {},
   "outputs": [],
   "source": [
    "Data.SampleName.unique()"
   ]
  },
  {
   "cell_type": "code",
   "execution_count": null,
   "metadata": {
    "tags": []
   },
   "outputs": [],
   "source": [
    "# Drop samples which have either not been reconstructed yet or of which we deleted the reconstructions with\n",
    "# `find . -name \"*rec*.png\" -type f -mtime +333 -delete`\n",
    "# Based on https://stackoverflow.com/a/13851602\n",
    "# for c,row in Data.iterrows():\n",
    "#     if not row['Number of reconstructions']:\n",
    "#         print('%s contains no PNG files, we might be currently reconstructing it' % row.Folder)\n",
    "Data = Data[Data['Number of reconstructions'] > 0]\n",
    "Data.reset_index(drop=True)\n",
    "print('We have %s folders with reconstructions' % (len(Data)))"
   ]
  },
  {
   "cell_type": "code",
   "execution_count": null,
   "metadata": {},
   "outputs": [],
   "source": [
    "Data"
   ]
  },
  {
   "cell_type": "code",
   "execution_count": null,
   "metadata": {
    "tags": []
   },
   "outputs": [],
   "source": [
    "# Get scanning parameters to doublecheck from logfiles\n",
    "Data['Scanner'] = [scanner(log) for log in Data['LogFile']]\n",
    "Data['Voltage'] = [voltage(log) for log in Data['LogFile']]\n",
    "Data['Current'] = [current(log) for log in Data['LogFile']]\n",
    "Data['Voxelsize'] = [pixelsize(log, rounded=True) for log in Data['LogFile']]\n",
    "Data['CameraWindow'] = [projection_size(log) for log in Data['LogFile']]\n",
    "Data['Exposuretime'] = [exposuretime(log) for log in Data['LogFile']]\n",
    "Data['Averaging'] = [averaging(log) for log in Data['LogFile']]\n",
    "Data['Stacks'] = [stacks(log) for log in Data['LogFile']]\n",
    "Data['RotationStep'] = [rotationstep(log) for log in Data['LogFile']]\n",
    "Data['Scan date'] = [scandate(log) for log in Data['LogFile']]\n",
    "Data['Scan time'] = [duration(log) for log in Data['LogFile']]"
   ]
  },
  {
   "cell_type": "code",
   "execution_count": null,
   "metadata": {
    "tags": []
   },
   "outputs": [],
   "source": [
    "# Sort our dataframe by scan date\n",
    "Data.sort_values(by='Scan date', inplace=True, ignore_index=True)"
   ]
  },
  {
   "cell_type": "code",
   "execution_count": null,
   "metadata": {
    "tags": []
   },
   "outputs": [],
   "source": [
    "# Get reconstruction parameters to doublecheck from logfiles\n",
    "Data['Grayvalue'] = [reconstruction_grayvalue(log) for log in Data['LogFile']]\n",
    "Data['RingartefactCorrection'] = [ringremoval(log) for log in Data['LogFile']]\n",
    "Data['BeamHardeningCorrection'] = [beamhardening(log) for log in Data['LogFile']]\n",
    "Data['DefectPixelMasking'] = [defectpixelmasking(log) for log in Data['LogFile']]\n",
    "Data['ROI'] = [region_of_interest(log) for log in Data['LogFile']]\n",
    "Data['Rot'] = [crosssection_rotation(l) for l in Data.LogFile]"
   ]
  },
  {
   "cell_type": "code",
   "execution_count": null,
   "metadata": {
    "tags": []
   },
   "outputs": [],
   "source": [
    "# Calculate time 'spent' since start\n",
    "Data['Time passed'] = [sd - Data['Scan date'].min() for sd in Data['Scan date']]\n",
    "# Also extract days, rounded\n",
    "Data['Days passed'] = [t.round('d') for t in Data['Time passed']]"
   ]
  },
  {
   "cell_type": "code",
   "execution_count": null,
   "metadata": {
    "tags": []
   },
   "outputs": [],
   "source": [
    "# Load all reconstructions into ephemereal DASK arrays\n",
    "#Reconstructions = [None] * len(Data)\n",
    "#for c, row in tqdm(Data.iterrows(),\n",
    "#                   desc='Load reconstructions',\n",
    "#                   total=len(Data)):\n",
    "#    Reconstructions[c] = dask_image.imread.imread(os.path.join(row['Folder'],\n",
    "#                                                               '*rec*.png'))"
   ]
  },
  {
   "cell_type": "code",
   "execution_count": null,
   "metadata": {
    "tags": []
   },
   "outputs": [],
   "source": [
    "# Convert all reconstructions into zarrays on disk, optimized for fast reading\n",
    "# Partially based on http://stackoverflow.com/a/39195332/323100\n",
    "# and on /LungMetastasis/HighResolutionScanAnalysis.ipynb\n",
    "Data['OutputNameRec'] = [((os.path.join(os.path.dirname(f), s)) + '.' + rf + '.zarr') for f, s, rf in zip(Data['Folder'],\n",
    "                                                                                                          Data['Sample'],\n",
    "                                                                                                          Data['Scan'])]\n",
    "for c, row in tqdm(Data.iterrows(),\n",
    "                            desc='Converting reconstructions to .zarr',\n",
    "                            total=len(Data)):\n",
    "    if not os.path.exists(row['OutputNameRec']):\n",
    "        print('%2s/%2s: Reading %s reconstructions and saving to %s' % (c + 1,\n",
    "                                                                        len(Data),\n",
    "                                                                        row['Number of reconstructions'],\n",
    "                                                                        row['OutputNameRec'][len(Root) + 1:]))\n",
    "        Reconstructions = dask_image.imread.imread(os.path.join(row['Folder'], '*rec*.png'))[:,:,:,0]\n",
    "        # Save out to automatically rechunked and un-compressed zarr files.\n",
    "        # This takes a *long* time, but subsequent operations are much quicker afterwards\n",
    "        Reconstructions.rechunk('auto').to_zarr(row['OutputNameRec'],\n",
    "                                                overwrite=True)"
   ]
  },
  {
   "cell_type": "code",
   "execution_count": null,
   "metadata": {
    "tags": []
   },
   "outputs": [],
   "source": [
    "# Load the reconstructions from the zarrays\n",
    "Reconstructions = [dask.array.from_zarr(file) for file in Data['OutputNameRec']]"
   ]
  },
  {
   "cell_type": "code",
   "execution_count": null,
   "metadata": {
    "scrolled": true,
    "tags": []
   },
   "outputs": [],
   "source": [
    "# How big are the datasets?\n",
    "Data['Size'] = [rec.shape for rec in Reconstructions]"
   ]
  },
  {
   "cell_type": "code",
   "execution_count": null,
   "metadata": {
    "tags": []
   },
   "outputs": [],
   "source": [
    "subsample = 3"
   ]
  },
  {
   "cell_type": "code",
   "execution_count": null,
   "metadata": {
    "tags": []
   },
   "outputs": [],
   "source": [
    "# Calculate the histograms of *all* the reconstructions\n",
    "# Caveat: dask.da.histogram returns histogram AND bins, making each histogram a 'nested' list of [h, b]\n",
    "Data['Histogram'] = [dask.array.histogram(dask.array.array(rec[::subsample,::subsample,::subsample]),\n",
    "                                          bins=2**8,\n",
    "                                          range=[0, 2**8]) for rec in Reconstructions]\n",
    "# Actually compute the data and put only h into the dataframe, so we can use it below.\n",
    "# Discard the bins\n",
    "Data['Histogram'] = [h.compute() for h, b in Data['Histogram']]"
   ]
  },
  {
   "cell_type": "code",
   "execution_count": null,
   "metadata": {
    "tags": []
   },
   "outputs": [],
   "source": [
    "# Calculate the Otsu threshold of *all* the reconstructions, subsampled for speed reasons\n",
    "Data['Threshold_Multi_Otsu'] = [skimage.filters.threshold_multiotsu(rec[::subsample,::subsample,::subsample].compute()) for rec in Reconstructions]"
   ]
  },
  {
   "cell_type": "code",
   "execution_count": null,
   "metadata": {},
   "outputs": [],
   "source": [
    "print(subsample)"
   ]
  },
  {
   "cell_type": "code",
   "execution_count": null,
   "metadata": {
    "tags": []
   },
   "outputs": [],
   "source": [
    "# Save only first value for the remainder of the script\n",
    "Data['Threshold_Otsu'] = [t[0] for t in Data['Threshold_Multi_Otsu']]"
   ]
  },
  {
   "cell_type": "code",
   "execution_count": null,
   "metadata": {},
   "outputs": [],
   "source": [
    "Data.Threshold_Otsu.mean()"
   ]
  },
  {
   "cell_type": "code",
   "execution_count": null,
   "metadata": {
    "tags": []
   },
   "outputs": [],
   "source": [
    "for c, row in sorted(Data.iterrows()):\n",
    "    # Show *all* the grey value histograms    \n",
    "    plt.semilogy(row.Histogram,\n",
    "                 label='%s' % row.Sample.replace('Foetus02', 'F2').replace('_Lugol_','_Lgl').replace('pct','%'),\n",
    "                 color=seaborn.color_palette(n_colors=len(Data))[c])\n",
    "    # Show *all* the Thresholds, too    \n",
    "    plt.axvline(row.Threshold_Otsu,\n",
    "                color=seaborn.color_palette(n_colors=len(Data))[c])\n",
    "plt.xlim([0, 255])\n",
    "plt.legend()\n",
    "plt.show()"
   ]
  },
  {
   "cell_type": "code",
   "execution_count": null,
   "metadata": {
    "tags": []
   },
   "outputs": [],
   "source": [
    "# Mask all the background\n",
    "# This is *extremely* simple segmentation, but gives us a better estimate on the grey value *in* the sample by discarding the background\n",
    "Reconstructions_masked = [dask.array.ma.masked_less(rec, threshold) for rec, threshold in zip(Reconstructions,\n",
    "                                                                                              Data['Threshold_Otsu'])]"
   ]
  },
  {
   "cell_type": "code",
   "execution_count": null,
   "metadata": {},
   "outputs": [],
   "source": [
    "for c, row in Data.iterrows():\n",
    "    # plt.subplot(121)\n",
    "    plt.imshow(Reconstructions[c][row.Size[0]//2])\n",
    "    # plt.subplot(122)\n",
    "    plt.imshow(Reconstructions_masked[c][row.Size[0]//2], cmap='viridis')\n",
    "    plt.title('Middle slice of %s>%s' % (row.Sample, row.Threshold_Otsu))\n",
    "    plt.axis('off')\n",
    "    plt.gca().add_artist(ScaleBar(row.Voxelsize,'um'))\n",
    "    plt.show()"
   ]
  },
  {
   "cell_type": "code",
   "execution_count": null,
   "metadata": {
    "tags": []
   },
   "outputs": [],
   "source": [
    "# Calculate mean brightness of the reconstructions\n",
    "# Subsample for speed reasons, the subsample value is given above\n",
    "subsample = 1\n",
    "Data['MeanBrightness'] = [rec[::subsample,::subsample,::subsample].mean().compute()\n",
    "                          for rec in Reconstructions]"
   ]
  },
  {
   "cell_type": "code",
   "execution_count": null,
   "metadata": {
    "tags": []
   },
   "outputs": [],
   "source": [
    "# Calculate mean brightness of the masked reconstructions\n",
    "Data['MeanBrightness_masked'] = [rec[::subsample,::subsample,::subsample].mean().compute()\n",
    "                                 for rec in Reconstructions_masked]"
   ]
  },
  {
   "cell_type": "code",
   "execution_count": null,
   "metadata": {
    "tags": []
   },
   "outputs": [],
   "source": [
    "Data[['Sample', 'MeanBrightness', 'MeanBrightness_masked']]"
   ]
  },
  {
   "cell_type": "code",
   "execution_count": null,
   "metadata": {
    "tags": []
   },
   "outputs": [],
   "source": [
    "# Convert the scan date to ordinal date, otherwise seaborn cannot plot them with a regplot\n",
    "# https://stackoverflow.com/a/47877062\n",
    "from datetime import date\n",
    "Data['Scan date ordinal'] = pandas.to_datetime(Data['Scan date']).apply(lambda date: date.toordinal())\n",
    "Data['Time passed ordinal'] = [t - Data['Scan date ordinal'].min() for t in Data['Scan date ordinal']]"
   ]
  },
  {
   "cell_type": "code",
   "execution_count": null,
   "metadata": {
    "tags": []
   },
   "outputs": [],
   "source": [
    "# Plot the mean brightness (original and masked) of the scan with their dates\n",
    "seaborn.regplot(data=Data,\n",
    "                x='Scan date ordinal',\n",
    "                y='MeanBrightness',\n",
    "                order=2)\n",
    "seaborn.regplot(data=Data,\n",
    "                x='Scan date ordinal',\n",
    "                y='MeanBrightness_masked',\n",
    "                order=2)\n",
    "plt.ylim(ymin=0)\n",
    "# Relabel the x-axis with the 'real', not 'ordinal' date\n",
    "plt.gca().set_xlabel('Scan date')\n",
    "new_labels = [date.fromordinal(int(item)) for item in plt.gca().get_xticks()]\n",
    "plt.gca().set_xticklabels(new_labels, rotation=-60)\n",
    "# Label text: https://matplotlib.org/stable/tutorials/text/annotations.html\n",
    "for c,row in Data.iterrows():\n",
    "    plt.gca().annotate('%s/%s' % (row.Sample.replace('Foetus02', 'F2').replace('_Lugol','').replace('_05pct','').replace('_10pct','').replace('_15pct',''), row.Scan),\n",
    "                       xy=(row['Scan date ordinal'], row.MeanBrightness),\n",
    "                       xycoords='data',\n",
    "                       xytext=(-3, -75),\n",
    "                       textcoords='offset points',\n",
    "                       ha='left',\n",
    "                       rotation=-60)\n",
    "    plt.gca().annotate('%s/%s' % (row.Sample.replace('Foetus02', 'F2').replace('_Lugol','').replace('_05pct','').replace('_10pct','').replace('_15pct',''), row.Scan),\n",
    "                       xy=(row['Scan date ordinal'], row.MeanBrightness_masked),\n",
    "                       xycoords='data',\n",
    "                       xytext=(-3, -75),\n",
    "                       textcoords='offset points',\n",
    "                       ha='left',\n",
    "                       rotation=-60)    \n",
    "plt.title('Average grey value of the %s-times subsampled reconstructions' % subsample)\n",
    "plt.show()"
   ]
  },
  {
   "cell_type": "code",
   "execution_count": null,
   "metadata": {
    "tags": []
   },
   "outputs": [],
   "source": [
    "Data[['Sample', 'Scan', 'Size', 'MeanBrightness', 'MeanBrightness_masked', 'Threshold_Otsu',\n",
    "      'ROI', 'Days passed', \n",
    "      'Grayvalue', 'RingartefactCorrection', 'BeamHardeningCorrection', 'DefectPixelMasking', 'Rot']]"
   ]
  },
  {
   "cell_type": "code",
   "execution_count": null,
   "metadata": {},
   "outputs": [],
   "source": [
    "Data[['Sample', 'Scan', 'Size', 'MeanBrightness', 'MeanBrightness_masked', 'Threshold_Otsu',\n",
    "      'ROI', 'Days passed', \n",
    "      'Grayvalue', 'RingartefactCorrection', 'BeamHardeningCorrection', 'DefectPixelMasking', 'Rot']].to_csv(os.path.join('data',\n",
    "                                                                                                                          'ScanDetails.csv'))"
   ]
  },
  {
   "cell_type": "code",
   "execution_count": null,
   "metadata": {},
   "outputs": [],
   "source": [
    "Data[['Sample', 'Scan', 'Size', 'MeanBrightness', 'MeanBrightness_masked', 'Threshold_Otsu',\n",
    "      'ROI', 'Days passed', \n",
    "      'Grayvalue', 'RingartefactCorrection', 'BeamHardeningCorrection', 'DefectPixelMasking', 'Rot']].to_excel(os.path.join('/home/habi/research_storage_djonov/Aaldijk/PelvicFloor/Pelvis-Manuscript/Data',\n",
    "                                                                                                                            'ScanDetails.xlsx'))"
   ]
  },
  {
   "cell_type": "markdown",
   "metadata": {},
   "source": [
    "Define us some helper functions for generating the figures."
   ]
  },
  {
   "cell_type": "code",
   "execution_count": null,
   "metadata": {
    "tags": []
   },
   "outputs": [],
   "source": [
    "# Adapted from AcinarSize_Johannes/MicroscopyFigure.ipynb\n",
    "def label_image(image, labeltext, x=None, y=None, color='white', boxcolor=None):\n",
    "    '''We have to print a label over the image several times'''\n",
    "    # If we didn't set coordinates, then use defaults\n",
    "    if not x:\n",
    "        x=numpy.shape(image)[1] * 0.0309\n",
    "    if not y:\n",
    "        y=numpy.shape(image)[0] - (numpy.shape(image)[0] * 0.0309)\n",
    "    t = plt.gca().text(x,\n",
    "                       y,\n",
    "                       labeltext,\n",
    "                       color=color,\n",
    "                       verticalalignment='bottom',\n",
    "                       horizontalalignment='left')\n",
    "    if boxcolor is not None:\n",
    "        t.set_bbox(dict(facecolor=boxcolor,\n",
    "                        edgecolor=boxcolor,\n",
    "                        alpha=0.618))\n",
    "    return"
   ]
  },
  {
   "cell_type": "code",
   "execution_count": null,
   "metadata": {
    "tags": []
   },
   "outputs": [],
   "source": [
    "def orthoslicer(stack, direction, coordinates, verbose=False):\n",
    "    '''\n",
    "    Does the same as \"orthogonal view\" (CTRL + Shift + h) in ImageJ\n",
    "    The *display* of the YZ slice (direction=0) is flipped and rotated, but the function is returning it in the correct orientation.\n",
    "    '''\n",
    "    if verbose:\n",
    "        print('The input stack has a size of %s x %s x %s px' % (stack.shape[0],\n",
    "                                                                 stack.shape[1],\n",
    "                                                                 stack.shape[2]))\n",
    "        print('Extracting a slice centered %s, %s, %s px in direction %s' % (coordinates[0],\n",
    "                                                                             coordinates[1],\n",
    "                                                                             coordinates[2],\n",
    "                                                                             direction))\n",
    "    if direction == 0:       \n",
    "        if verbose:\n",
    "            print('Extracting YZ slice %s of %s' % (coordinates[0], stack.shape[2]))\n",
    "        extractedslice = stack[:, :, coordinates[0]]\n",
    "    elif direction == 1:\n",
    "        if verbose:\n",
    "            print('Extracting XZ slice %s of %s' % (coordinates[1], stack.shape[1]))\n",
    "        extractedslice = stack[:,coordinates[1],:]\n",
    "    elif direction == 2:\n",
    "        if verbose:\n",
    "            print('Extracting slice %s of %s' % (coordinates[2], stack.shape[0]))\n",
    "        extractedslice = stack[coordinates[2],:,:]\n",
    "    if verbose:\n",
    "        plt.figure(999)        \n",
    "        for anatomical_direction in range(3):\n",
    "            if anatomical_direction == 0:\n",
    "                plt.subplot(2,2,2)\n",
    "                # Flip and rotate the extracted YZ slice, to be exactly consistent with the OrthoViewer of ImageJ\n",
    "                plt.imshow(skimage.exposure.equalize_adapthist(dask.array.flipud(dask.array.rot90(stack[:, :, coordinates[0]]))))\n",
    "                plt.axhline(coordinates[1], c=seaborn.color_palette(n_colors=3)[1])\n",
    "                plt.axvline(coordinates[2], c=seaborn.color_palette(n_colors=3)[2])\n",
    "                plt.title('YZ slice %s (dir=%s)\\nCoords: %s' % (coordinates[0], anatomical_direction, coordinates),\n",
    "                          color=seaborn.color_palette(n_colors=3)[anatomical_direction])\n",
    "                plt.gca().tick_params(axis='both', color=seaborn.color_palette(n_colors=3)[anatomical_direction])\n",
    "            elif anatomical_direction == 1:\n",
    "                plt.subplot(2,2,3)\n",
    "                plt.imshow(skimage.exposure.equalize_adapthist(stack[:,coordinates[1],:]))            \n",
    "                plt.axhline(coordinates[2], c=seaborn.color_palette(n_colors=3)[2])\n",
    "                plt.axvline(coordinates[0], c=seaborn.color_palette(n_colors=3)[0])\n",
    "                plt.title('XZ slice %s (dir=%s)\\nCoords: %s' % (coordinates[1], anatomical_direction, coordinates),\n",
    "                          color=seaborn.color_palette(n_colors=3)[anatomical_direction])                \n",
    "                plt.gca().tick_params(axis='both', color=seaborn.color_palette(n_colors=3)[anatomical_direction])                \n",
    "            elif anatomical_direction == 2:\n",
    "                plt.subplot(2,2,1)\n",
    "                plt.imshow(skimage.exposure.equalize_adapthist(stack[coordinates[2],:,:]))\n",
    "                plt.axhline(coordinates[1], c=seaborn.color_palette(n_colors=3)[1])\n",
    "                plt.axvline(coordinates[0], c=seaborn.color_palette(n_colors=3)[0])       \n",
    "                plt.title('Slice %s (dir=%s)\\nCoords: %s' % (coordinates[2], anatomical_direction, coordinates),\n",
    "                          color=seaborn.color_palette(n_colors=3)[anatomical_direction])\n",
    "                plt.gca().tick_params(axis='both', color=seaborn.color_palette(n_colors=3)[anatomical_direction])\n",
    "        plt.tight_layout(pad=0.25)\n",
    "        plt.show()\n",
    "    return(extractedslice)"
   ]
  },
  {
   "cell_type": "code",
   "execution_count": null,
   "metadata": {
    "tags": []
   },
   "outputs": [],
   "source": [
    "# Test extraction script\n",
    "# Coordinates are set at the border of left big blood vessel on slice 2434 on 11um stack of d152, as shown in OrthoViewer of ImageJ\n",
    "extracted_slice = orthoslicer(Reconstructions[15],\n",
    "                                            0,\n",
    "                                            (1912,1128,2600),\n",
    "                                            verbose=True)\n",
    "plt.figure()\n",
    "plt.imshow(extracted_slice)\n",
    "plt.show()"
   ]
  },
  {
   "cell_type": "code",
   "execution_count": null,
   "metadata": {
    "tags": []
   },
   "outputs": [],
   "source": [
    "def markregion(image, coordinates, width, height, rectangle=True, center=True, verbose=False):\n",
    "    \"\"\"\n",
    "    Mark a rectangular region in an image.\n",
    "    \"\"\"\n",
    "    if len(image.shape) == 2:\n",
    "        plt.imshow(skimage.exposure.equalize_adapthist(image))\n",
    "        if len(coordinates) == 3:\n",
    "            if verbose:\n",
    "                plt.title('Slice %s of input stack, with marked ROI' % coordinates[2])\n",
    "        if center:\n",
    "            plt.scatter(coordinates[0], coordinates[1], color='white', marker='x')\n",
    "            plt.gca().annotate('x=%s, y=%s' % (coordinates[0], coordinates[1]),\n",
    "                               color='white',\n",
    "                               xy=(coordinates[0], coordinates[1]),\n",
    "                               xycoords='data', ha='center', va='top')\n",
    "        if rectangle:\n",
    "            plt.gca().add_patch(patches.Rectangle((coordinates[0] - width / 2, coordinates[1] - height / 2), width, height,\n",
    "                                                  linestyle='--',\n",
    "                                                  edgecolor='white',\n",
    "                                                  facecolor='none'))\n",
    "\n",
    "    if len(image.shape) == 3:\n",
    "        print('I cannot mark a region in a stack. Extract a region first with `extract_roi_2d(stack, coordinates)`.')"
   ]
  },
  {
   "cell_type": "code",
   "execution_count": null,
   "metadata": {},
   "outputs": [],
   "source": [
    "markregion(Reconstructions[15][1234],\n",
    "           (2000, 800, 1234),\n",
    "           width=500, height=750)"
   ]
  },
  {
   "cell_type": "code",
   "execution_count": null,
   "metadata": {
    "tags": []
   },
   "outputs": [],
   "source": [
    "def extract_roi(stack, coordinates, width=None, height=None, verbose=False):\n",
    "    \"\"\"Extract a ROI in a slice of an input stack\"\"\"\n",
    "    extractedroi=stack[coordinates[2]][coordinates[1] - int(height/2):coordinates[1] + int(height/2),coordinates[0] - int(width/2):coordinates[0]+int(width/2)]\n",
    "    if verbose:\n",
    "        # fig = plt.figure()\n",
    "        # ax = fig.add_subplot(121)\n",
    "        # plt.imshow(stack[coordinates[2]])\n",
    "        # show region mark\n",
    "        markregion(stack[coordinates[2]], coordinates, width, height, verbose=verbose)\n",
    "        # plt.title('Slice %s of input stack\\n'\n",
    "        #           'Centered at x=%s and y=%s' % (coordinates[2], coordinates[0], coordinates[1]))\n",
    "        # ax = fig.add_subplot(122)\n",
    "        # plt.imshow(extract)\n",
    "        # plt.title('Extract\\n'\n",
    "        #          '%s x %s px' % (extract.shape[0], extract.shape[1]))\n",
    "        # plt.show()\n",
    "    return(extractedroi)"
   ]
  },
  {
   "cell_type": "code",
   "execution_count": null,
   "metadata": {
    "tags": []
   },
   "outputs": [],
   "source": [
    "# Test ROI extraction\n",
    "extractA = extract_roi(Reconstructions[15],\n",
    "                       (1200, 750, 1634),\n",
    "                       width=1250, height=750, verbose=True)"
   ]
  },
  {
   "cell_type": "code",
   "execution_count": null,
   "metadata": {},
   "outputs": [],
   "source": [
    "plt.imshow(extractA)"
   ]
  },
  {
   "cell_type": "code",
   "execution_count": null,
   "metadata": {},
   "outputs": [],
   "source": [
    "def extract_roi_2d(image, coordinates, width=None, height=None, verbose=False):\n",
    "    \"\"\"Get a (small) region from an input image\"\"\"\n",
    "    if len(coordinates) !=2:\n",
    "        print('I need 2D coordinates')\n",
    "        return()\n",
    "    extractedroi=image[coordinates[1] - int(height/2):coordinates[1] + int(height/2),\n",
    "    coordinates[0] - int(width/2):coordinates[0]+int(width/2)]\n",
    "    if verbose:\n",
    "        # plt.figure(2222)\n",
    "        # plt.subplot(121)\n",
    "        markregion(image, coordinates, width, height, verbose=verbose)\n",
    "        # plt.title('ROI centered at x=%s and y=%s' % (coordinates[0], coordinates[1]))\n",
    "        # plt.subplot(122)\n",
    "        # plt.imshow(extract)\n",
    "        # plt.title('Extract\\n'\n",
    "        #          '%s x %s px' % (extract.shape[0], extract.shape[1]))\n",
    "        # plt.show()\n",
    "    return(extractedroi)"
   ]
  },
  {
   "cell_type": "code",
   "execution_count": null,
   "metadata": {},
   "outputs": [],
   "source": [
    "crop = extract_roi_2d(extractA, (500, 400), width=250, height=300, verbose=True)"
   ]
  },
  {
   "cell_type": "code",
   "execution_count": null,
   "metadata": {},
   "outputs": [],
   "source": [
    "plt.imshow(crop)"
   ]
  },
  {
   "cell_type": "code",
   "execution_count": null,
   "metadata": {},
   "outputs": [],
   "source": [
    "# Generate subdirectory for all figures and panels\n",
    "os.makedirs('/home/habi/research_storage_djonov/Aaldijk/PelvicFloor/Pelvis-Manuscript/Figures/', exist_ok=True)\n",
    "for i in range(1, 7):\n",
    "    os.makedirs(os.path.join(OutPutDir, 'Fig0%s.panels' % i), exist_ok=True)\n",
    "    os.makedirs('/home/habi/research_storage_djonov/Aaldijk/PelvicFloor/Pelvis-Manuscript/Figures/Fig0%s.panels' % i, exist_ok=True)"
   ]
  },
  {
   "cell_type": "markdown",
   "metadata": {},
   "source": [
    "----\n",
    "# Figure 1\n",
    "\n",
    "We want to show a figure with the grey value curve along the timeframe we stained and scanned.\n",
    "In addition some representative slices of a dataset at the start, middle and end of the duration.\n",
    "And some detailed view of marked regions in these slices."
   ]
  },
  {
   "cell_type": "code",
   "execution_count": null,
   "metadata": {
    "tags": []
   },
   "outputs": [],
   "source": [
    "# Automatically find the one day closest to the middle of the duration.\n",
    "# https://stackoverflow.com/a/30112305/323100\n",
    "middleone = Data.index[(Data['Days passed'] - Data['Days passed'].median()).abs().argsort()[:1]][0]\n",
    "Data.loc[middleone][['Sample', 'Scan', 'Days passed','Voxelsize']]"
   ]
  },
  {
   "cell_type": "code",
   "execution_count": null,
   "metadata": {
    "tags": []
   },
   "outputs": [],
   "source": [
    "# Put ROI coordinates we want to show for this figure into dataframe\n",
    "Data['Coordinates'] = ''\n",
    "Data.at[0, 'Coordinates'] = [800, 900, 1634]\n",
    "Data.at[middleone, 'Coordinates'] = [800, 900, 1634]\n",
    "Data.at[len(Data)-1, 'Coordinates'] = [1000, 1500, 2614]"
   ]
  },
  {
   "cell_type": "code",
   "execution_count": null,
   "metadata": {
    "tags": []
   },
   "outputs": [],
   "source": [
    "# Recalculate voxel size scaling (for showing both 20 um and 11 um scans)\n",
    "11.0/20.0"
   ]
  },
  {
   "cell_type": "code",
   "execution_count": null,
   "metadata": {
    "tags": []
   },
   "outputs": [],
   "source": [
    "# Extract relevant regions from relevant images\n",
    "width = 900\n",
    "height = 900\n",
    "detail_start = extract_roi(Reconstructions[0],\n",
    "                          Data['Coordinates'][0],\n",
    "                          width=width, height=height)\n",
    "detail_mid = extract_roi(Reconstructions[middleone],\n",
    "                         Data['Coordinates'][middleone],\n",
    "                         width=width, height=height)\n",
    "# Scale width/height with voxel size difference (11/20 um)\n",
    "detail_end = extract_roi(Reconstructions[-1],\n",
    "                         Data['Coordinates'].iloc[-1], width=width/.55, height=height/.55)"
   ]
  },
  {
   "cell_type": "code",
   "execution_count": null,
   "metadata": {
    "tags": []
   },
   "outputs": [],
   "source": [
    "MeanBrightness_Copy = Data[Data['Grayvalue'] == 0.04]"
   ]
  },
  {
   "cell_type": "code",
   "execution_count": null,
   "metadata": {},
   "outputs": [],
   "source": [
    "plt.rcParams[\"figure.figsize\"]"
   ]
  },
  {
   "cell_type": "code",
   "execution_count": null,
   "metadata": {},
   "outputs": [],
   "source": [
    "if subsample != 1:\n",
    "    print('We calculated the average gray value on %s-times subsampled reconstructions' % subsample)\n",
    "    print('DO NOT USE THIS IN FINAL VERSION OF MANUSCRIPT!')"
   ]
  },
  {
   "cell_type": "code",
   "execution_count": null,
   "metadata": {},
   "outputs": [],
   "source": [
    "# Generate figure 1\n",
    "fig = plt.figure(1, figsize=(plt.rcParams[\"figure.figsize\"][0],\n",
    "                             plt.rcParams[\"figure.figsize\"][0]*0.975))\n",
    "plt.subplot(3,1,1)\n",
    "# Plot the mean brightness of the scan with their dates\n",
    "seaborn.regplot(data=MeanBrightness_Copy,  # Only show 'low resolution scans', others should *not* be matched. We can easily do that with excluding all the ones that have not used 0.04 as max grayvalue in the reconstructions\n",
    "               x='Time passed ordinal',  # Plot the grey values with 'time passed' instead of scan date\n",
    "               y='MeanBrightness_masked',\n",
    "               order=2)\n",
    "# Mark the images we show below on the plot\n",
    "for c, i in enumerate([0, middleone, len(Data)-2]): # Use len(Data)-*2* here, because otherwise we label at the y-value of the not-shown HR scan, which looks not so good.\n",
    "    plt.gca().annotate('%s&%s' % (ascii_uppercase[c+1], ascii_uppercase[c+1+3]),\n",
    "                       xy=(Data['Time passed ordinal'][i], Data['MeanBrightness_masked'][i]),\n",
    "                       xytext=(Data['Time passed ordinal'][i] + 15 + (15 * - c), Data['MeanBrightness_masked'][i] - 15),\n",
    "                       ha='center',\n",
    "                       arrowprops = dict(\n",
    "                           arrowstyle='->',\n",
    "                           # connectionstyle='angle,angleA=0,angleB=-45,rad=5'\n",
    "                       )\n",
    "                       )\n",
    "# Tweak the tick labels and positions to minimize plot extent\n",
    "plt.gca().tick_params(axis='x', direction='in', pad=-15)\n",
    "plt.xlabel('Days passed')\n",
    "plt.gca().xaxis.set_label_coords(0.5, 0.25)\n",
    "plt.gca().tick_params(axis='y', direction='in', pad=-20)\n",
    "plt.ylim(ymin=0)\n",
    "# Get ylabels to suppress the y=0 label, whichis otherwise *very* ugly\n",
    "ticks = [item for item in plt.gca().get_yticks()]\n",
    "labels = [item.get_text() for item in plt.gca().get_yticklabels()]\n",
    "labels[0] = ''\n",
    "plt.gca().set_yticks(ticks)\n",
    "plt.gca().set_yticklabels(labels)\n",
    "plt.ylabel('Average grey value')\n",
    "if subsample != 1:\n",
    "    plt.title('Average grey value from %s-times subsampled reconstructions (DO NOT USE IN FINAL VERSION!)' % subsample)\n",
    "seaborn.despine()\n",
    "# Add overview images\n",
    "plt.subplot(3,3,4)\n",
    "markregion(Reconstructions[0][Data['Coordinates'][0][2]], \n",
    "           Data['Coordinates'][0], width, height, center=False)\n",
    "plt.gca().add_artist(ScaleBar(Data['Voxelsize'][0],'um'))\n",
    "label_image(Reconstructions[0][Data['Coordinates'][0][2]], 'B')\n",
    "plt.axis('off')\n",
    "plt.subplot(3,3,5)\n",
    "markregion(Reconstructions[middleone][Data['Coordinates'][middleone][2]],\n",
    "           Data['Coordinates'][middleone], width, height, center=False)\n",
    "plt.gca().add_artist(ScaleBar(Data['Voxelsize'][middleone],'um'))\n",
    "label_image(Reconstructions[middleone][Data['Coordinates'][middleone][2]], 'C')\n",
    "plt.axis('off')\n",
    "plt.subplot(3,3,6)\n",
    "markregion(Reconstructions[-1][Data['Coordinates'].iloc[-1][2]],\n",
    "           Data['Coordinates'].iloc[-1],\n",
    "           width=width/.55, height=height/.55, center=False)\n",
    "plt.gca().add_artist(ScaleBar(Data['Voxelsize'].iloc[-1],'um'))\n",
    "label_image(Reconstructions[-1][Data['Coordinates'].iloc[-1][2]], 'D')\n",
    "plt.axis('off')\n",
    "# Add regions\n",
    "plt.subplot(3,3,7)\n",
    "plt.imshow(skimage.exposure.equalize_adapthist(detail_start))\n",
    "plt.gca().add_artist(ScaleBar(Data['Voxelsize'][0],'um'))\n",
    "label_image(detail_start, 'E')\n",
    "plt.axis('off')\n",
    "plt.subplot(3,3,8)\n",
    "plt.imshow(skimage.exposure.equalize_adapthist(detail_mid))\n",
    "plt.gca().add_artist(ScaleBar(Data['Voxelsize'][middleone],'um'))\n",
    "label_image(detail_mid, 'F')\n",
    "plt.axis('off')\n",
    "plt.subplot(3,3,9)\n",
    "plt.imshow(skimage.exposure.equalize_adapthist(detail_end))\n",
    "plt.gca().add_artist(ScaleBar(Data['Voxelsize'].iloc[-1],'um'))\n",
    "label_image(detail_end, 'G')\n",
    "plt.axis('off')\n",
    "plt.tight_layout(pad=0.25)\n",
    "plt.savefig(os.path.join(OutPutDir, 'Fig01.png'))\n",
    "plt.savefig(os.path.join('/home/habi/research_storage_djonov/Aaldijk/PelvicFloor/Pelvis-Manuscript/Figures', 'Fig01.png'))\n",
    "plt.show()"
   ]
  },
  {
   "cell_type": "markdown",
   "metadata": {},
   "source": [
    "----\n",
    "# Figure 2"
   ]
  },
  {
   "cell_type": "code",
   "execution_count": null,
   "metadata": {},
   "outputs": [],
   "source": [
    "plt.rcParams[\"figure.figsize\"][0] * 3 / 2.0"
   ]
  },
  {
   "cell_type": "code",
   "execution_count": null,
   "metadata": {},
   "outputs": [],
   "source": [
    "# Collect figure 2\n",
    "fig = plt.figure(2, figsize=(plt.rcParams[\"figure.figsize\"][0],\n",
    "                             plt.rcParams[\"figure.figsize\"][0] * 2.0 / 3.0))  # Make the figure 3:2-format\n",
    "plt.subplot(231)\n",
    "markregion(Reconstructions[-1][819], \n",
    "           (1936, 2218, 819), 500, 500, center=False)\n",
    "plt.gca().add_artist(ScaleBar(Data['Voxelsize'].iloc[-1],'um'))\n",
    "label_image(Reconstructions[-1][819], 'A')\n",
    "plt.axis('off')\n",
    "plt.subplot(232)\n",
    "markregion(Reconstructions[-1][2527], \n",
    "           (2048, 2180, 2527), 700, 700, center=False)\n",
    "plt.gca().add_artist(ScaleBar(Data['Voxelsize'].iloc[-1],'um'))\n",
    "label_image(Reconstructions[-1][819], 'B')\n",
    "plt.axis('off')\n",
    "plt.subplot(233)\n",
    "markregion(Reconstructions[-1][2044], \n",
    "           (1928, 2120, 2044), 800, 800, center=False)\n",
    "plt.gca().add_artist(ScaleBar(Data['Voxelsize'].iloc[-1],'um'))\n",
    "label_image(Reconstructions[-1][819], 'C')\n",
    "plt.axis('off')\n",
    "plt.subplot(234)\n",
    "plt.imshow(skimage.exposure.equalize_adapthist(extract_roi(Reconstructions[-1],\n",
    "                                                           (1936, 2218, 819), 500, 500)))\n",
    "plt.gca().add_artist(ScaleBar(Data['Voxelsize'].iloc[-1],'um'))\n",
    "label_image(extract_roi(Reconstructions[-1],\n",
    "                        (1936, 2218, 819), 500, 500),\n",
    "            'D')\n",
    "plt.axis('off')\n",
    "plt.subplot(235)\n",
    "plt.imshow(skimage.exposure.equalize_adapthist(extract_roi(Reconstructions[-1],\n",
    "                                                           (2048, 2180, 2527), 700, 700)))\n",
    "plt.gca().add_artist(ScaleBar(Data['Voxelsize'].iloc[-1],'um'))\n",
    "label_image(extract_roi(Reconstructions[-1],\n",
    "                        (2048, 2180, 2527), 700, 700),\n",
    "            'E')\n",
    "plt.axis('off')\n",
    "plt.subplot(236)\n",
    "plt.imshow(skimage.exposure.equalize_adapthist(extract_roi(Reconstructions[-1], \n",
    "           (1928, 2120, 2044), 800, 800)))\n",
    "plt.gca().add_artist(ScaleBar(Data['Voxelsize'].iloc[-1],'um'))\n",
    "label_image(extract_roi(Reconstructions[-1],\n",
    "                        (1928, 2120, 2044), 800, 800),\n",
    "            'F')\n",
    "plt.axis('off')\n",
    "plt.tight_layout(pad=0.25)\n",
    "plt.savefig(os.path.join(OutPutDir, 'Fig02.png'))\n",
    "plt.savefig(os.path.join('/home/habi/research_storage_djonov/Aaldijk/PelvicFloor/Pelvis-Manuscript/Figures', 'Fig02.png'))\n",
    "plt.show()"
   ]
  },
  {
   "cell_type": "markdown",
   "metadata": {},
   "source": [
    "----\n",
    "# Figure 3"
   ]
  },
  {
   "cell_type": "markdown",
   "metadata": {},
   "source": [
    "Dea marked the details/panels in a PPT, the coordinates are copy-pasted from there."
   ]
  },
  {
   "cell_type": "code",
   "execution_count": null,
   "metadata": {},
   "outputs": [],
   "source": [
    "a = orthoslicer(Reconstructions[-1],\n",
    "                              2,\n",
    "                              (1990,2300,948))\n",
    "a = extract_roi_2d(a, (1990, 2300),\n",
    "                   width=1000, height=1000)\n",
    "# plt.imshow(a)"
   ]
  },
  {
   "cell_type": "code",
   "execution_count": null,
   "metadata": {},
   "outputs": [],
   "source": [
    "b = orthoslicer(Reconstructions[-1],\n",
    "                              1,\n",
    "                              # (3072-1085,4176-3302,1114),\n",
    "                              (1112, 3072-1114, 852),\n",
    "                              )\n",
    "b = extract_roi_2d(b, (1980, 850),\n",
    "                   width=890, height=890)\n",
    "# plt.imshow(skimage.exposure.equalize_adapthist(f))"
   ]
  },
  {
   "cell_type": "code",
   "execution_count": null,
   "metadata": {},
   "outputs": [],
   "source": [
    "c = orthoslicer(Reconstructions[-1],\n",
    "                              2,\n",
    "                              (2000,1700,732))\n",
    "c = extract_roi_2d(c, (2000, 1700),\n",
    "                   width=1000, height=1000)\n",
    "# plt.imshow(c)"
   ]
  },
  {
   "cell_type": "code",
   "execution_count": null,
   "metadata": {},
   "outputs": [],
   "source": [
    "d = orthoslicer(Reconstructions[-1],\n",
    "                              2,\n",
    "                              (2040,1652,608))\n",
    "d = extract_roi_2d(d, (2040, 1652),\n",
    "                   width=900, height=900)\n",
    "# plt.imshow(d)"
   ]
  },
  {
   "cell_type": "code",
   "execution_count": null,
   "metadata": {},
   "outputs": [],
   "source": [
    "e = orthoslicer(Reconstructions[-1],\n",
    "                              2,\n",
    "                              (2000,1600,881))\n",
    "e = extract_roi_2d(e, (2000, 1600),\n",
    "                   width=920, height=920)"
   ]
  },
  {
   "cell_type": "code",
   "execution_count": null,
   "metadata": {},
   "outputs": [],
   "source": [
    "# for i in range(1890,1925,10):\n",
    "    \n",
    "#     f = orthoslicer(Reconstructions[-1],\n",
    "#                               1,\n",
    "#                               # (3072-1085,4176-3302,1114),\n",
    "#                               (2100,i,1114),\n",
    "#                               )\n",
    "#     plt.imshow(skimage.exposure.equalize_adapthist(f[:,500:1500]))\n",
    "#     plt.title(i)\n",
    "#     plt.show()"
   ]
  },
  {
   "cell_type": "code",
   "execution_count": null,
   "metadata": {},
   "outputs": [],
   "source": [
    "f = orthoslicer(Reconstructions[-1],\n",
    "                              0,\n",
    "                              (2126,3072-1900,897),\n",
    "                              )\n",
    "f = extract_roi_2d(f, (1900, 897),\n",
    "                   width=900, height=900)\n",
    "# plt.imshow(e)"
   ]
  },
  {
   "cell_type": "code",
   "execution_count": null,
   "metadata": {},
   "outputs": [],
   "source": [
    "# Save out some panels for quickly getting the coordinates to mark\n",
    "imageio.imsave(os.path.join('/home/habi/research_storage_djonov/Aaldijk/PelvicFloor/Pelvis-Manuscript/Figures', 'Fig03.panels', 'Fig03.A.png'),\n",
    "               (255*skimage.exposure.equalize_adapthist(a.compute())).astype('uint8'))\n",
    "imageio.imsave(os.path.join('/home/habi/research_storage_djonov/Aaldijk/PelvicFloor/Pelvis-Manuscript/Figures', 'Fig03.panels', 'Fig03.B.png'),\n",
    "               (255*skimage.exposure.equalize_adapthist(b.compute())).astype('uint8'))\n",
    "imageio.imsave(os.path.join('/home/habi/research_storage_djonov/Aaldijk/PelvicFloor/Pelvis-Manuscript/Figures', 'Fig03.panels', 'Fig03.C.png'),\n",
    "               (255*skimage.exposure.equalize_adapthist(c.compute())).astype('uint8'))\n",
    "imageio.imsave(os.path.join('/home/habi/research_storage_djonov/Aaldijk/PelvicFloor/Pelvis-Manuscript/Figures', 'Fig03.panels', 'Fig03.D.png'),\n",
    "               (255*skimage.exposure.equalize_adapthist(d.compute())).astype('uint8'))\n",
    "imageio.imsave(os.path.join('/home/habi/research_storage_djonov/Aaldijk/PelvicFloor/Pelvis-Manuscript/Figures', 'Fig03.panels', 'Fig03.E.png'),\n",
    "               (255*skimage.exposure.equalize_adapthist(dask.array.flipud(e).compute())).astype('uint8'))\n",
    "imageio.imsave(os.path.join('/home/habi/research_storage_djonov/Aaldijk/PelvicFloor/Pelvis-Manuscript/Figures', 'Fig03.panels', 'Fig03.F.png'),\n",
    "               (255*skimage.exposure.equalize_adapthist(dask.array.rot90(dask.array.rot90(f)).compute())).astype('uint8'))"
   ]
  },
  {
   "cell_type": "code",
   "execution_count": null,
   "metadata": {},
   "outputs": [],
   "source": [
    "def ourarrow(x, y, linestyle='solid', yaw='left', pitch='up', color='white'):\n",
    "    ''' Draws an arrow at defined position. Default arrows point to up left. '''\n",
    "    horizontaldisplacement = 75\n",
    "    verticaldisplacement = horizontaldisplacement\n",
    "    if 'right' in yaw:\n",
    "        horizontaldisplacement = horizontaldisplacement * -1\n",
    "    if 'down' in pitch:\n",
    "        verticaldisplacement = verticaldisplacement * -1\n",
    "    plt.gca().annotate('', xy=(x, y),\n",
    "                       xytext=(x + horizontaldisplacement, y + verticaldisplacement),\n",
    "                       arrowprops=dict(arrowstyle = '->',\n",
    "                                       linestyle=linestyle,\n",
    "                                       connectionstyle = 'arc3',\n",
    "                                       color=color))\n",
    "    return"
   ]
  },
  {
   "cell_type": "code",
   "execution_count": null,
   "metadata": {},
   "outputs": [],
   "source": [
    "# plt.imshow(a)\n",
    "# ourarrow(400,400)\n",
    "# ourarrow(400,400, yaw='right', pitch='down', color='green')\n",
    "# ourarrow(400,400, yaw='left', pitch='down', color='red')\n",
    "# ourarrow(400,400, yaw='right', pitch='up', color='blue')\n",
    "# plt.show()"
   ]
  },
  {
   "cell_type": "code",
   "execution_count": null,
   "metadata": {
    "tags": []
   },
   "outputs": [],
   "source": [
    "fig = plt.figure(3, figsize=(plt.rcParams[\"figure.figsize\"][0],\n",
    "                             plt.rcParams[\"figure.figsize\"][0] * 2.0 / 3.0))  # Make the figure 3:2-format\n",
    "plt.subplot(2,3,1)\n",
    "plt.imshow(skimage.exposure.equalize_adapthist(a))\n",
    "plt.scatter(192, 562, marker='*', color='white')\n",
    "plt.scatter(328, 524, marker='x', color='white')\n",
    "plt.scatter(668, 462, marker='x', color='white')\n",
    "ourarrow(248, 661, linestyle='dashed')\n",
    "ourarrow(364, 671)\n",
    "ourarrow(688, 583)\n",
    "plt.axis('off')\n",
    "plt.gca().add_artist(ScaleBar(Data['Voxelsize'].iloc[-1],'um'))\n",
    "label_image(a, 'A')\n",
    "plt.subplot(2,3,2)\n",
    "plt.imshow(skimage.exposure.equalize_adapthist(dask.array.rot90(dask.array.rot90(b))))\n",
    "plt.gca().add_patch(patches.Ellipse((172, 570),\n",
    "                                    150, 100, facecolor='None'))\n",
    "ourarrow(260, 89, yaw='right', linestyle='dashed')\n",
    "ourarrow(650, 806)\n",
    "ourarrow(702, 33, linestyle='dashed')\n",
    "ourarrow(666, 674, linestyle='dotted')\n",
    "plt.scatter(408, 515, marker='*', color='white')\n",
    "marker = MarkerStyle(marker='^')  # Thanks ChatGPT for showing me how to quickly rotate a marker :)\n",
    "marker._transform.rotate_deg(45)\n",
    "plt.scatter(559, 479, marker=marker, color='white')\n",
    "\n",
    "plt.axis('off')\n",
    "plt.gca().add_artist(ScaleBar(Data['Voxelsize'].iloc[-1],'um'))\n",
    "label_image(b, 'B')\n",
    "plt.subplot(2,3,3)\n",
    "plt.imshow(skimage.exposure.equalize_adapthist(c))\n",
    "plt.gca().add_patch(patches.Ellipse((724, 758),\n",
    "                                    150, 200, angle=10, facecolor='None'))\n",
    "ourarrow(148, 502, yaw='right')\n",
    "ourarrow(805, 662, linestyle='dashed')\n",
    "ourarrow(861, 530)\n",
    "plt.axis('off')\n",
    "plt.gca().add_artist(ScaleBar(Data['Voxelsize'].iloc[-1],'um'))\n",
    "label_image(c,'C')\n",
    "plt.subplot(2,3,4)\n",
    "plt.imshow(skimage.exposure.equalize_adapthist(d))\n",
    "\n",
    "ourarrow(178, 710, yaw='right')\n",
    "ourarrow(744, 620)\n",
    "ourarrow(644, 160, pitch='down')\n",
    "\n",
    "\n",
    "\n",
    "plt.axis('off')\n",
    "plt.gca().add_artist(ScaleBar(Data['Voxelsize'].iloc[-1],'um'))\n",
    "label_image(d,'D')\n",
    "plt.subplot(2,3,5)\n",
    "\n",
    "plt.imshow(skimage.exposure.equalize_adapthist(e))\n",
    "plt.scatter(396, 807, marker='x', color='white')\n",
    "ourarrow(452, 854)\n",
    "ourarrow(486, 839)\n",
    "\n",
    "\n",
    "plt.axis('off')\n",
    "plt.gca().add_artist(ScaleBar(Data['Voxelsize'].iloc[-1],'um'))\n",
    "label_image(e,'E')\n",
    "plt.subplot(2,3,6)\n",
    "\n",
    "plt.imshow(skimage.exposure.equalize_adapthist(dask.array.flipud(f)))\n",
    "\n",
    "\n",
    "\n",
    "ourarrow(465, 568, yaw='right')\n",
    "ourarrow(460, 620, yaw='right')\n",
    "ourarrow(453, 711, yaw='right')\n",
    "ourarrow(519, 526, linestyle='dashed', yaw='left', pitch='down')\n",
    "\n",
    "\n",
    "plt.axis('off')\n",
    "plt.gca().add_artist(ScaleBar(Data['Voxelsize'].iloc[-1],'um'))\n",
    "label_image(f,'F')\n",
    "plt.tight_layout(pad=0.25)\n",
    "plt.savefig(os.path.join(OutPutDir, 'Fig03.png'))\n",
    "plt.savefig(os.path.join('/home/habi/research_storage_djonov/Aaldijk/PelvicFloor/Pelvis-Manuscript/Figures', 'Fig03.png'))\n",
    "plt.show()"
   ]
  },
  {
   "cell_type": "markdown",
   "metadata": {},
   "source": [
    "----\n",
    "# Figure 4"
   ]
  },
  {
   "cell_type": "code",
   "execution_count": null,
   "metadata": {},
   "outputs": [],
   "source": [
    "fig = plt.figure(4, figsize=(plt.rcParams[\"figure.figsize\"][0],\n",
    "                             plt.rcParams[\"figure.figsize\"][0] * 3.0 / 4.0))  # Make the figure 4:3-format\n",
    "for c, i in enumerate(range(664,687,2)):\n",
    "    # print(i)\n",
    "    plt.subplot(3, 4, 11 - c + 1)\n",
    "    image = orthoslicer(Reconstructions[-1],\n",
    "                              2,\n",
    "                              (2173, 1935, i),\n",
    "                              )\n",
    "    crop = extract_roi_2d(image, (2173, 1935),\n",
    "            width=465, height=465, verbose=False)    \n",
    "    plt.imshow(skimage.exposure.equalize_adapthist(crop))\n",
    "    # write out panels, makes finding coordinates for arrows simpler :)\n",
    "    imageio.imwrite(os.path.join('/home/habi/research_storage_djonov/Aaldijk/PelvicFloor/Pelvis-Manuscript/Figures',\n",
    "                         'Fig04.panels', 'Fig04.%04d.png' % i), (255 * skimage.exposure.equalize_adapthist(crop)).astype('uint8'))\n",
    "    if c == 0:\n",
    "        plt.gca().add_artist(ScaleBar(Data['Voxelsize'].iloc[-1],'um'))\n",
    "    label_image(crop,i)\n",
    "    plt.axis('off')\n",
    "    # Markers\n",
    "    plt.subplot(3, 4, 1)\n",
    "    ourarrow(378, 247, yaw='right', pitch='down')\n",
    "    plt.gca().add_patch(patches.Ellipse((362, 314),\n",
    "                                    85, 185, facecolor='None', linewidth=0.5))    \n",
    "    plt.subplot(3, 4, 2)\n",
    "    ourarrow(378, 247, yaw='right', pitch='down')\n",
    "    ourarrow(337, 348, yaw='right', linestyle='dotted')\n",
    "    plt.subplot(3, 4, 3)\n",
    "    ourarrow(376, 245, yaw='right', pitch='down')\n",
    "    ourarrow(322, 327, yaw='right', linestyle='dotted')\n",
    "    plt.subplot(3, 4, 4)\n",
    "    ourarrow(372, 242, yaw='right', pitch='down')\n",
    "    ourarrow(315, 326, yaw='right', linestyle='dotted')\n",
    "    plt.subplot(3, 4, 5)\n",
    "    ourarrow(362, 250, yaw='right', pitch='down')\n",
    "    ourarrow(315, 325, yaw='right', linestyle='dotted')\n",
    "    plt.subplot(3, 4, 6)\n",
    "    ourarrow(363, 243, yaw='right', pitch='down')\n",
    "    ourarrow(303, 294, yaw='right', linestyle='dotted')\n",
    "    plt.subplot(3, 4, 7)\n",
    "    ourarrow(370, 225, yaw='right', pitch='down')\n",
    "    ourarrow(297, 290, yaw='right', linestyle='dotted')\n",
    "    plt.subplot(3, 4, 8)\n",
    "    ourarrow(368, 227, yaw='right', pitch='down')\n",
    "    ourarrow(303, 300, yaw='right', linestyle='dotted')\n",
    "    plt.subplot(3, 4, 9)\n",
    "    ourarrow(379, 211, yaw='right', pitch='down')\n",
    "    ourarrow(295, 292, yaw='right', linestyle='dotted')\n",
    "    plt.subplot(3, 4, 10)\n",
    "    ourarrow(381, 199, yaw='right', pitch='down')\n",
    "    ourarrow(292, 295, yaw='right', linestyle='dotted')  \n",
    "    plt.subplot(3, 4, 11)\n",
    "    ourarrow(376, 201, yaw='right', pitch='down')\n",
    "    ourarrow(281, 283, yaw='right', linestyle='dotted')   \n",
    "    plt.subplot(3, 4, 12)\n",
    "    ourarrow(392, 161, yaw='right', pitch='down')\n",
    "    ourarrow(256, 271, yaw='right', linestyle='dotted')\n",
    "plt.tight_layout(pad=0.25)\n",
    "plt.savefig(os.path.join(OutPutDir, 'Fig04.png'))\n",
    "plt.savefig(os.path.join('/home/habi/research_storage_djonov/Aaldijk/PelvicFloor/Pelvis-Manuscript/Figures',\n",
    "                         'Fig04.png'))\n",
    "plt.show()"
   ]
  },
  {
   "cell_type": "markdown",
   "metadata": {},
   "source": [
    "----\n",
    "# Figure 5"
   ]
  },
  {
   "cell_type": "code",
   "execution_count": null,
   "metadata": {},
   "outputs": [],
   "source": [
    "fig = plt.figure(5, figsize=(plt.rcParams[\"figure.figsize\"][0],\n",
    "                             plt.rcParams[\"figure.figsize\"][0] * 3.0 / 4.0))  # Make the figure 4:3-format\n",
    "for c, i in enumerate(range(611,656,4)):\n",
    "    # print(i)\n",
    "    plt.subplot(3, 4, 11 - c + 1)\n",
    "    image = orthoslicer(Reconstructions[-1],\n",
    "                                      2,\n",
    "                                      (2000, 1935, i),\n",
    "                                      )\n",
    "    crop = extract_roi_2d(image, (2000, 1935),\n",
    "                          width=730, height=730, verbose=False)\n",
    "    plt.imshow(skimage.exposure.equalize_adapthist(crop))\n",
    "    # write out panels, makes finding coordinates for arrows simpler :)\n",
    "    imageio.imwrite(os.path.join('/home/habi/research_storage_djonov/Aaldijk/PelvicFloor/Pelvis-Manuscript/Figures',\n",
    "                         'Fig05.panels', 'Fig05.%04d.png' % i), (255 * skimage.exposure.equalize_adapthist(crop)).astype('uint8'))\n",
    "    if c == 0:\n",
    "        plt.gca().add_artist(ScaleBar(Data['Voxelsize'].iloc[-1],'um'))\n",
    "    label_image(crop, i)\n",
    "    plt.axis('off')\n",
    "    # Markers\n",
    "    plt.subplot(3, 4, 1)\n",
    "    ourarrow(125, 442)\n",
    "    marker = MarkerStyle(marker='^')  # Thanks ChatGPT for showing me how to quickly rotate a marker :)\n",
    "    marker._transform.rotate_deg(45)\n",
    "    plt.scatter(366, 436, marker=marker, color='white')\n",
    "    ourarrow(679, 264, yaw='right', pitch='down', linestyle='dotted')    \n",
    "    plt.subplot(3, 4, 2)\n",
    "    ourarrow(125, 443)\n",
    "    plt.scatter(372, 435, marker=marker, color='white')\n",
    "    ourarrow(675, 277, yaw='right', pitch='down', linestyle='dotted')\n",
    "    plt.subplot(3, 4, 3)\n",
    "    ourarrow(137, 438)\n",
    "    marker._transform.rotate_deg(180)\n",
    "    plt.scatter(127, 366, marker=marker, color='white')\n",
    "    ourarrow(658, 296, yaw='right', pitch='down', linestyle='dotted')\n",
    "    marker._transform.rotate_deg(180)\n",
    "    plt.scatter(640, 415, marker=marker, color='white')\n",
    "    plt.subplot(3, 4, 4)\n",
    "    ourarrow(132, 433)\n",
    "    marker._transform.rotate_deg(180)\n",
    "    plt.scatter(116, 356, marker=marker, color='white')\n",
    "    ourarrow(661, 293, yaw='right', pitch='down', linestyle='dotted')\n",
    "    marker._transform.rotate_deg(180)\n",
    "    plt.scatter(671, 419, marker=marker, color='white')  \n",
    "    plt.subplot(3, 4, 5)\n",
    "    plt.scatter(105, 401, marker=marker, color='white')\n",
    "    ourarrow(616, 327, yaw='right', pitch='down', linestyle='dotted')\n",
    "    plt.subplot(3, 4, 6)\n",
    "    ourarrow(572, 339, yaw='right', pitch='down', linestyle='dotted')\n",
    "    plt.subplot(3, 4, 7)\n",
    "    ourarrow(587, 328, yaw='right', pitch='down', linestyle='dotted')\n",
    "    ourarrow(132, 314, pitch='down', linestyle='dotted')\n",
    "    plt.subplot(3, 4, 8)\n",
    "    ourarrow(612, 325, yaw='right', pitch='down', linestyle='dotted')\n",
    "    ourarrow(110, 302, pitch='down', linestyle='dotted')\n",
    "    plt.subplot(3, 4, 9)\n",
    "    ourarrow(604, 327, yaw='right', pitch='down', linestyle='dotted')\n",
    "    ourarrow(66, 249, pitch='down', linestyle='dotted')\n",
    "    plt.subplot(3, 4, 10)\n",
    "    ourarrow(65, 242, pitch='down', linestyle='dotted')\n",
    "    ourarrow(582, 333, yaw='right', pitch='down', linestyle='dotted')    \n",
    "    plt.subplot(3, 4, 11)\n",
    "    ourarrow(617, 313, yaw='right', pitch='down', linestyle='dotted')\n",
    "    ourarrow(54, 218, pitch='down', linestyle='dotted')\n",
    "    plt.subplot(3, 4, 12)\n",
    "    ourarrow(583, 324, yaw='right', pitch='down', linestyle='dotted')\n",
    "    ourarrow(43, 197, pitch='down', linestyle='dotted')\n",
    "plt.tight_layout(pad=0.25)\n",
    "plt.savefig(os.path.join(OutPutDir, 'Fig05.png'))\n",
    "plt.savefig(os.path.join('/home/habi/research_storage_djonov/Aaldijk/PelvicFloor/Pelvis-Manuscript/Figures',\n",
    "                         'Fig05.png'))\n",
    "plt.show()"
   ]
  },
  {
   "cell_type": "markdown",
   "metadata": {},
   "source": [
    "----\n",
    "# Figure 6"
   ]
  },
  {
   "cell_type": "code",
   "execution_count": null,
   "metadata": {},
   "outputs": [],
   "source": [
    "cropabit = 180\n",
    "a = dask_image.imread.imread(\n",
    "    os.path.join('/home/habi/research_storage_djonov/Aaldijk/PelvicFloor/Pelvis-Manuscript/Support Material',\n",
    "                 'Slicer 2 Ebenen.png'))[0,cropabit:-cropabit,cropabit:-cropabit,:]\n",
    "b = dask_image.imread.imread(\n",
    "    os.path.join('/home/habi/research_storage_djonov/Aaldijk/PelvicFloor/Pelvis-Manuscript/Support Material',\n",
    "                 'Slicer 3D Model w.png'))[0,cropabit:-cropabit,cropabit:-cropabit,:]"
   ]
  },
  {
   "cell_type": "code",
   "execution_count": null,
   "metadata": {},
   "outputs": [],
   "source": [
    "plt.rcParams[\"figure.figsize\"]"
   ]
  },
  {
   "cell_type": "code",
   "execution_count": null,
   "metadata": {},
   "outputs": [],
   "source": [
    "# Size figure 6 with the desired width, and just half that height, not in the standard 6.4:4.8 format\n",
    "plt.figure(6, figsize=(plt.rcParams[\"figure.figsize\"][0],\n",
    "                       plt.rcParams[\"figure.figsize\"][0]/2.0))\n",
    "plt.subplot(121)\n",
    "plt.imshow(a)\n",
    "plt.axis('off')\n",
    "label_image(a,'A', color='black')\n",
    "plt.subplot(122)\n",
    "plt.imshow(b)\n",
    "plt.axis('off')\n",
    "label_image(b,'B',color='black')\n",
    "plt.tight_layout(pad=0.25)\n",
    "plt.savefig(os.path.join(OutPutDir, 'Fig06.png'))\n",
    "plt.savefig(os.path.join('/home/habi/research_storage_djonov/Aaldijk/PelvicFloor/Pelvis-Manuscript/Figures',\n",
    "                         'Fig06.png'))\n",
    "plt.show()"
   ]
  },
  {
   "cell_type": "code",
   "execution_count": null,
   "metadata": {},
   "outputs": [],
   "source": []
  },
  {
   "cell_type": "code",
   "execution_count": null,
   "metadata": {},
   "outputs": [],
   "source": []
  }
 ],
 "metadata": {
  "kernelspec": {
   "display_name": "Python 3 (ipykernel)",
   "language": "python",
   "name": "python3"
  },
  "language_info": {
   "codemirror_mode": {
    "name": "ipython",
    "version": 3
   },
   "file_extension": ".py",
   "mimetype": "text/x-python",
   "name": "python",
   "nbconvert_exporter": "python",
   "pygments_lexer": "ipython3",
   "version": "3.10.14"
  }
 },
 "nbformat": 4,
 "nbformat_minor": 4
}
