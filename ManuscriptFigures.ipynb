{
 "cells": [
  {
   "cell_type": "markdown",
   "metadata": {},
   "source": [
    "# Generate the figures for the manuscript"
   ]
  },
  {
   "cell_type": "code",
   "execution_count": null,
   "metadata": {
    "tags": []
   },
   "outputs": [],
   "source": [
    "import platform\n",
    "import os\n",
    "import glob\n",
    "import pandas\n",
    "import dask\n",
    "from dask.distributed import Client, LocalCluster\n",
    "import dask_image.imread\n",
    "import matplotlib.pyplot as plt\n",
    "from matplotlib_scalebar.scalebar import ScaleBar\n",
    "from matplotlib.gridspec import GridSpec\n",
    "import seaborn\n",
    "import numpy\n",
    "from tqdm.auto import tqdm, trange\n",
    "import imageio\n",
    "import skimage"
   ]
  },
  {
   "cell_type": "code",
   "execution_count": null,
   "metadata": {
    "tags": []
   },
   "outputs": [],
   "source": [
    "# Import our own parsing functions which we've added as submodule\n",
    "from BrukerSkyScanLogfileRuminator.parsing_functions import *"
   ]
  },
  {
   "cell_type": "code",
   "execution_count": null,
   "metadata": {
    "tags": []
   },
   "outputs": [],
   "source": [
    "# Set dask temporary folder\n",
    "# Do this before creating a client: https://stackoverflow.com/a/62804525/323100\n",
    "import tempfile\n",
    "if 'Linux' in platform.system():\n",
    "    tmp = os.path.join(os.sep, 'media', 'habi', 'Fast_SSD')\n",
    "elif 'Darwin' in platform.system():\n",
    "    tmp = tempfile.gettempdir()\n",
    "else:\n",
    "    if 'anaklin' in platform.node():\n",
    "        tmp = os.path.join('F:\\\\')\n",
    "    else:\n",
    "        tmp = os.path.join('D:\\\\')\n",
    "dask.config.set({'temporary_directory': os.path.join(tmp, 'tmp')})\n",
    "print('Dask temporary files go to %s' % dask.config.get('temporary_directory'))"
   ]
  },
  {
   "cell_type": "code",
   "execution_count": null,
   "metadata": {
    "tags": []
   },
   "outputs": [],
   "source": [
    "# Start cluster and client now, after setting tempdir\n",
    "try:\n",
    "    cluster = LocalCluster()\n",
    "except PermissionError:\n",
    "    print('Mount the Fast_SSD, otherwise we cannot use it for saving the temporary files!')\n",
    "    print('Then rerun this cell.')\n",
    "client = Client(cluster)"
   ]
  },
  {
   "cell_type": "code",
   "execution_count": null,
   "metadata": {
    "tags": []
   },
   "outputs": [],
   "source": [
    "print('You can seee what DASK is doing at \"http://localhost:%s/status\"' % client.scheduler_info()['services']['dashboard'])"
   ]
  },
  {
   "cell_type": "code",
   "execution_count": null,
   "metadata": {
    "tags": []
   },
   "outputs": [],
   "source": [
    "# # Ignore warnings in the notebook\n",
    "# import warnings\n",
    "# warnings.filterwarnings(\"ignore\")"
   ]
  },
  {
   "cell_type": "code",
   "execution_count": null,
   "metadata": {
    "tags": []
   },
   "outputs": [],
   "source": [
    "# Set seaborn context\n",
    "# context: one of {paper, notebook, talk, poster}\n",
    "seaborn.set_context('paper')"
   ]
  },
  {
   "cell_type": "code",
   "execution_count": null,
   "metadata": {
    "tags": []
   },
   "outputs": [],
   "source": [
    "# Set up figure defaults\n",
    "plt.rc('image', cmap='gray', interpolation='nearest')  # Display all images in b&w and with 'nearest' interpolation\n",
    "#plt.rcParams['figure.figsize'] = (16, 9)  # Size up figures a bit\n",
    "plt.rcParams['figure.dpi'] = 300\n",
    "# Since we fiddle withthe figure size below, keep the default one handy\n",
    "figsize_default = plt.rcParams['figure.figsize']"
   ]
  },
  {
   "cell_type": "code",
   "execution_count": null,
   "metadata": {
    "tags": []
   },
   "outputs": [],
   "source": [
    "# Setup scale bar defaults\n",
    "plt.rcParams['scalebar.location'] = 'lower right'\n",
    "plt.rcParams['scalebar.frameon'] = False\n",
    "plt.rcParams['scalebar.color'] = 'white'"
   ]
  },
  {
   "cell_type": "code",
   "execution_count": null,
   "metadata": {
    "tags": []
   },
   "outputs": [],
   "source": [
    "# Different locations if running either on Linux or Windows\n",
    "FastSSD = True\n",
    "# to speed things up significantly\n",
    "if 'Linux' in platform.system():\n",
    "    if FastSSD:\n",
    "        BasePath = os.path.join(os.sep, 'media', 'habi', 'Fast_SSD')\n",
    "    else:\n",
    "        BasePath = os.path.join(os.sep, 'home', 'habi', 'research-storage-djonov')\n",
    "elif 'Darwin' in platform.system():\n",
    "    # First mount smb://resstore.unibe.ch/ana_rs_djonov/data in the Finder\n",
    "    FastSSD = False\n",
    "    BasePath = os.path.join('/Volumes/data/')\n",
    "elif 'Windows' in platform.system():\n",
    "    if FastSSD:\n",
    "        BasePath = os.path.join('F:\\\\')\n",
    "    else:\n",
    "        if 'anaklin' in platform.node():\n",
    "            BasePath = os.path.join('V:\\\\')\n",
    "        else:\n",
    "            BasePath = os.path.join('V:\\\\')\n",
    "Root = os.path.join(BasePath, 'Aaldijk', 'PelvicFloor')\n",
    "print('We are loading all the data from %s' % Root)"
   ]
  },
  {
   "cell_type": "code",
   "execution_count": null,
   "metadata": {
    "tags": []
   },
   "outputs": [],
   "source": [
    "def get_git_hash():\n",
    "    '''\n",
    "    Get the current git hash from the repository.\n",
    "    Based on http://stackoverflow.com/a/949391/323100 and\n",
    "    http://stackoverflow.com/a/18283905/323100\n",
    "    '''\n",
    "    from subprocess import Popen, PIPE\n",
    "    import os\n",
    "    gitprocess = Popen(['git',\n",
    "                        '--git-dir',\n",
    "                        os.path.join(os.getcwd(), '.git'),\n",
    "                        'rev-parse',\n",
    "                        '--short',\n",
    "                        '--verify',\n",
    "                        'HEAD'],\n",
    "                       stdout=PIPE)\n",
    "    (output, _) = gitprocess.communicate()\n",
    "    return output.strip().decode(\"utf-8\")"
   ]
  },
  {
   "cell_type": "code",
   "execution_count": null,
   "metadata": {
    "tags": []
   },
   "outputs": [],
   "source": [
    "# Make directory for output\n",
    "OutPutDir = os.path.join(os.getcwd(), 'Output', get_git_hash())\n",
    "print('We are saving all the output to %s' % OutPutDir)\n",
    "os.makedirs(OutPutDir, exist_ok=True)"
   ]
  },
  {
   "cell_type": "code",
   "execution_count": null,
   "metadata": {
    "tags": []
   },
   "outputs": [],
   "source": [
    "# Make us a dataframe for saving all that we need\n",
    "Data = pandas.DataFrame()"
   ]
  },
  {
   "cell_type": "code",
   "execution_count": null,
   "metadata": {
    "tags": []
   },
   "outputs": [],
   "source": [
    "# Get *all* log files, unsorted but faster than with glob\n",
    "print('Searching for all log files in %s' % Root)\n",
    "Data['LogFile'] = [os.path.join(root, name)\n",
    "                   for root, dirs, files in os.walk(Root)\n",
    "                   for name in files\n",
    "                   if name.endswith((\".log\"))]"
   ]
  },
  {
   "cell_type": "code",
   "execution_count": null,
   "metadata": {
    "tags": []
   },
   "outputs": [],
   "source": [
    "# Drop all the scans that are not of Foetus02\n",
    "for c, row in Data.iterrows():\n",
    "    if 'Foetus02' not in row.LogFile:\n",
    "        Data.drop([c], inplace=True)\n",
    "Data.reset_index(inplace=True)"
   ]
  },
  {
   "cell_type": "code",
   "execution_count": null,
   "metadata": {
    "tags": []
   },
   "outputs": [],
   "source": [
    "# Get all folders\n",
    "Data['Folder'] = [os.path.dirname(f) for f in Data['LogFile']]"
   ]
  },
  {
   "cell_type": "code",
   "execution_count": null,
   "metadata": {
    "tags": []
   },
   "outputs": [],
   "source": [
    "# Get rid of all logfiles that we don't want and need\n",
    "for c, row in Data.iterrows():\n",
    "    if 'rec' not in row.Folder:  # drop all non-rec folders\n",
    "        Data.drop([c], inplace=True)\n",
    "    elif 'SubScan' in row.Folder:  # drop all partial reconstructions which might be there from synchronization\n",
    "        Data.drop([c], inplace=True)        \n",
    "    elif 'rectmp.log' in row.LogFile:  # drop all temporary logfiles\n",
    "        Data.drop([c], inplace=True)\n",
    "# Reset dataframe to something that we would get if we only would have loaded the 'rec' files\n",
    "Data = Data.reset_index(drop=True)"
   ]
  },
  {
   "cell_type": "code",
   "execution_count": null,
   "metadata": {
    "tags": []
   },
   "outputs": [],
   "source": [
    "# Generate us some meaningful colums\n",
    "Data['Sample'] = [l[len(Root)+1:].split(os.sep)[0] for l in Data['LogFile']]\n",
    "Data['SampleName'] = [sn.split('_')[0] for sn in Data['Sample']]\n",
    "Data['Scan'] = ['_'.join(l[len(Root)+1:].split(os.sep)[1:-1]) for l in Data['LogFile']]"
   ]
  },
  {
   "cell_type": "code",
   "execution_count": null,
   "metadata": {
    "tags": []
   },
   "outputs": [],
   "source": [
    "# Get the file names of the reconstructions\n",
    "Data['Reconstructions'] = [sorted(glob.glob(os.path.join(f, '*rec0*.png'))) for f in Data['Folder']]\n",
    "Data['Number of reconstructions'] = [len(r) for r in Data.Reconstructions]"
   ]
  },
  {
   "cell_type": "code",
   "execution_count": null,
   "metadata": {},
   "outputs": [],
   "source": [
    "Data.SampleName.unique()"
   ]
  },
  {
   "cell_type": "code",
   "execution_count": null,
   "metadata": {
    "tags": []
   },
   "outputs": [],
   "source": [
    "# Drop samples which have either not been reconstructed yet or of which we deleted the reconstructions with\n",
    "# `find . -name \"*rec*.png\" -type f -mtime +333 -delete`\n",
    "# Based on https://stackoverflow.com/a/13851602\n",
    "# for c,row in Data.iterrows():\n",
    "#     if not row['Number of reconstructions']:\n",
    "#         print('%s contains no PNG files, we might be currently reconstructing it' % row.Folder)\n",
    "Data = Data[Data['Number of reconstructions'] > 0]\n",
    "Data.reset_index(drop=True, inplace=True)\n",
    "print('We have %s folders with reconstructions' % (len(Data)))"
   ]
  },
  {
   "cell_type": "code",
   "execution_count": null,
   "metadata": {
    "tags": []
   },
   "outputs": [],
   "source": [
    "# Get scanning parameters to doublecheck from logfiles\n",
    "Data['Scanner'] = [scanner(log) for log in Data['LogFile']]\n",
    "Data['Voltage'] = [voltage(log) for log in Data['LogFile']]\n",
    "Data['Current'] = [current(log) for log in Data['LogFile']]\n",
    "Data['Voxelsize'] = [pixelsize(log, rounded=True) for log in Data['LogFile']]\n",
    "Data['CameraWindow'] = [projection_size(log) for log in Data['LogFile']]\n",
    "Data['Exposuretime'] = [exposuretime(log) for log in Data['LogFile']]\n",
    "Data['Averaging'] = [averaging(log) for log in Data['LogFile']]\n",
    "Data['Stacks'] = [stacks(log) for log in Data['LogFile']]\n",
    "Data['RotationStep'] = [rotationstep(log) for log in Data['LogFile']]\n",
    "Data['Scan date'] = [scandate(log) for log in Data['LogFile']]\n",
    "Data['Scan time'] = [duration(log) for log in Data['LogFile']]"
   ]
  },
  {
   "cell_type": "code",
   "execution_count": null,
   "metadata": {
    "tags": []
   },
   "outputs": [],
   "source": [
    "# Sort our dataframe by scan date\n",
    "Data.sort_values(by='Scan date', inplace=True, ignore_index=True)"
   ]
  },
  {
   "cell_type": "code",
   "execution_count": null,
   "metadata": {
    "tags": []
   },
   "outputs": [],
   "source": [
    "# Get reconstruction parameters to doublecheck from logfiles\n",
    "Data['Grayvalue'] = [reconstruction_grayvalue(log) for log in Data['LogFile']]\n",
    "Data['RingartefactCorrection'] = [ringremoval(log) for log in Data['LogFile']]\n",
    "Data['BeamHardeningCorrection'] = [beamhardening(log) for log in Data['LogFile']]\n",
    "Data['DefectPixelMasking'] = [defectpixelmasking(log) for log in Data['LogFile']]\n",
    "Data['ROI'] = [region_of_interest(log) for log in Data['LogFile']]\n",
    "Data['Rot'] = [crosssection_rotation(l) for l in Data.LogFile]"
   ]
  },
  {
   "cell_type": "code",
   "execution_count": null,
   "metadata": {
    "tags": []
   },
   "outputs": [],
   "source": [
    "# Calculate time 'spent' since start\n",
    "Data['Time passed'] = [sd - Data['Scan date'].min() for sd in Data['Scan date']]\n",
    "# Also extract days, rounded\n",
    "Data['Days passed'] = [t.round('d') for t in Data['Time passed']]"
   ]
  },
  {
   "cell_type": "code",
   "execution_count": null,
   "metadata": {
    "tags": []
   },
   "outputs": [],
   "source": [
    "# Load all reconstructions into ephemereal DASK arrays\n",
    "#Reconstructions = [None] * len(Data)\n",
    "#for c, row in tqdm(Data.iterrows(),\n",
    "#                   desc='Load reconstructions',\n",
    "#                   total=len(Data)):\n",
    "#    Reconstructions[c] = dask_image.imread.imread(os.path.join(row['Folder'],\n",
    "#                                                               '*rec*.png'))"
   ]
  },
  {
   "cell_type": "code",
   "execution_count": null,
   "metadata": {
    "tags": []
   },
   "outputs": [],
   "source": [
    "# Convert all reconstructions into zarrays on disk, optimized for fast reading\n",
    "# Partially based on http://stackoverflow.com/a/39195332/323100\n",
    "# and on /LungMetastasis/HighResolutionScanAnalysis.ipynb\n",
    "Data['OutputNameRec'] = [((os.path.join(os.path.dirname(f), s)) + '.' + rf + '.zarr') for f, s, rf in zip(Data['Folder'],\n",
    "                                                                                                          Data['Sample'],\n",
    "                                                                                                          Data['Scan'])]\n",
    "for c, row in tqdm(Data.iterrows(),\n",
    "                            desc='Converting reconstructions to .zarr',\n",
    "                            total=len(Data)):\n",
    "    if not os.path.exists(row['OutputNameRec']):\n",
    "        print('%2s/%2s: Reading %s reconstructions and saving to %s' % (c + 1,\n",
    "                                                                        len(Data),\n",
    "                                                                        row['Number of reconstructions'],\n",
    "                                                                        row['OutputNameRec'][len(Root) + 1:]))\n",
    "        Reconstructions = dask_image.imread.imread(os.path.join(row['Folder'], '*rec*.png'))[:,:,:,0]\n",
    "        # Save out to automatically rechunked and un-compressed zarr files.\n",
    "        # This takes a *long* time, but subsequent operations are much quicker afterwards\n",
    "        Reconstructions.rechunk('auto').to_zarr(row['OutputNameRec'],\n",
    "                                                overwrite=True)"
   ]
  },
  {
   "cell_type": "code",
   "execution_count": null,
   "metadata": {
    "tags": []
   },
   "outputs": [],
   "source": [
    "# Load the reconstructions from the zarrays\n",
    "Reconstructions = [dask.array.from_zarr(file) for file in Data['OutputNameRec']]"
   ]
  },
  {
   "cell_type": "code",
   "execution_count": null,
   "metadata": {},
   "outputs": [],
   "source": [
    "Reconstructions[0]"
   ]
  },
  {
   "cell_type": "code",
   "execution_count": null,
   "metadata": {
    "tags": []
   },
   "outputs": [],
   "source": [
    "# How big are the datasets?\n",
    "Data['Size'] = [rec.shape for rec in Reconstructions]"
   ]
  },
  {
   "cell_type": "code",
   "execution_count": null,
   "metadata": {
    "tags": []
   },
   "outputs": [],
   "source": [
    "# # Calculate the histograms of *all* the reconstructions\n",
    "# # Caveat: dask.da.histogram returns histogram AND bins, making each histogram a 'nested' list of [h, b]\n",
    "# Data['Histogram'] = [dask.array.histogram(dask.array.array(mip),\n",
    "#                                           bins=2**8,\n",
    "#                                           range=[0, 2**8]) for mip in Reconstructions]\n",
    "# # Actually compute the data and put only h into the dataframe, so we can use it below.\n",
    "# # Discard the bins\n",
    "# Data['Histogram'] = [h.compute() for h, b in Data['Histogram']]"
   ]
  },
  {
   "cell_type": "code",
   "execution_count": null,
   "metadata": {
    "tags": []
   },
   "outputs": [],
   "source": [
    "subsample = 2"
   ]
  },
  {
   "cell_type": "code",
   "execution_count": null,
   "metadata": {
    "tags": []
   },
   "outputs": [],
   "source": [
    "# Calculate the Otsu threshold of *all* the reconstructions, subsampled for speed reasons\n",
    "Data['Treshold_Otsu'] = [skimage.filters.threshold_otsu(rec[::subsample,::subsample,::subsample].compute()) for rec in Reconstructions]"
   ]
  },
  {
   "cell_type": "code",
   "execution_count": null,
   "metadata": {
    "tags": []
   },
   "outputs": [],
   "source": [
    "Data['Treshold_Otsu']"
   ]
  },
  {
   "cell_type": "code",
   "execution_count": null,
   "metadata": {
    "tags": []
   },
   "outputs": [],
   "source": [
    "# # Show *all* the gray value histograms\n",
    "# # Show *all* the Thresholds, too\n",
    "# for c, row in sorted(Data.iterrows()):\n",
    "#     plt.semilogy(row.Histogram,\n",
    "#                  label='%s' % row.Sample)\n",
    "#     plt.axvline(row.Treshold_Otsu)\n",
    "# plt.xlim([0, 255])\n",
    "# plt.legend()\n",
    "# plt.show()"
   ]
  },
  {
   "cell_type": "code",
   "execution_count": null,
   "metadata": {
    "tags": []
   },
   "outputs": [],
   "source": [
    "# Mask all the background\n",
    "# This is *extremely* simple segmentation, but gives us a better estimate on the gray value *in* the sample by discarding the background\n",
    "Reconstructions_masked = [dask.array.ma.masked_less(rec, threshold) for rec, threshold in zip(Reconstructions,\n",
    "                                                                                              Data['Treshold_Otsu'])]"
   ]
  },
  {
   "cell_type": "code",
   "execution_count": null,
   "metadata": {
    "tags": []
   },
   "outputs": [],
   "source": [
    "Rec = 12\n",
    "Slice = 333\n",
    "plt.subplot(121)\n",
    "plt.imshow(Reconstructions[Rec][999])\n",
    "plt.subplot(122)\n",
    "plt.imshow(Reconstructions_masked[Rec][999])\n",
    "plt.show()"
   ]
  },
  {
   "cell_type": "code",
   "execution_count": null,
   "metadata": {
    "tags": []
   },
   "outputs": [],
   "source": [
    "# Calculate mean brightness of the reconstructions\n",
    "# Subsample for speed reasons, the subsample value is given above\n",
    "subsample = 1  # For the finalized version of the figure we do *not* subsample\n",
    "Data['MeanBrightness'] = [rec[::subsample,::subsample,::subsample].mean().compute()\n",
    "                          for rec in Reconstructions]"
   ]
  },
  {
   "cell_type": "code",
   "execution_count": null,
   "metadata": {
    "tags": []
   },
   "outputs": [],
   "source": [
    "# Calculate mean brightness of the masked reconstructions\n",
    "Data['MeanBrightness_masked'] = [rec[::subsample,::subsample,::subsample].mean().compute()\n",
    "                                 for rec in Reconstructions_masked]"
   ]
  },
  {
   "cell_type": "code",
   "execution_count": null,
   "metadata": {
    "tags": []
   },
   "outputs": [],
   "source": [
    "Data[['Sample', 'MeanBrightness', 'MeanBrightness_masked']]"
   ]
  },
  {
   "cell_type": "code",
   "execution_count": null,
   "metadata": {
    "tags": []
   },
   "outputs": [],
   "source": [
    "seaborn.scatterplot(data=Data,\n",
    "                    x='Sample',\n",
    "                    y='MeanBrightness',\n",
    "                    label='mean Brightnes')\n",
    "seaborn.scatterplot(data=Data,\n",
    "                    x='Sample',\n",
    "                    y='MeanBrightness_masked',\n",
    "                    label='mean Brightnes, masked')\n",
    "plt.legend()\n",
    "plt.show()"
   ]
  },
  {
   "cell_type": "code",
   "execution_count": null,
   "metadata": {
    "tags": []
   },
   "outputs": [],
   "source": [
    "Data[['Sample', 'Scan', 'Size', 'MeanBrightness',\n",
    "      'ROI', 'Days passed', \n",
    "      'Grayvalue', 'RingartefactCorrection', 'BeamHardeningCorrection', 'DefectPixelMasking', 'Rot']]"
   ]
  },
  {
   "cell_type": "code",
   "execution_count": null,
   "metadata": {},
   "outputs": [],
   "source": [
    "Data[['Sample', 'Scan', 'Size', 'MeanBrightness',\n",
    "      'ROI', 'Days passed', \n",
    "      'Grayvalue', 'RingartefactCorrection', 'BeamHardeningCorrection', 'DefectPixelMasking', 'Rot']].to_csv(os.path.join('data',\n",
    "                                                                                                                          'ScanDetails.Figure01.csv'))"
   ]
  },
  {
   "cell_type": "code",
   "execution_count": null,
   "metadata": {},
   "outputs": [],
   "source": [
    "Data[['Sample', 'Scan', 'Size', 'MeanBrightness',\n",
    "      'ROI', 'Days passed', \n",
    "      'Grayvalue', 'RingartefactCorrection', 'BeamHardeningCorrection', 'DefectPixelMasking', 'Rot']].to_excel(os.path.join('/home/habi/research-storage-djonov/Aaldijk/PelvicFloor/Pelvis-Manuscript/Data',\n",
    "                                                                                                                            'ScanDetails.Figure01.xlsx'))"
   ]
  },
  {
   "cell_type": "markdown",
   "metadata": {},
   "source": [
    "Define us some helper functions for generating the figures."
   ]
  },
  {
   "cell_type": "code",
   "execution_count": null,
   "metadata": {
    "tags": []
   },
   "outputs": [],
   "source": [
    "# Adapted from AcinarSize_Johannes/MicroscopyFigure.ipynb\n",
    "def label_image(image, labeltext, x=None, y=None, color='white', boxcolor=None):\n",
    "    '''We have to print a label over the image several times'''\n",
    "    # If we didn't set coordinates, then use defaults\n",
    "    if not x:\n",
    "        x=numpy.shape(image)[1] * 0.0309\n",
    "    if not y:\n",
    "        y=numpy.shape(image)[0] - (numpy.shape(image)[0] * 0.0309)\n",
    "    t = plt.gca().text(x,\n",
    "                       y,\n",
    "                       labeltext,\n",
    "                       color=color,\n",
    "                       fontsize=12,\n",
    "                       verticalalignment='bottom',\n",
    "                       horizontalalignment='left')\n",
    "    if boxcolor is not None:\n",
    "        t.set_bbox(dict(facecolor=boxcolor,\n",
    "                        edgecolor=boxcolor,\n",
    "                        alpha=0.618))\n",
    "    return"
   ]
  },
  {
   "cell_type": "code",
   "execution_count": null,
   "metadata": {
    "tags": []
   },
   "outputs": [],
   "source": [
    "def extract_directional_slice(stack, direction, coordinates, verbose=False):\n",
    "    if verbose:\n",
    "        print('The input stack has a size of %s x %s x %s px' % (stack.shape[0],\n",
    "                                                                 stack.shape[1],\n",
    "                                                                 stack.shape[2]))\n",
    "    if direction == 0:       \n",
    "        if verbose:\n",
    "            print('Extracting YZ slice %s of %s' % (coordinates[0], stack.shape[2]))\n",
    "            print('Marking y=%s' % coordinates[1])\n",
    "            print('Marking z=%s' % coordinates[2])                   \n",
    "        # Flip the extracted YZ slice, to be consistent with the OrthoViewer of ImageJ\n",
    "        extractedslice = dask.array.fliplr(stack[:,:,coordinates[0]])\n",
    "    elif direction == 1:\n",
    "        if verbose:\n",
    "            print('Extracting XZ slice %s of %s' % (coordinates[1], stack.shape[1]))\n",
    "            print('Marking x=%s' % coordinates[0])\n",
    "            print('Marking z=%s' % coordinates[2])            \n",
    "        extractedslice = stack[:,coordinates[1],:]\n",
    "    elif direction == 2:\n",
    "        if verbose:\n",
    "            print('Extracting Z slice %s of %s' % (coordinates[2], stack.shape[0]))\n",
    "            print('Marking x=%s' % coordinates[0])\n",
    "            print('Marking y=%s' % coordinates[1])\n",
    "        extractedslice = stack[coordinates[2],:,:]\n",
    "    if verbose:\n",
    "        plt.imshow(extractedslice)\n",
    "        if direction == 0:\n",
    "            plt.axhline(coordinates[2], c=seaborn.color_palette()[1])\n",
    "            plt.axvline(coordinates[1], c=seaborn.color_palette()[0])\n",
    "            plt.title('YZ (dir %s): coords: %s' % (direction, coordinates))            \n",
    "        elif direction == 1:\n",
    "            plt.axhline(coordinates[2], c=seaborn.color_palette()[2])\n",
    "            plt.axvline(coordinates[0], c=seaborn.color_palette()[1])\n",
    "            plt.title('XZ (dir %s): coords: %s' % (direction, coordinates))                        \n",
    "        elif direction == 2:\n",
    "            plt.axhline(coordinates[1], c=seaborn.color_palette()[0])\n",
    "            plt.axvline(coordinates[0], c=seaborn.color_palette()[2])       \n",
    "            plt.title('Slice %s: coords: %s' % (coordinates[2], coordinates))                                \n",
    "        # plt.show()\n",
    "    return(extractedslice)"
   ]
  },
  {
   "cell_type": "code",
   "execution_count": null,
   "metadata": {
    "tags": []
   },
   "outputs": [],
   "source": [
    "# Test extraction script\n",
    "plt.figure(11)\n",
    "for direction in range(3):\n",
    "    plt.subplot(1,3,direction+1)\n",
    "    # Coordinates are of left blood vessel on slice 2434 on 11um stack of d152, as shown in OrthoViewer of ImageJ\n",
    "    extract_directional_slice(Reconstructions[15],\n",
    "                              direction,\n",
    "                              (1344,2026,2434),\n",
    "                              verbose=True)\n",
    "plt.show()"
   ]
  },
  {
   "cell_type": "code",
   "execution_count": null,
   "metadata": {
    "tags": []
   },
   "outputs": [],
   "source": [
    "def markregion(image, coordinates, width, height, showimage=True, center=False, rectangle=True, extract=False):\n",
    "    \"\"\"\n",
    "    Mark a rectancular region in an image.\n",
    "    For convenience, we can also extract the region if extract is set to true\n",
    "    \"\"\"\n",
    "    from matplotlib.patches import Rectangle\n",
    "    if len(image.shape) == 2:\n",
    "        # Nothing to show for stacks\n",
    "        if showimage:\n",
    "            plt.imshow(skimage.exposure.equalize_adapthist(image))\n",
    "        if center:\n",
    "            plt.scatter(coordinates[0], coordinates[1], color=seaborn.color_palette()[0], marker='x')\n",
    "            plt.gca().annotate('x=%s, y=%s' % (coordinates[0], coordinates[1]),\n",
    "                               color='white',\n",
    "                               xy=(coordinates[0], coordinates[1]),\n",
    "                               xycoords='data', ha='center', va='top')\n",
    "        \n",
    "        if rectangle:\n",
    "            plt.gca().add_patch(Rectangle((coordinates[0] - width / 2, coordinates[1] - height / 2), width, height,\n",
    "                                          # edgecolor=seaborn.color_palette()[0],\n",
    "                                          edgecolor='white',\n",
    "                                          linestyle='--',\n",
    "                                          facecolor='none'))\n",
    "    if extract:\n",
    "        if len(image.shape) == 3:\n",
    "            return(image[coordinates[2]][coordinates[0]-width//2:coordinates[0]+width//2, coordinates[1]-height//2:coordinates[1]+height//2])\n",
    "        elif len(image.shape) == 2:\n",
    "            return(image[coordinates[0]-width//2:coordinates[0]+width//2, coordinates[1]-height//2:coordinates[1]+height//2])\n",
    "    else:\n",
    "        return()"
   ]
  },
  {
   "cell_type": "code",
   "execution_count": null,
   "metadata": {},
   "outputs": [],
   "source": [
    "# Test ROI extraction\n",
    "a = markregion(Reconstructions[0],\n",
    "               (1200, 750, 1634),\n",
    "               width=1250, height=750,\n",
    "               showimage=True, extract=True).compute()"
   ]
  },
  {
   "cell_type": "code",
   "execution_count": null,
   "metadata": {},
   "outputs": [],
   "source": [
    "plt.imshow(a)\n",
    "plt.show()"
   ]
  },
  {
   "cell_type": "code",
   "execution_count": null,
   "metadata": {
    "tags": []
   },
   "outputs": [],
   "source": [
    "def extract_roi(stack, coordinates, width=None, height=None, verbose=False):\n",
    "    \"\"\"Get a (small) region from an input stack\"\"\"\n",
    "    extract=stack[coordinates[2]][coordinates[1] - int(height/2):coordinates[1] + int(height/2),\n",
    "                                  coordinates[0] - int(width/2):coordinates[0]+int(width/2)]\n",
    "    if verbose:\n",
    "        plt.figure(11)\n",
    "        plt.subplot(121)\n",
    "        # plt.imshow(stack[coordinates[2]])\n",
    "        # show region mark\n",
    "        markregion(stack[coordinates[2]], coordinates, width, height, center=True)\n",
    "        plt.title('Slice %s of input stack\\n'\n",
    "                  'Centered at x=%s and y=%s' % (coordinates[2], coordinates[0], coordinates[1]))\n",
    "        plt.subplot(122)\n",
    "        plt.imshow(extract)\n",
    "        plt.title('Extract\\n'\n",
    "                 '%s x %s px' % (extract.shape[0], extract.shape[1]))\n",
    "        plt.show()\n",
    "    return(extract)"
   ]
  },
  {
   "cell_type": "code",
   "execution_count": null,
   "metadata": {
    "tags": []
   },
   "outputs": [],
   "source": [
    "# Test ROI extraction\n",
    "crop = extract_roi(Reconstructions[0],\n",
    "                   (1200, 750, 1634),\n",
    "                   width=1250, height=750,\n",
    "                   verbose=True).compute()"
   ]
  },
  {
   "cell_type": "code",
   "execution_count": null,
   "metadata": {},
   "outputs": [],
   "source": [
    "def extract_roi_2d(image, coordinates, width=None, height=None, verbose=False):\n",
    "    \"\"\"Get a (small) region from an input image\"\"\"\n",
    "    if len(coordinates) !=2:\n",
    "        print('I need 2D coordinates')\n",
    "        return()\n",
    "    extract=image[coordinates[1] - int(height/2):coordinates[1] + int(height/2),\n",
    "    coordinates[0] - int(width/2):coordinates[0]+int(width/2)]\n",
    "    if verbose:\n",
    "        plt.figure(11)\n",
    "        plt.subplot(121)\n",
    "        markregion(image, coordinates, width, height, center=True)\n",
    "        plt.title('Centered at x=%s and y=%s' % (coordinates[0], coordinates[1]))\n",
    "        plt.subplot(122)\n",
    "        plt.imshow(extract)\n",
    "        plt.title('Extract\\n'\n",
    "                 '%s x %s px' % (extract.shape[0], extract.shape[1]))\n",
    "        plt.show()\n",
    "    return(extract)"
   ]
  },
  {
   "cell_type": "code",
   "execution_count": null,
   "metadata": {},
   "outputs": [],
   "source": [
    "extract_roi_2d(crop, (500, 400), width=250, height=300, verbose=True)"
   ]
  },
  {
   "cell_type": "code",
   "execution_count": null,
   "metadata": {
    "tags": []
   },
   "outputs": [],
   "source": [
    "Data.Grayvalue.unique()"
   ]
  },
  {
   "cell_type": "markdown",
   "metadata": {},
   "source": [
    "----\n",
    "# Figure 1\n",
    "\n",
    "We want to show a figure with the gray value curve along the timeframe we stained and scanned.\n",
    "In addition some representative slices of a dataset at the start, middle and end of the duration.\n",
    "And some detailed view of marked regions in these slices."
   ]
  },
  {
   "cell_type": "code",
   "execution_count": null,
   "metadata": {
    "tags": []
   },
   "outputs": [],
   "source": [
    "# Automatically find the one day closest to the middle of the duration.\n",
    "# https://stackoverflow.com/a/30112305/323100\n",
    "middleone = Data.index[(Data['Days passed'] - Data['Days passed'].median()).abs().argsort()[:1]][0]\n",
    "Data.loc[middleone][['Sample', 'Scan', 'Days passed','Voxelsize']]"
   ]
  },
  {
   "cell_type": "code",
   "execution_count": null,
   "metadata": {
    "tags": []
   },
   "outputs": [],
   "source": [
    "# Put coordinates we want to show for this figure into dataframe\n",
    "Data['Coordinates'] = ''\n",
    "Data.at[0, 'Coordinates'] = [800, 900, 1634]\n",
    "Data.at[middleone, 'Coordinates'] = [800, 900, 1634]\n",
    "Data.at[len(Data)-1, 'Coordinates'] = [1000, 1500, 2614]"
   ]
  },
  {
   "cell_type": "code",
   "execution_count": null,
   "metadata": {
    "tags": []
   },
   "outputs": [],
   "source": [
    "Data[['Sample', 'Scan', 'Voxelsize', 'Coordinates']]"
   ]
  },
  {
   "cell_type": "code",
   "execution_count": null,
   "metadata": {
    "tags": []
   },
   "outputs": [],
   "source": [
    "# Recalculate voxel size scaling (for showing both 20 um and 11 um scans)\n",
    "11.0/20.0"
   ]
  },
  {
   "cell_type": "code",
   "execution_count": null,
   "metadata": {
    "tags": []
   },
   "outputs": [],
   "source": [
    "# Extract relevant regions from relevant images\n",
    "width = 900\n",
    "height = 900\n",
    "detail_start = extract_roi(Reconstructions[0],\n",
    "                           Data['Coordinates'][0],\n",
    "                           width=width, height=height, verbose=True)\n",
    "detail_mid = extract_roi(Reconstructions[middleone],\n",
    "                         Data['Coordinates'][middleone],\n",
    "                         width=width, height=height, verbose=True)\n",
    "# Scale width/height with voxel size difference (11/20 um)\n",
    "detail_end = extract_roi(Reconstructions[-1],\n",
    "                         Data['Coordinates'].iloc[-1], width=width/.55, height=height/.55, verbose=True)"
   ]
  },
  {
   "cell_type": "code",
   "execution_count": null,
   "metadata": {
    "tags": []
   },
   "outputs": [],
   "source": [
    "Data['Grayvalue'].unique()"
   ]
  },
  {
   "cell_type": "code",
   "execution_count": null,
   "metadata": {
    "tags": []
   },
   "outputs": [],
   "source": [
    "# Convert the scan date to ordinal date, otherwise seaborn cannot plot them with a regplot\n",
    "# https://stackoverflow.com/a/47877062\n",
    "from datetime import date\n",
    "Data['Scan date ordinal'] = pandas.to_datetime(Data['Scan date']).apply(lambda date: date.toordinal())\n",
    "Data['Time passed ordinal'] = [t - Data['Scan date ordinal'].min() for t in Data['Scan date ordinal']]"
   ]
  },
  {
   "cell_type": "code",
   "execution_count": null,
   "metadata": {
    "tags": []
   },
   "outputs": [],
   "source": [
    "# Plot the mean brightness of the scan with their dates\n",
    "seaborn.regplot(data=Data,\n",
    "                x='Scan date ordinal',\n",
    "                y='MeanBrightness',\n",
    "                order=2)\n",
    "plt.ylim(ymin=0)\n",
    "# Relabel the x-axis with the 'real', not 'ordinal' date\n",
    "plt.gca().set_xlabel('Scan date')\n",
    "new_labels = [date.fromordinal(int(item)) for item in plt.gca().get_xticks()]\n",
    "plt.gca().set_xticklabels(new_labels, rotation=-60)\n",
    "# Label text: https://matplotlib.org/stable/tutorials/text/annotations.html\n",
    "for c,row in Data.iterrows():\n",
    "    plt.gca().annotate('%s/%s' % (row.Sample.replace('Foetus02', 'F2').replace('_Lugol','').replace('_05pct','').replace('_10pct','').replace('_15pct',''), row.Scan),\n",
    "                       xy=(row['Scan date ordinal'], row.MeanBrightness),\n",
    "                       xycoords='data',\n",
    "                       xytext=(-3, -75),\n",
    "                       textcoords='offset points',\n",
    "                       ha='left',\n",
    "                       rotation=-60)\n",
    "plt.title('Average gray value of the %s-times subsampled reconstructions' % subsample)\n",
    "plt.show()"
   ]
  },
  {
   "cell_type": "code",
   "execution_count": null,
   "metadata": {
    "tags": []
   },
   "outputs": [],
   "source": [
    "# Plot the *masked* mean brightness of the scan with their dates\n",
    "seaborn.regplot(data=Data,\n",
    "                x='Scan date ordinal',\n",
    "                y='MeanBrightness_masked',\n",
    "                order=2)\n",
    "# Relabel the x-axis with the 'real', not 'ordinal' date\n",
    "plt.gca().set_xlabel('Scan date')\n",
    "new_labels = [date.fromordinal(int(item)) for item in plt.gca().get_xticks()]\n",
    "plt.gca().set_xticklabels(new_labels, rotation=-60)\n",
    "# Label text: https://matplotlib.org/stable/tutorials/text/annotations.html\n",
    "for c,row in Data.iterrows():\n",
    "        plt.gca().annotate('%s/%s' % (row.Sample.replace('Foetus02', 'F2').replace('_Lugol','').replace('_05pct','').replace('_10pct','').replace('_15pct',''), row.Scan),\n",
    "                           xy=(row['Scan date ordinal'], row.MeanBrightness_masked),\n",
    "                           xycoords='data',\n",
    "                           xytext=(-3, -75),\n",
    "                           textcoords='offset points',\n",
    "                           ha='left',\n",
    "                           rotation=-60)\n",
    "plt.ylim(ymin=0)\n",
    "plt.title('Average gray value of the %s-times subsampled reconstructions (masked > Otsu)' % subsample)\n",
    "plt.show()"
   ]
  },
  {
   "cell_type": "code",
   "execution_count": null,
   "metadata": {
    "tags": []
   },
   "outputs": [],
   "source": [
    "MeanBrightness_Copy = Data[Data['Grayvalue'] == 0.04]"
   ]
  },
  {
   "cell_type": "code",
   "execution_count": null,
   "metadata": {
    "tags": []
   },
   "outputs": [],
   "source": [
    "# Plot the mean brightness of the scan with their dates\n",
    "seaborn.regplot(data=MeanBrightness_Copy,\n",
    "                x='Scan date ordinal',\n",
    "                y='MeanBrightness',\n",
    "                order=2\n",
    "                )\n",
    "# Relabel the x-axis with the 'real', not 'oridnal date\n",
    "plt.gca().set_xlabel('Scan date')\n",
    "new_labels = [date.fromordinal(int(item)) for item in plt.gca().get_xticks()]\n",
    "plt.gca().set_xticklabels(new_labels, rotation=-60)\n",
    "# Label text: https://matplotlib.org/stable/tutorials/text/annotations.html\n",
    "for c,row in MeanBrightness_Copy.iterrows():\n",
    "        plt.gca().annotate('%s/%s' % (row.Sample.replace('Foetus02', 'F2').replace('_Lugol','').replace('_05pct','').replace('_10pct','').replace('_15pct',''), row.Scan),\n",
    "                       xy=(row['Scan date ordinal'], row.MeanBrightness),\n",
    "                       xycoords='data',\n",
    "                       xytext=(-3, -75),\n",
    "                       textcoords='offset points',\n",
    "                       ha='left',\n",
    "                       rotation=-60)\n",
    "plt.ylim(ymin=0)\n",
    "plt.title('Average gray value of the %s-times subsampled reconstructions (CS GV=0.04)' % subsample)\n",
    "plt.savefig('Helligkeit.png')\n",
    "plt.show()"
   ]
  },
  {
   "cell_type": "code",
   "execution_count": null,
   "metadata": {
    "tags": []
   },
   "outputs": [],
   "source": [
    "# Plot the mean brightness of the scan with their dates\n",
    "seaborn.regplot(data=MeanBrightness_Copy,\n",
    "                x='Time passed ordinal',\n",
    "                y='MeanBrightness_masked',\n",
    "                order=2\n",
    "                )\n",
    "# Relabel the x-axis with the 'real', not 'oridnal date\n",
    "plt.gca().set_xlabel('Days since start')\n",
    "# new_labels = [date.fromordinal(int(item)) for item in plt.gca().get_xticks()]\n",
    "# plt.gca().set_xticklabels(new_labels, rotation=-60)\n",
    "# Label text: https://matplotlib.org/stable/tutorials/text/annotations.html\n",
    "for c,row in MeanBrightness_Copy.iterrows():\n",
    "            plt.gca().annotate('%s/%s' % (row.Sample.replace('Foetus02', 'F2').replace('_Lugol','').replace('_05pct','').replace('_10pct','').replace('_15pct',''), row.Scan),\n",
    "                       xy=(row['Scan date ordinal'], row.MeanBrightness_masked),\n",
    "                       xycoords='data',\n",
    "                       xytext=(-3, -75),\n",
    "                       textcoords='offset points',\n",
    "                       ha='left',\n",
    "                       rotation=-60)\n",
    "plt.ylim(ymin=0)\n",
    "plt.title('Average gray value of the %s-times subsampled reconstructions (CS GV=0.04) (masked > Otsu)' % subsample)\n",
    "plt.savefig('Helligkeit.png')\n",
    "plt.show()"
   ]
  },
  {
   "cell_type": "code",
   "execution_count": null,
   "metadata": {},
   "outputs": [],
   "source": [
    "plt.rcParams['figure.figsize']"
   ]
  },
  {
   "cell_type": "code",
   "execution_count": null,
   "metadata": {
    "tags": []
   },
   "outputs": [],
   "source": [
    "# Generate figure 1\n",
    "# plt.rcParams['figure.figsize'][1] = figsize_default[0]\n",
    "fig = plt.figure(1)\n",
    "gs = GridSpec(3, 3, figure=fig)\n",
    "fig.add_subplot(gs[0, :])\n",
    "# Plot the mean brightness of the scan with their dates\n",
    "seaborn.regplot(data=MeanBrightness_Copy,  # Only show 'low resolution scans', others should *not* be matched. We can easily do that with excluding all the ones that have not used 0.04 as max grayvalue in the reconstructions\n",
    "               x='Time passed ordinal',  # Plot the gray values with 'time passed' instead of scan date\n",
    "               y='MeanBrightness_masked',\n",
    "               order=2)\n",
    "# Annotate the the samples we use below\n",
    "from string import ascii_uppercase    \n",
    "for c, i in enumerate([0, middleone, len(Data)-2]): # Use len(Data)-*2* here, because otherwise we label at the y-value of the not-shown HR scan, which looks not so good.\n",
    "    plt.gca().annotate('%s/%s' % (ascii_uppercase[c+1], ascii_uppercase[c+1+3]),\n",
    "                       xy = (Data['Time passed ordinal'][i], Data['MeanBrightness_masked'][i] - 5),\n",
    "                       xycoords='data', ha='center', va='top')\n",
    "plt.xlabel('Days passed')\n",
    "plt.ylabel('Average gray value')\n",
    "plt.ylim(ymin=0)\n",
    "if subsample != 1:\n",
    "    plt.title('Average gray value in the sample, calculated from %s-times subsampled reconstructions' % subsample)    \n",
    "seaborn.despine()\n",
    "# Add overview images\n",
    "fig.add_subplot(gs[1, 0])\n",
    "markregion(Reconstructions[0][Data['Coordinates'][0][2]], \n",
    "           Data['Coordinates'][0], width, height)\n",
    "plt.gca().add_artist(ScaleBar(Data['Voxelsize'][0],'um'))\n",
    "label_image(Reconstructions[0][Data['Coordinates'][0][2]], 'B')\n",
    "plt.axis('off')\n",
    "fig.add_subplot(gs[1, 1])\n",
    "markregion(Reconstructions[middleone][Data['Coordinates'][middleone][2]],\n",
    "           Data['Coordinates'][middleone], width, height)\n",
    "plt.gca().add_artist(ScaleBar(Data['Voxelsize'][middleone],'um'))\n",
    "label_image(Reconstructions[middleone][Data['Coordinates'][middleone][2]], 'C')\n",
    "plt.axis('off')\n",
    "fig.add_subplot(gs[1, 2])\n",
    "markregion(Reconstructions[-1][Data['Coordinates'].iloc[-1][2]],\n",
    "           Data['Coordinates'].iloc[-1],\n",
    "           width=width/.55, height=height/.55)\n",
    "plt.gca().add_artist(ScaleBar(Data['Voxelsize'].iloc[-1],'um'))\n",
    "label_image(Reconstructions[-1][Data['Coordinates'].iloc[-1][2]], 'D')\n",
    "plt.axis('off')\n",
    "# Add regions\n",
    "fig.add_subplot(gs[2, 0])\n",
    "plt.imshow(skimage.exposure.equalize_adapthist(detail_start))\n",
    "plt.gca().add_artist(ScaleBar(Data['Voxelsize'][0],'um'))\n",
    "label_image(detail_start, 'E')\n",
    "plt.axis('off')\n",
    "fig.add_subplot(gs[2, 1])\n",
    "plt.imshow(skimage.exposure.equalize_adapthist(detail_mid))\n",
    "plt.gca().add_artist(ScaleBar(Data['Voxelsize'][middleone],'um'))\n",
    "label_image(detail_mid, 'F')\n",
    "plt.axis('off')\n",
    "fig.add_subplot(gs[2, 2])\n",
    "plt.imshow(skimage.exposure.equalize_adapthist(detail_end))\n",
    "plt.gca().add_artist(ScaleBar(Data['Voxelsize'].iloc[-1],'um'))\n",
    "label_image(detail_end, 'G')\n",
    "plt.axis('off')\n",
    "\n",
    "plt.tight_layout(pad=0.1)#, h_pad=0.01, w_pad=0.01)\n",
    "\n",
    "plt.savefig(os.path.join(OutPutDir, 'Fig01.png'),\n",
    "            bbox_inches='tight')\n",
    "plt.savefig(os.path.join('/home/habi/research-storage-djonov/Aaldijk/PelvicFloor/Pelvis-Manuscript/Figures', 'Fig01.png'),\n",
    "            bbox_inches='tight')\n",
    "plt.show()\n",
    "plt.rcParams['figure.figsize'] = figsize_default"
   ]
  },
  {
   "cell_type": "code",
   "execution_count": null,
   "metadata": {},
   "outputs": [],
   "source": [
    "# Generate subdirectory for panels\n",
    "for i in range(1,4):\n",
    "    os.makedirs(os.path.join(OutPutDir, 'Fig0%s.panels' % i), exist_ok=True)\n",
    "    os.makedirs('/home/habi/research-storage-djonov/Aaldijk/PelvicFloor/Pelvis-Manuscript/Figures/Fig0%s.panels' % i, exist_ok=True)"
   ]
  },
  {
   "cell_type": "code",
   "execution_count": null,
   "metadata": {},
   "outputs": [],
   "source": [
    "# Save out single panels of figure 1\n",
    "seaborn.regplot(data=MeanBrightness_Copy,  # Only show 'low resolution scans', others should *not* be matched. We can easily do that with excluding all the ones that have not used 0.04 as max grayvalue in the reconstructions\n",
    "               x='Time passed ordinal',  # Plot the gray values with 'time passed' instead of scan date\n",
    "               y='MeanBrightness_masked',\n",
    "               order=2)\n",
    "for c, i in enumerate([0, middleone, len(Data)-2]): # Use len(Data)-*2* here, because otherwise we label at the y-value of the not-shown HR scan, which looks not so good.\n",
    "    plt.gca().annotate('%s/%s' % (ascii_uppercase[c+1], ascii_uppercase[c+1+3]),\n",
    "                       xy = (Data['Time passed ordinal'][i], Data['MeanBrightness_masked'][i] - 5),\n",
    "                       xycoords='data', ha='center', va='top')\n",
    "plt.xlabel('Days passed')\n",
    "plt.ylabel('Average gray value')\n",
    "plt.ylim(ymin=0)\n",
    "if subsample != 1:\n",
    "    plt.title('Average gray value in the sample, calculated from %s-times subsampled reconstructions' % subsample)    \n",
    "seaborn.despine()\n",
    "plt.savefig(os.path.join(OutPutDir, 'Fig01.panels', 'Fig01.A.png'),\n",
    "            bbox_inches='tight')\n",
    "plt.savefig(os.path.join('/home/habi/research-storage-djonov/Aaldijk/PelvicFloor/Pelvis-Manuscript/Figures', 'Fig01.panels', 'Fig01.A.png'),\n",
    "            bbox_inches='tight')\n",
    "plt.show()"
   ]
  },
  {
   "cell_type": "code",
   "execution_count": null,
   "metadata": {},
   "outputs": [],
   "source": [
    "markregion(Reconstructions[0][Data['Coordinates'][0][2]], \n",
    "           Data['Coordinates'][0], width, height)\n",
    "plt.gca().add_artist(ScaleBar(Data['Voxelsize'][0],'um'))\n",
    "plt.axis('off')\n",
    "plt.savefig(os.path.join(OutPutDir, 'Fig01.panels', 'Fig01.B.png'),\n",
    "            bbox_inches='tight')\n",
    "plt.savefig(os.path.join('/home/habi/research-storage-djonov/Aaldijk/PelvicFloor/Pelvis-Manuscript/Figures', 'Fig01.panels', 'Fig01.B.png'),\n",
    "            bbox_inches='tight')\n",
    "plt.show()"
   ]
  },
  {
   "cell_type": "code",
   "execution_count": null,
   "metadata": {},
   "outputs": [],
   "source": [
    "markregion(Reconstructions[middleone][Data['Coordinates'][middleone][2]],\n",
    "           Data['Coordinates'][middleone], width, height)\n",
    "plt.gca().add_artist(ScaleBar(Data['Voxelsize'][middleone],'um'))\n",
    "plt.axis('off')\n",
    "plt.savefig(os.path.join(OutPutDir, 'Fig01.panels', 'Fig01.C.png'),\n",
    "            bbox_inches='tight')\n",
    "plt.savefig(os.path.join('/home/habi/research-storage-djonov/Aaldijk/PelvicFloor/Pelvis-Manuscript/Figures', 'Fig01.panels', 'Fig01.C.png'),\n",
    "            bbox_inches='tight')\n",
    "plt.show()"
   ]
  },
  {
   "cell_type": "code",
   "execution_count": null,
   "metadata": {},
   "outputs": [],
   "source": [
    "markregion(Reconstructions[-1][Data['Coordinates'].iloc[-1][2]],\n",
    "           Data['Coordinates'].iloc[-1],\n",
    "           width=width/.55, height=height/.55)\n",
    "plt.gca().add_artist(ScaleBar(Data['Voxelsize'].iloc[-1],'um'))\n",
    "plt.axis('off')\n",
    "plt.savefig(os.path.join(OutPutDir, 'Fig01.panels', 'Fig01.D.png'),\n",
    "            bbox_inches='tight')\n",
    "plt.savefig(os.path.join('/home/habi/research-storage-djonov/Aaldijk/PelvicFloor/Pelvis-Manuscript/Figures', 'Fig01.panels', 'Fig01.D.png'),\n",
    "            bbox_inches='tight')\n",
    "plt.show()"
   ]
  },
  {
   "cell_type": "code",
   "execution_count": null,
   "metadata": {},
   "outputs": [],
   "source": [
    "plt.imshow(skimage.exposure.equalize_adapthist(detail_start))\n",
    "plt.gca().add_artist(ScaleBar(Data['Voxelsize'][0],'um'))\n",
    "plt.axis('off')\n",
    "plt.savefig(os.path.join(OutPutDir, 'Fig01.panels', 'Fig01.E.png'),\n",
    "            bbox_inches='tight')\n",
    "plt.savefig(os.path.join('/home/habi/research-storage-djonov/Aaldijk/PelvicFloor/Pelvis-Manuscript/Figures', 'Fig01.panels', 'Fig01.E.png'),\n",
    "            bbox_inches='tight')\n",
    "plt.show()"
   ]
  },
  {
   "cell_type": "code",
   "execution_count": null,
   "metadata": {},
   "outputs": [],
   "source": [
    "plt.imshow(skimage.exposure.equalize_adapthist(detail_mid))\n",
    "plt.gca().add_artist(ScaleBar(Data['Voxelsize'][middleone],'um'))\n",
    "plt.axis('off')\n",
    "plt.savefig(os.path.join(OutPutDir, 'Fig01.panels', 'Fig01.F.png'),\n",
    "            bbox_inches='tight')\n",
    "plt.savefig(os.path.join('/home/habi/research-storage-djonov/Aaldijk/PelvicFloor/Pelvis-Manuscript/Figures', 'Fig01.panels', 'Fig01.F.png'),\n",
    "            bbox_inches='tight')\n",
    "plt.show()"
   ]
  },
  {
   "cell_type": "code",
   "execution_count": null,
   "metadata": {},
   "outputs": [],
   "source": [
    "plt.imshow(skimage.exposure.equalize_adapthist(detail_end))\n",
    "plt.gca().add_artist(ScaleBar(Data['Voxelsize'].iloc[-1],'um'))\n",
    "label_image(detail_end, 'G')\n",
    "plt.axis('off')\n",
    "plt.savefig(os.path.join(OutPutDir, 'Fig01.panels', 'Fig01.G.png'),\n",
    "            bbox_inches='tight')\n",
    "plt.savefig(os.path.join('/home/habi/research-storage-djonov/Aaldijk/PelvicFloor/Pelvis-Manuscript/Figures', 'Fig01.panels', 'Fig01.G.png'),\n",
    "            bbox_inches='tight')\n",
    "plt.show()"
   ]
  },
  {
   "cell_type": "code",
   "execution_count": null,
   "metadata": {},
   "outputs": [],
   "source": [
    "OutPutDir"
   ]
  },
  {
   "cell_type": "markdown",
   "metadata": {},
   "source": [
    "----\n",
    "# Figure 2"
   ]
  },
  {
   "cell_type": "markdown",
   "metadata": {},
   "source": [
    "Koordinaten (in 11um stack 152d)\n",
    "\n",
    "A) x: 2249, y: 1075, z:819 --> war gedreht, jetzt 1936,2218,819\n",
    "\n",
    "B) x:2223 y: 1308 z:2527 --> war gedreht, jetzt 2230,2093,2527\n",
    "\n",
    "C) x: 1939, y: 1063, z: 819 --> war gedreht, jetzt 2061,1878,819"
   ]
  },
  {
   "cell_type": "code",
   "execution_count": null,
   "metadata": {},
   "outputs": [],
   "source": [
    "# Collect figure 2\n",
    "plt.figure(2)\n",
    "plt.subplot(231)\n",
    "markregion(Reconstructions[-1][819], \n",
    "           (1936, 2218, 819), 500, 500)\n",
    "plt.gca().add_artist(ScaleBar(Data['Voxelsize'].iloc[-1],'um'))\n",
    "label_image(Reconstructions[-1][819], 'A')\n",
    "plt.axis('off')\n",
    "plt.subplot(232)\n",
    "markregion(Reconstructions[-1][2527], \n",
    "           (2048, 2180, 2527), 700, 700)\n",
    "plt.gca().add_artist(ScaleBar(Data['Voxelsize'].iloc[-1],'um'))\n",
    "label_image(Reconstructions[-1][819], 'B')\n",
    "plt.axis('off')\n",
    "plt.subplot(233)\n",
    "markregion(Reconstructions[-1][819], \n",
    "           (2061, 1878, 819), 500, 500)\n",
    "plt.gca().add_artist(ScaleBar(Data['Voxelsize'].iloc[-1],'um'))\n",
    "label_image(Reconstructions[-1][819], 'C')\n",
    "plt.axis('off')\n",
    "#---\n",
    "plt.subplot(234)\n",
    "plt.imshow(skimage.exposure.equalize_adapthist(extract_roi(Reconstructions[-1],\n",
    "                                                           (1936, 2218, 819), 500, 500)))\n",
    "plt.gca().add_artist(ScaleBar(Data['Voxelsize'].iloc[-1],'um'))\n",
    "label_image(extract_roi(Reconstructions[-1],\n",
    "                        (1936, 2218, 819), 500, 500),\n",
    "            'D')\n",
    "plt.axis('off')\n",
    "plt.subplot(235)\n",
    "plt.imshow(skimage.exposure.equalize_adapthist(extract_roi(Reconstructions[-1],\n",
    "                                                           (2048, 2180, 2527), 700, 700)))\n",
    "plt.gca().add_artist(ScaleBar(Data['Voxelsize'].iloc[-1],'um'))\n",
    "label_image(extract_roi(Reconstructions[-1],\n",
    "                        (2048, 2180, 2527), 700, 700),\n",
    "            'E')\n",
    "plt.axis('off')\n",
    "plt.subplot(236)\n",
    "plt.imshow(skimage.exposure.equalize_adapthist(extract_roi(Reconstructions[-1],\n",
    "                                                           (2061, 1878, 819), 500, 500)))\n",
    "plt.gca().add_artist(ScaleBar(Data['Voxelsize'].iloc[-1],'um'))\n",
    "label_image(extract_roi(Reconstructions[-1],\n",
    "                        (2061, 1878, 819), 500, 500),\n",
    "            'F')\n",
    "plt.axis('off')\n",
    "plt.tight_layout(pad=0.3, h_pad=0.3, w_pad=0.3)\n",
    "plt.savefig(os.path.join(OutPutDir, 'Fig02.png'),\n",
    "            bbox_inches='tight')\n",
    "plt.savefig(os.path.join('/home/habi/research-storage-djonov/Aaldijk/PelvicFloor/Pelvis-Manuscript/Figures', 'Fig02.png'),\n",
    "            bbox_inches='tight')\n",
    "plt.show()"
   ]
  },
  {
   "cell_type": "code",
   "execution_count": null,
   "metadata": {},
   "outputs": [],
   "source": [
    "markregion(Reconstructions[-1][819], \n",
    "           (1936, 2218, 819), 500, 500)\n",
    "plt.gca().add_artist(ScaleBar(Data['Voxelsize'].iloc[-1],'um'))\n",
    "plt.axis('off')\n",
    "plt.savefig(os.path.join(OutPutDir, 'Fig02.panels', 'Fig02.A.png'),\n",
    "            bbox_inches='tight')\n",
    "plt.savefig(os.path.join('/home/habi/research-storage-djonov/Aaldijk/PelvicFloor/Pelvis-Manuscript/Figures', 'Fig02.panels', 'Fig02.A.png'),\n",
    "            bbox_inches='tight')\n",
    "plt.show()"
   ]
  },
  {
   "cell_type": "code",
   "execution_count": null,
   "metadata": {},
   "outputs": [],
   "source": [
    "markregion(Reconstructions[-1][2527], \n",
    "           (2048, 2180, 2527), 700, 700)\n",
    "plt.gca().add_artist(ScaleBar(Data['Voxelsize'].iloc[-1],'um'))\n",
    "plt.axis('off')\n",
    "plt.savefig(os.path.join(OutPutDir, 'Fig02.panels', 'Fig02.B.png'),\n",
    "            bbox_inches='tight')\n",
    "plt.savefig(os.path.join('/home/habi/research-storage-djonov/Aaldijk/PelvicFloor/Pelvis-Manuscript/Figures', 'Fig02.panels', 'Fig02.B.png'),\n",
    "            bbox_inches='tight')\n",
    "plt.show()"
   ]
  },
  {
   "cell_type": "code",
   "execution_count": null,
   "metadata": {},
   "outputs": [],
   "source": [
    "markregion(Reconstructions[-1][819], \n",
    "           (2061, 1878, 819), 500, 500)\n",
    "plt.gca().add_artist(ScaleBar(Data['Voxelsize'].iloc[-1],'um'))\n",
    "plt.axis('off')\n",
    "plt.savefig(os.path.join(OutPutDir, 'Fig02.panels', 'Fig02.C.png'),\n",
    "            bbox_inches='tight')\n",
    "plt.savefig(os.path.join('/home/habi/research-storage-djonov/Aaldijk/PelvicFloor/Pelvis-Manuscript/Figures', 'Fig02.panels', 'Fig02.C.png'),\n",
    "            bbox_inches='tight')\n",
    "plt.show()"
   ]
  },
  {
   "cell_type": "code",
   "execution_count": null,
   "metadata": {},
   "outputs": [],
   "source": [
    "plt.imshow(skimage.exposure.equalize_adapthist(extract_roi(Reconstructions[-1],\n",
    "                                                           (1936, 2218, 819), 500, 500)))\n",
    "plt.gca().add_artist(ScaleBar(Data['Voxelsize'].iloc[-1],'um'))\n",
    "plt.axis('off')\n",
    "plt.savefig(os.path.join(OutPutDir, 'Fig02.panels', 'Fig02.D.png'),\n",
    "            bbox_inches='tight')\n",
    "plt.savefig(os.path.join('/home/habi/research-storage-djonov/Aaldijk/PelvicFloor/Pelvis-Manuscript/Figures', 'Fig02.panels', 'Fig02.D.png'),\n",
    "            bbox_inches='tight')\n",
    "plt.show()"
   ]
  },
  {
   "cell_type": "code",
   "execution_count": null,
   "metadata": {},
   "outputs": [],
   "source": [
    "plt.imshow(skimage.exposure.equalize_adapthist(extract_roi(Reconstructions[-1],\n",
    "                                                           (2048, 2180, 2527), 700, 700)))\n",
    "plt.gca().add_artist(ScaleBar(Data['Voxelsize'].iloc[-1],'um'))\n",
    "plt.axis('off')\n",
    "plt.savefig(os.path.join(OutPutDir, 'Fig02.panels', 'Fig02.E.png'),\n",
    "            bbox_inches='tight')\n",
    "plt.savefig(os.path.join('/home/habi/research-storage-djonov/Aaldijk/PelvicFloor/Pelvis-Manuscript/Figures', 'Fig02.panels', 'Fig02.E.png'),\n",
    "            bbox_inches='tight')\n",
    "plt.show()"
   ]
  },
  {
   "cell_type": "code",
   "execution_count": null,
   "metadata": {},
   "outputs": [],
   "source": [
    "plt.imshow(skimage.exposure.equalize_adapthist(extract_roi(Reconstructions[-1],\n",
    "                                                           (2061, 1878, 819), 500, 500)))\n",
    "plt.gca().add_artist(ScaleBar(Data['Voxelsize'].iloc[-1],'um'))\n",
    "plt.axis('off')\n",
    "plt.savefig(os.path.join(OutPutDir, 'Fig02.panels', 'Fig02.F.png'),\n",
    "            bbox_inches='tight')\n",
    "plt.savefig(os.path.join('/home/habi/research-storage-djonov/Aaldijk/PelvicFloor/Pelvis-Manuscript/Figures', 'Fig02.panels', 'Fig02.F.png'),\n",
    "            bbox_inches='tight')\n",
    "plt.show()"
   ]
  },
  {
   "cell_type": "markdown",
   "metadata": {},
   "source": [
    "----\n",
    "# Figure 3"
   ]
  },
  {
   "cell_type": "markdown",
   "metadata": {},
   "source": [
    "Koordinaten: neu, im rotierten 11um stack 152 days \n",
    "\n",
    "Bulbospongiosus (+ ischiocavernosus) \n",
    "\n",
    "- YZ 1935, x 723, y 842 --> 1935,723,842\n",
    "- XZ 2229, x 1935, y 722 -> 1935,2229,722\n",
    "\n",
    "Longitudinal rectum muscle \n",
    "\n",
    "- XY (original orientation) slice 789, x 2022, y 1932 \n",
    "- YZ 2022, x 789, y 1139 \n",
    "\n",
    "EAS \n",
    "\n",
    "- YZ 1752, x 489, y 1442 \n",
    "- XZ 1629, x 1752, y 488 \n",
    "\n",
    "STP \n",
    "- Slice 651, x 2010, y 1914, z 650 \n",
    "- XZ 1914, x 2010, y 650 "
   ]
  },
  {
   "cell_type": "code",
   "execution_count": null,
   "metadata": {},
   "outputs": [],
   "source": [
    "# Which is which?\n",
    "# Copy from function-definition above\n",
    "    # if direction == 0:\n",
    "    #     plt.title('YZ (dir %s): coords: %s' % (direction, coordinates))            \n",
    "    # elif direction == 1:\n",
    "    #     plt.title('XZ (dir %s): coords: %s' % (direction, coordinates))                        \n",
    "    # elif direction == 2:\n",
    "    #     plt.title('Slice %s: coords: %s' % (coordinates[2], coordinates))                                "
   ]
  },
  {
   "cell_type": "code",
   "execution_count": null,
   "metadata": {},
   "outputs": [],
   "source": [
    "coordinates_bsp_a = (1935,723,842)\n",
    "coordinates_bsp_b = (1935,2229,722)\n",
    "coordinates_lrm_a = (2022,1932,789)\n",
    "coordinates_lrm_b = (2022,1932,789)\n",
    "coordinates_eas_a = (1752,1442,489)\n",
    "coordinates_eas_b = (1752,1629,488)\n",
    "coordinates_stp_a = (2010,1914,650)\n",
    "coordinates_stp_b = (2010,1914,650)"
   ]
  },
  {
   "cell_type": "code",
   "execution_count": null,
   "metadata": {},
   "outputs": [],
   "source": [
    "width=500\n",
    "height=600"
   ]
  },
  {
   "cell_type": "code",
   "execution_count": null,
   "metadata": {},
   "outputs": [],
   "source": [
    "# Bulbospongiosus\n",
    "bsp_a = extract_directional_slice(Reconstructions[15],\n",
    "                                  0,\n",
    "                                  coordinates_bsp_a,\n",
    "                                  verbose=False).compute()"
   ]
  },
  {
   "cell_type": "code",
   "execution_count": null,
   "metadata": {},
   "outputs": [],
   "source": [
    "plt.subplot(121)\n",
    "markregion(bsp_a, coordinates_bsp_a, width, height)\n",
    "bsp_a_d = extract_roi_2d(bsp_a, (coordinates_bsp_a[0], coordinates_bsp_a[1]), width, height)\n",
    "plt.subplot(122)\n",
    "plt.imshow(bsp_a_d)\n",
    "plt.show()"
   ]
  },
  {
   "cell_type": "code",
   "execution_count": null,
   "metadata": {},
   "outputs": [],
   "source": [
    "# Bulbospongiosus\n",
    "bsp_b = extract_directional_slice(Reconstructions[15],\n",
    "                                  1,\n",
    "                                  coordinates_bsp_b,\n",
    "                                  verbose=False).compute()"
   ]
  },
  {
   "cell_type": "code",
   "execution_count": null,
   "metadata": {},
   "outputs": [],
   "source": [
    "coordinates_bsp_b\n",
    "plt.subplot(121)\n",
    "markregion(bsp_b, coordinates_bsp_b, width, height)\n",
    "bsp_b_d = extract_roi_2d(bsp_b, (coordinates_bsp_b[0], coordinates_bsp_b[1]), width, height)\n",
    "plt.subplot(122)\n",
    "plt.imshow(bsp_b_d)\n",
    "plt.show()"
   ]
  },
  {
   "cell_type": "code",
   "execution_count": null,
   "metadata": {},
   "outputs": [],
   "source": [
    "# Longitudinal rectum muscle \n",
    "lrm_a = extract_directional_slice(Reconstructions[15],\n",
    "                                  2,\n",
    "                                  coordinates_lrm_a,\n",
    "                                  verbose=False).compute()"
   ]
  },
  {
   "cell_type": "code",
   "execution_count": null,
   "metadata": {},
   "outputs": [],
   "source": [
    "plt.subplot(121)\n",
    "markregion(lrm_a, coordinates_lrm_a, width, height)\n",
    "lrm_a_d = extract_roi_2d(lrm_a, (coordinates_lrm_a[0], coordinates_lrm_a[1]), width, height)\n",
    "plt.subplot(122)\n",
    "plt.imshow(lrm_a_d)\n",
    "plt.show()"
   ]
  },
  {
   "cell_type": "code",
   "execution_count": null,
   "metadata": {},
   "outputs": [],
   "source": [
    "# Longitudinal rectum muscle \n",
    "lrm_b = extract_directional_slice(Reconstructions[15],\n",
    "                                  1,\n",
    "                                  coordinates_lrm_b,\n",
    "                                  verbose=False).compute()\n",
    "lrm_b_d = extract_roi_2d(lrm_b, (coordinates_lrm_b[0], coordinates_lrm_b[1]), width, height)"
   ]
  },
  {
   "cell_type": "code",
   "execution_count": null,
   "metadata": {},
   "outputs": [],
   "source": [
    "# EAS\n",
    "eas_a = extract_directional_slice(Reconstructions[15],\n",
    "                                  0,\n",
    "                                  coordinates_eas_a,\n",
    "                                  verbose=False).compute()\n",
    "eas_a_d = extract_roi_2d(eas_a, (coordinates_eas_a[0], coordinates_eas_a[1]), width, height)"
   ]
  },
  {
   "cell_type": "code",
   "execution_count": null,
   "metadata": {},
   "outputs": [],
   "source": [
    "# EAS\n",
    "eas_b = extract_directional_slice(Reconstructions[15],\n",
    "                                  1,\n",
    "                                  coordinates_eas_b,\n",
    "                                  verbose=False).compute()\n",
    "eas_b_d = extract_roi_2d(eas_b, (coordinates_eas_b[0], coordinates_eas_b[1]), width, height)"
   ]
  },
  {
   "cell_type": "code",
   "execution_count": null,
   "metadata": {},
   "outputs": [],
   "source": [
    "# STP\n",
    "stp_a = extract_directional_slice(Reconstructions[15],\n",
    "                                  2,\n",
    "                                  (2010,1914,650),\n",
    "                                  verbose=False).compute()\n",
    "stp_a_d = extract_roi_2d(stp_a, (coordinates_stp_a[0], coordinates_stp_a[1]), width, height)"
   ]
  },
  {
   "cell_type": "code",
   "execution_count": null,
   "metadata": {},
   "outputs": [],
   "source": [
    "# STP\n",
    "stp_b = extract_directional_slice(Reconstructions[15],\n",
    "                                  1,\n",
    "                                  coordinates_stp_b,\n",
    "                                  verbose=False).compute()\n",
    "stp_b_d = extract_roi_2d(stp_b, (coordinates_stp_b[0], coordinates_stp_b[1]), width, height)"
   ]
  },
  {
   "cell_type": "code",
   "execution_count": null,
   "metadata": {},
   "outputs": [],
   "source": [
    "# Collect figure 3\n",
    "width = 500\n",
    "height = 600\n",
    "plt.rcParams['figure.figsize'][1] = figsize_default[0] * 1.1\n",
    "plt.figure(3)\n",
    "plt.subplot(4,4,1)\n",
    "markregion(bsp_a, coordinates_bsp_a, width, height)\n",
    "label_image(bsp_a,'A')\n",
    "plt.gca().add_artist(ScaleBar(Data['Voxelsize'].iloc[-1],'um'))\n",
    "plt.axis('off')\n",
    "plt.figure(3)\n",
    "plt.subplot(4,4,2)\n",
    "plt.imshow(skimage.exposure.equalize_adapthist(bsp_a_d))\n",
    "plt.gca().add_artist(ScaleBar(Data['Voxelsize'].iloc[-1],'um'))\n",
    "label_image(bsp_a_d,'B')\n",
    "plt.axis('off')\n",
    "plt.subplot(4,4,3)\n",
    "markregion(bsp_b, coordinates_bsp_b, width, height)\n",
    "plt.gca().add_artist(ScaleBar(Data['Voxelsize'].iloc[-1],'um'))\n",
    "label_image(bsp_b,'C')\n",
    "plt.axis('off')\n",
    "plt.subplot(4,4,4)\n",
    "plt.imshow(skimage.exposure.equalize_adapthist(bsp_b_d))\n",
    "plt.gca().add_artist(ScaleBar(Data['Voxelsize'].iloc[-1],'um'))\n",
    "label_image(bsp_b_d,'D')\n",
    "plt.axis('off')\n",
    "# ----------\n",
    "plt.subplot(4,4,5)\n",
    "markregion(lrm_a, coordinates_lrm_a, width, height)\n",
    "label_image(lrm_a,'E')\n",
    "plt.gca().add_artist(ScaleBar(Data['Voxelsize'].iloc[-1],'um'))\n",
    "plt.axis('off')\n",
    "plt.figure(3)\n",
    "plt.subplot(4,4,6)\n",
    "plt.imshow(skimage.exposure.equalize_adapthist(lrm_a_d))\n",
    "plt.gca().add_artist(ScaleBar(Data['Voxelsize'].iloc[-1],'um'))\n",
    "label_image(lrm_a_d,'F')\n",
    "plt.axis('off')\n",
    "plt.subplot(4,4,7)\n",
    "markregion(lrm_b, coordinates_lrm_b, width, height)\n",
    "plt.gca().add_artist(ScaleBar(Data['Voxelsize'].iloc[-1],'um'))\n",
    "label_image(lrm_b,'G')\n",
    "plt.axis('off')\n",
    "plt.subplot(4,4,8)\n",
    "plt.imshow(skimage.exposure.equalize_adapthist(lrm_b_d))\n",
    "plt.gca().add_artist(ScaleBar(Data['Voxelsize'].iloc[-1],'um'))\n",
    "label_image(eas_b_d,'H')\n",
    "plt.axis('off')\n",
    "# # ----------\n",
    "plt.subplot(4,4,9)\n",
    "markregion(eas_a, coordinates_eas_a, width, height)\n",
    "label_image(eas_a,'I')\n",
    "plt.gca().add_artist(ScaleBar(Data['Voxelsize'].iloc[-1],'um'))\n",
    "plt.axis('off')\n",
    "plt.figure(3)\n",
    "plt.subplot(4,4,10)\n",
    "plt.imshow(skimage.exposure.equalize_adapthist(eas_a_d))\n",
    "plt.gca().add_artist(ScaleBar(Data['Voxelsize'].iloc[-1],'um'))\n",
    "label_image(eas_a_d,'J')\n",
    "plt.axis('off')\n",
    "plt.subplot(4,4,11)\n",
    "markregion(eas_b, coordinates_eas_b, width, height)\n",
    "plt.gca().add_artist(ScaleBar(Data['Voxelsize'].iloc[-1],'um'))\n",
    "label_image(eas_b,'K')\n",
    "plt.axis('off')\n",
    "plt.subplot(4,4,12)\n",
    "plt.imshow(skimage.exposure.equalize_adapthist(eas_b_d))\n",
    "plt.gca().add_artist(ScaleBar(Data['Voxelsize'].iloc[-1],'um'))\n",
    "label_image(lrm_b_d,'L')\n",
    "plt.axis('off')\n",
    "# # ----------\n",
    "plt.subplot(4,4,13)\n",
    "markregion(stp_a, coordinates_stp_a, width, height)\n",
    "label_image(stp_a,'M')\n",
    "plt.gca().add_artist(ScaleBar(Data['Voxelsize'].iloc[-1],'um'))\n",
    "plt.axis('off')\n",
    "plt.figure(3)\n",
    "plt.subplot(4,4,14)\n",
    "plt.imshow(skimage.exposure.equalize_adapthist(stp_a_d))\n",
    "plt.gca().add_artist(ScaleBar(Data['Voxelsize'].iloc[-1],'um'))\n",
    "label_image(stp_a_d,'N')\n",
    "plt.axis('off')\n",
    "plt.subplot(4,4,15)\n",
    "markregion(stp_b, coordinates_stp_b, width, height)\n",
    "plt.gca().add_artist(ScaleBar(Data['Voxelsize'].iloc[-1],'um'))\n",
    "label_image(stp_b,'O')\n",
    "plt.axis('off')\n",
    "plt.subplot(4,4,16)\n",
    "plt.imshow(skimage.exposure.equalize_adapthist(stp_b_d))\n",
    "plt.gca().add_artist(ScaleBar(Data['Voxelsize'].iloc[-1],'um'))\n",
    "label_image(stp_b_d,'P')\n",
    "plt.axis('off')\n",
    "plt.tight_layout(pad=0.3, h_pad=0.3, w_pad=0.3)\n",
    "plt.savefig(os.path.join(OutPutDir, 'Fig03.png'),\n",
    "            bbox_inches='tight')\n",
    "plt.savefig(os.path.join('/home/habi/research-storage-djonov/Aaldijk/PelvicFloor/Pelvis-Manuscript/Figures', 'Fig03.png'),\n",
    "            bbox_inches='tight')\n",
    "plt.show()\n",
    "plt.rcParams['figure.figsize'] = figsize_default"
   ]
  },
  {
   "cell_type": "code",
   "execution_count": null,
   "metadata": {},
   "outputs": [],
   "source": [
    "# Save single panels\n",
    "markregion(bsp_a, coordinates_bsp_a, width, height)\n",
    "# label_image(bsp_a,'A')\n",
    "plt.gca().add_artist(ScaleBar(Data['Voxelsize'].iloc[-1],'um'))\n",
    "plt.axis('off')\n",
    "plt.savefig(os.path.join(OutPutDir, 'Fig03.panels', 'Fig03.A.png'),\n",
    "            bbox_inches='tight')\n",
    "plt.savefig(os.path.join('/home/habi/research-storage-djonov/Aaldijk/PelvicFloor/Pelvis-Manuscript/Figures', 'Fig03.panels', 'Fig03.A.png'),\n",
    "            bbox_inches='tight')\n",
    "plt.show()"
   ]
  },
  {
   "cell_type": "code",
   "execution_count": null,
   "metadata": {},
   "outputs": [],
   "source": [
    "plt.imshow(skimage.exposure.equalize_adapthist(bsp_a_d))\n",
    "plt.gca().add_artist(ScaleBar(Data['Voxelsize'].iloc[-1],'um'))\n",
    "# label_image(bsp_a_d,'B')\n",
    "plt.axis('off')\n",
    "plt.savefig(os.path.join(OutPutDir, 'Fig03.panels', 'Fig03.B.png'),\n",
    "            bbox_inches='tight')\n",
    "plt.savefig(os.path.join('/home/habi/research-storage-djonov/Aaldijk/PelvicFloor/Pelvis-Manuscript/Figures', 'Fig03.panels', 'Fig03.B.png'),\n",
    "            bbox_inches='tight')\n",
    "plt.show()"
   ]
  },
  {
   "cell_type": "code",
   "execution_count": null,
   "metadata": {},
   "outputs": [],
   "source": [
    "markregion(bsp_b, coordinates_bsp_b, width, height)\n",
    "plt.gca().add_artist(ScaleBar(Data['Voxelsize'].iloc[-1],'um'))\n",
    "# label_image(bsp_b,'C')\n",
    "plt.axis('off')\n",
    "plt.savefig(os.path.join(OutPutDir, 'Fig03.panels', 'Fig03.C.png'),\n",
    "            bbox_inches='tight')\n",
    "plt.savefig(os.path.join('/home/habi/research-storage-djonov/Aaldijk/PelvicFloor/Pelvis-Manuscript/Figures', 'Fig03.panels', 'Fig03.C.png'),\n",
    "            bbox_inches='tight')\n",
    "plt.show()"
   ]
  },
  {
   "cell_type": "code",
   "execution_count": null,
   "metadata": {},
   "outputs": [],
   "source": [
    "plt.imshow(skimage.exposure.equalize_adapthist(bsp_b_d))\n",
    "plt.gca().add_artist(ScaleBar(Data['Voxelsize'].iloc[-1],'um'))\n",
    "# label_image(bsp_b_d,'D')\n",
    "plt.axis('off')\n",
    "plt.savefig(os.path.join(OutPutDir, 'Fig03.panels', 'Fig03.D.png'),\n",
    "            bbox_inches='tight')\n",
    "plt.savefig(os.path.join('/home/habi/research-storage-djonov/Aaldijk/PelvicFloor/Pelvis-Manuscript/Figures', 'Fig03.panels', 'Fig03.D.png'),\n",
    "            bbox_inches='tight')\n",
    "plt.show()"
   ]
  },
  {
   "cell_type": "code",
   "execution_count": null,
   "metadata": {},
   "outputs": [],
   "source": [
    "markregion(lrm_a, coordinates_lrm_a, width, height)\n",
    "# label_image(lrm_a,'E')\n",
    "plt.gca().add_artist(ScaleBar(Data['Voxelsize'].iloc[-1],'um'))\n",
    "plt.axis('off')\n",
    "plt.savefig(os.path.join(OutPutDir, 'Fig03.panels', 'Fig03.E.png'),\n",
    "            bbox_inches='tight')\n",
    "plt.savefig(os.path.join('/home/habi/research-storage-djonov/Aaldijk/PelvicFloor/Pelvis-Manuscript/Figures', 'Fig03.panels', 'Fig03.E.png'),\n",
    "            bbox_inches='tight')\n",
    "plt.show()"
   ]
  },
  {
   "cell_type": "code",
   "execution_count": null,
   "metadata": {},
   "outputs": [],
   "source": [
    "plt.imshow(skimage.exposure.equalize_adapthist(lrm_a_d))\n",
    "plt.gca().add_artist(ScaleBar(Data['Voxelsize'].iloc[-1],'um'))\n",
    "# label_image(lrm_a_d,'F')\n",
    "plt.axis('off')\n",
    "plt.savefig(os.path.join(OutPutDir, 'Fig03.panels', 'Fig03.F.png'),\n",
    "            bbox_inches='tight')\n",
    "plt.savefig(os.path.join('/home/habi/research-storage-djonov/Aaldijk/PelvicFloor/Pelvis-Manuscript/Figures', 'Fig03.panels', 'Fig03.F.png'),\n",
    "            bbox_inches='tight')\n",
    "plt.show()"
   ]
  },
  {
   "cell_type": "code",
   "execution_count": null,
   "metadata": {},
   "outputs": [],
   "source": [
    "markregion(lrm_b, coordinates_lrm_b, width, height)\n",
    "plt.gca().add_artist(ScaleBar(Data['Voxelsize'].iloc[-1],'um'))\n",
    "# label_image(lrm_b,'G')\n",
    "plt.axis('off')\n",
    "plt.savefig(os.path.join(OutPutDir, 'Fig03.panels', 'Fig03.G.png'),\n",
    "            bbox_inches='tight')\n",
    "plt.savefig(os.path.join('/home/habi/research-storage-djonov/Aaldijk/PelvicFloor/Pelvis-Manuscript/Figures', 'Fig03.panels', 'Fig03.G.png'),\n",
    "            bbox_inches='tight')\n",
    "plt.show()"
   ]
  },
  {
   "cell_type": "code",
   "execution_count": null,
   "metadata": {},
   "outputs": [],
   "source": [
    "plt.imshow(skimage.exposure.equalize_adapthist(lrm_b_d))\n",
    "plt.gca().add_artist(ScaleBar(Data['Voxelsize'].iloc[-1],'um'))\n",
    "# label_image(eas_b_d,'H')\n",
    "plt.axis('off')\n",
    "plt.savefig(os.path.join(OutPutDir, 'Fig03.panels', 'Fig03.H.png'),\n",
    "            bbox_inches='tight')\n",
    "plt.savefig(os.path.join('/home/habi/research-storage-djonov/Aaldijk/PelvicFloor/Pelvis-Manuscript/Figures', 'Fig03.panels', 'Fig03.H.png'),\n",
    "            bbox_inches='tight')\n",
    "plt.show()"
   ]
  },
  {
   "cell_type": "code",
   "execution_count": null,
   "metadata": {},
   "outputs": [],
   "source": [
    "markregion(eas_a, coordinates_eas_a, width, height)\n",
    "# label_image(eas_a,'I')\n",
    "plt.gca().add_artist(ScaleBar(Data['Voxelsize'].iloc[-1],'um'))\n",
    "plt.axis('off')\n",
    "plt.savefig(os.path.join(OutPutDir, 'Fig03.panels', 'Fig03.I.png'),\n",
    "            bbox_inches='tight')\n",
    "plt.savefig(os.path.join('/home/habi/research-storage-djonov/Aaldijk/PelvicFloor/Pelvis-Manuscript/Figures', 'Fig03.panels', 'Fig03.I.png'),\n",
    "            bbox_inches='tight')\n",
    "plt.show()"
   ]
  },
  {
   "cell_type": "code",
   "execution_count": null,
   "metadata": {},
   "outputs": [],
   "source": [
    "plt.imshow(skimage.exposure.equalize_adapthist(eas_a_d))\n",
    "plt.gca().add_artist(ScaleBar(Data['Voxelsize'].iloc[-1],'um'))\n",
    "# label_image(eas_a_d,'J')\n",
    "plt.axis('off')\n",
    "plt.savefig(os.path.join(OutPutDir, 'Fig03.panels', 'Fig03.J.png'),\n",
    "            bbox_inches='tight')\n",
    "plt.savefig(os.path.join('/home/habi/research-storage-djonov/Aaldijk/PelvicFloor/Pelvis-Manuscript/Figures', 'Fig03.panels', 'Fig03.J.png'),\n",
    "            bbox_inches='tight')\n",
    "plt.show()"
   ]
  },
  {
   "cell_type": "code",
   "execution_count": null,
   "metadata": {},
   "outputs": [],
   "source": [
    "markregion(eas_b, coordinates_eas_b, width, height)\n",
    "plt.gca().add_artist(ScaleBar(Data['Voxelsize'].iloc[-1],'um'))\n",
    "# label_image(eas_b,'K')\n",
    "plt.axis('off')\n",
    "plt.axis('off')\n",
    "plt.savefig(os.path.join(OutPutDir, 'Fig03.panels', 'Fig03.K.png'),\n",
    "            bbox_inches='tight')\n",
    "plt.savefig(os.path.join('/home/habi/research-storage-djonov/Aaldijk/PelvicFloor/Pelvis-Manuscript/Figures', 'Fig03.panels', 'Fig03.K.png'),\n",
    "            bbox_inches='tight')\n",
    "plt.show()"
   ]
  },
  {
   "cell_type": "code",
   "execution_count": null,
   "metadata": {},
   "outputs": [],
   "source": [
    "plt.imshow(skimage.exposure.equalize_adapthist(eas_b_d))\n",
    "plt.gca().add_artist(ScaleBar(Data['Voxelsize'].iloc[-1],'um'))\n",
    "# label_image(lrm_b_d,'L')\n",
    "plt.axis('off')\n",
    "plt.savefig(os.path.join(OutPutDir, 'Fig03.panels', 'Fig03.L.png'),\n",
    "            bbox_inches='tight')\n",
    "plt.savefig(os.path.join('/home/habi/research-storage-djonov/Aaldijk/PelvicFloor/Pelvis-Manuscript/Figures', 'Fig03.panels', 'Fig03.L.png'),\n",
    "            bbox_inches='tight')\n",
    "plt.show()"
   ]
  },
  {
   "cell_type": "code",
   "execution_count": null,
   "metadata": {},
   "outputs": [],
   "source": [
    "markregion(stp_a, coordinates_stp_a, width, height)\n",
    "# label_image(stp_a,'M')\n",
    "plt.gca().add_artist(ScaleBar(Data['Voxelsize'].iloc[-1],'um'))\n",
    "plt.axis('off')\n",
    "plt.savefig(os.path.join(OutPutDir, 'Fig03.panels', 'Fig03.M.png'),\n",
    "            bbox_inches='tight')\n",
    "plt.savefig(os.path.join('/home/habi/research-storage-djonov/Aaldijk/PelvicFloor/Pelvis-Manuscript/Figures', 'Fig03.panels', 'Fig03.M.png'),\n",
    "            bbox_inches='tight')\n",
    "plt.show()"
   ]
  },
  {
   "cell_type": "code",
   "execution_count": null,
   "metadata": {},
   "outputs": [],
   "source": [
    "plt.imshow(skimage.exposure.equalize_adapthist(stp_a_d))\n",
    "plt.gca().add_artist(ScaleBar(Data['Voxelsize'].iloc[-1],'um'))\n",
    "# label_image(stp_a_d,'N')\n",
    "plt.axis('off')\n",
    "plt.savefig(os.path.join(OutPutDir, 'Fig03.panels', 'Fig03.N.png'),\n",
    "            bbox_inches='tight')\n",
    "plt.savefig(os.path.join('/home/habi/research-storage-djonov/Aaldijk/PelvicFloor/Pelvis-Manuscript/Figures', 'Fig03.panels', 'Fig03.N.png'),\n",
    "            bbox_inches='tight')\n",
    "plt.show()"
   ]
  },
  {
   "cell_type": "code",
   "execution_count": null,
   "metadata": {},
   "outputs": [],
   "source": [
    "markregion(stp_b, coordinates_stp_b, width, height)\n",
    "plt.gca().add_artist(ScaleBar(Data['Voxelsize'].iloc[-1],'um'))\n",
    "# label_image(stp_b,'O')\n",
    "plt.axis('off')\n",
    "plt.savefig(os.path.join(OutPutDir, 'Fig03.panels', 'Fig03.O.png'),\n",
    "            bbox_inches='tight')\n",
    "plt.savefig(os.path.join('/home/habi/research-storage-djonov/Aaldijk/PelvicFloor/Pelvis-Manuscript/Figures', 'Fig03.panels', 'Fig03.O.png'),\n",
    "            bbox_inches='tight')\n",
    "plt.show()"
   ]
  },
  {
   "cell_type": "code",
   "execution_count": null,
   "metadata": {},
   "outputs": [],
   "source": [
    "plt.imshow(skimage.exposure.equalize_adapthist(stp_b_d))\n",
    "plt.gca().add_artist(ScaleBar(Data['Voxelsize'].iloc[-1],'um'))\n",
    "# label_image(stp_b_d,'P')\n",
    "plt.axis('off')\n",
    "plt.savefig(os.path.join(OutPutDir, 'Fig03.panels', 'Fig03.P.png'),\n",
    "            bbox_inches='tight')\n",
    "plt.savefig(os.path.join('/home/habi/research-storage-djonov/Aaldijk/PelvicFloor/Pelvis-Manuscript/Figures', 'Fig03.panels', 'Fig03.P.png'),\n",
    "            bbox_inches='tight')\n",
    "plt.show()"
   ]
  },
  {
   "cell_type": "code",
   "execution_count": null,
   "metadata": {
    "tags": []
   },
   "outputs": [],
   "source": [
    "print('Saved all figures to %s' % OutPutDir)"
   ]
  },
  {
   "cell_type": "code",
   "execution_count": null,
   "metadata": {},
   "outputs": [],
   "source": []
  }
 ],
 "metadata": {
  "kernelspec": {
   "display_name": "Python 3 (ipykernel)",
   "language": "python",
   "name": "python3"
  },
  "language_info": {
   "codemirror_mode": {
    "name": "ipython",
    "version": 3
   },
   "file_extension": ".py",
   "mimetype": "text/x-python",
   "name": "python",
   "nbconvert_exporter": "python",
   "pygments_lexer": "ipython3",
   "version": "3.10.13"
  }
 },
 "nbformat": 4,
 "nbformat_minor": 4
}
