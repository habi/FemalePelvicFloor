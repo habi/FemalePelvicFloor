{
 "cells": [
  {
   "cell_type": "markdown",
   "metadata": {},
   "source": [
    "# Generate the figures for the manuscript"
   ]
  },
  {
   "cell_type": "code",
   "execution_count": null,
   "metadata": {
    "tags": []
   },
   "outputs": [],
   "source": [
    "import platform\n",
    "import os\n",
    "import glob\n",
    "import pandas\n",
    "import dask\n",
    "from dask.distributed import Client, LocalCluster\n",
    "import dask_image.imread\n",
    "import matplotlib.pyplot as plt\n",
    "from matplotlib_scalebar.scalebar import ScaleBar\n",
    "from matplotlib.gridspec import GridSpec\n",
    "import seaborn\n",
    "import numpy\n",
    "from tqdm.auto import tqdm, trange\n",
    "import imageio\n",
    "import skimage"
   ]
  },
  {
   "cell_type": "code",
   "execution_count": null,
   "metadata": {
    "tags": []
   },
   "outputs": [],
   "source": [
    "# Import our own parsing functions which we've added as submodule\n",
    "from BrukerSkyScanLogfileRuminator.parsing_functions import *"
   ]
  },
  {
   "cell_type": "code",
   "execution_count": null,
   "metadata": {
    "tags": []
   },
   "outputs": [],
   "source": [
    "# Set dask temporary folder\n",
    "# Do this before creating a client: https://stackoverflow.com/a/62804525/323100\n",
    "import tempfile\n",
    "if 'Linux' in platform.system():\n",
    "    tmp = os.path.join(os.sep, 'media', 'habi', 'Fast_SSD')\n",
    "elif 'Darwin' in platform.system():\n",
    "    tmp = tempfile.gettempdir()\n",
    "else:\n",
    "    if 'anaklin' in platform.node():\n",
    "        tmp = os.path.join('F:\\\\')\n",
    "    else:\n",
    "        tmp = os.path.join('D:\\\\')\n",
    "dask.config.set({'temporary_directory': os.path.join(tmp, 'tmp')})\n",
    "print('Dask temporary files go to %s' % dask.config.get('temporary_directory'))"
   ]
  },
  {
   "cell_type": "code",
   "execution_count": null,
   "metadata": {
    "tags": []
   },
   "outputs": [],
   "source": [
    "# Start cluster and client now, after setting tempdir\n",
    "try:\n",
    "    cluster = LocalCluster()\n",
    "except PermissionError:\n",
    "    print('Mount the Fast_SSD, otherwise we cannot use it for saving the temporary files!')\n",
    "    print('Then rerun this cell.')\n",
    "client = Client(cluster)"
   ]
  },
  {
   "cell_type": "code",
   "execution_count": null,
   "metadata": {
    "tags": []
   },
   "outputs": [],
   "source": [
    "print('You can seee what DASK is doing at \"http://localhost:%s/status\"' % client.scheduler_info()['services']['dashboard'])"
   ]
  },
  {
   "cell_type": "code",
   "execution_count": null,
   "metadata": {
    "tags": []
   },
   "outputs": [],
   "source": [
    "# # Ignore warnings in the notebook\n",
    "# import warnings\n",
    "# warnings.filterwarnings(\"ignore\")"
   ]
  },
  {
   "cell_type": "code",
   "execution_count": null,
   "metadata": {
    "tags": []
   },
   "outputs": [],
   "source": [
    "# Set up figure defaults\n",
    "plt.rc('image', cmap='gray', interpolation='nearest')  # Display all images in b&w and with 'nearest' interpolation\n",
    "plt.rcParams['figure.figsize'] = (16, 9)  # Size up figures a bit\n",
    "plt.rcParams['figure.dpi'] = 300"
   ]
  },
  {
   "cell_type": "code",
   "execution_count": null,
   "metadata": {
    "tags": []
   },
   "outputs": [],
   "source": [
    "# Setup scale bar defaults\n",
    "plt.rcParams['scalebar.location'] = 'lower right'\n",
    "plt.rcParams['scalebar.frameon'] = False\n",
    "plt.rcParams['scalebar.color'] = 'white'"
   ]
  },
  {
   "cell_type": "code",
   "execution_count": null,
   "metadata": {},
   "outputs": [],
   "source": [
    "# Set seaborn context\n",
    "# context: one of {paper, notebook, talk, poster}\n",
    "seaborn.set_context('paper')"
   ]
  },
  {
   "cell_type": "code",
   "execution_count": null,
   "metadata": {
    "tags": []
   },
   "outputs": [],
   "source": [
    "# Different locations if running either on Linux or Windows\n",
    "FastSSD = True\n",
    "# to speed things up significantly\n",
    "if 'Linux' in platform.system():\n",
    "    if FastSSD:\n",
    "        BasePath = os.path.join(os.sep, 'media', 'habi', 'Fast_SSD')\n",
    "    else:\n",
    "        BasePath = os.path.join(os.sep, 'home', 'habi', 'research-storage-djonov')\n",
    "elif 'Darwin' in platform.system():\n",
    "    # First mount smb://resstore.unibe.ch/ana_rs_djonov/data in the Finder\n",
    "    FastSSD = False\n",
    "    BasePath = os.path.join('/Volumes/data/')\n",
    "elif 'Windows' in platform.system():\n",
    "    if FastSSD:\n",
    "        BasePath = os.path.join('F:\\\\')\n",
    "    else:\n",
    "        if 'anaklin' in platform.node():\n",
    "            BasePath = os.path.join('V:\\\\')\n",
    "        else:\n",
    "            BasePath = os.path.join('V:\\\\')\n",
    "Root = os.path.join(BasePath, 'Aaldijk')\n",
    "print('We are loading all the data from %s' % Root)"
   ]
  },
  {
   "cell_type": "code",
   "execution_count": null,
   "metadata": {
    "tags": []
   },
   "outputs": [],
   "source": [
    "def get_git_hash():\n",
    "    '''\n",
    "    Get the current git hash from the repository.\n",
    "    Based on http://stackoverflow.com/a/949391/323100 and\n",
    "    http://stackoverflow.com/a/18283905/323100\n",
    "    '''\n",
    "    from subprocess import Popen, PIPE\n",
    "    import os\n",
    "    gitprocess = Popen(['git',\n",
    "                        '--git-dir',\n",
    "                        os.path.join(os.getcwd(), '.git'),\n",
    "                        'rev-parse',\n",
    "                        '--short',\n",
    "                        '--verify',\n",
    "                        'HEAD'],\n",
    "                       stdout=PIPE)\n",
    "    (output, _) = gitprocess.communicate()\n",
    "    return output.strip().decode(\"utf-8\")"
   ]
  },
  {
   "cell_type": "code",
   "execution_count": null,
   "metadata": {
    "tags": []
   },
   "outputs": [],
   "source": [
    "# Make directory for output\n",
    "OutPutDir = os.path.join(os.getcwd(), 'Output', get_git_hash())\n",
    "print('We are saving all the output to %s' % OutPutDir)\n",
    "os.makedirs(OutPutDir, exist_ok=True)"
   ]
  },
  {
   "cell_type": "code",
   "execution_count": null,
   "metadata": {
    "tags": []
   },
   "outputs": [],
   "source": [
    "# Make us a dataframe for saving all that we need\n",
    "Data = pandas.DataFrame()"
   ]
  },
  {
   "cell_type": "code",
   "execution_count": null,
   "metadata": {
    "tags": []
   },
   "outputs": [],
   "source": [
    "# Get *all* log files, unsorted but faster than with glob\n",
    "print('Searching for all log files in %s' % Root)\n",
    "Data['LogFile'] = [os.path.join(root, name)\n",
    "                   for root, dirs, files in os.walk(Root)\n",
    "                   for name in files\n",
    "                   if name.endswith((\".log\"))]"
   ]
  },
  {
   "cell_type": "code",
   "execution_count": null,
   "metadata": {
    "tags": []
   },
   "outputs": [],
   "source": [
    "# Drop all non-mouse scans\n",
    "for c, row in Data.iterrows():\n",
    "    if 'Foetus02' not in row.LogFile:\n",
    "        Data.drop([c], inplace=True)\n",
    "Data.reset_index(inplace=True)"
   ]
  },
  {
   "cell_type": "code",
   "execution_count": null,
   "metadata": {
    "tags": []
   },
   "outputs": [],
   "source": [
    "# Get all folders\n",
    "Data['Folder'] = [os.path.dirname(f) for f in Data['LogFile']]"
   ]
  },
  {
   "cell_type": "code",
   "execution_count": null,
   "metadata": {
    "tags": []
   },
   "outputs": [],
   "source": [
    "# Get rid of all logfiles that we don't want and need\n",
    "for c, row in Data.iterrows():\n",
    "    if 'rec' not in row.Folder:  # drop all non-rec folders\n",
    "        Data.drop([c], inplace=True)\n",
    "    elif 'SubScan' in row.Folder:  # drop all partial reconstructions which might be there from synchronization\n",
    "        Data.drop([c], inplace=True)        \n",
    "    elif 'rectmp.log' in row.LogFile:  # drop all temporary logfiles\n",
    "        Data.drop([c], inplace=True)\n",
    "# Reset dataframe to something that we would get if we only would have loaded the 'rec' files\n",
    "Data = Data.reset_index(drop=True)"
   ]
  },
  {
   "cell_type": "code",
   "execution_count": null,
   "metadata": {
    "tags": []
   },
   "outputs": [],
   "source": [
    "# Generate us some meaningful colums\n",
    "Data['Sample'] = [l[len(Root)+1:].split(os.sep)[0] for l in Data['LogFile']]\n",
    "Data['SampleName'] = [sn.split('_')[0] for sn in Data['Sample']]\n",
    "Data['Scan'] = ['_'.join(l[len(Root)+1:].split(os.sep)[1:-1]) for l in Data['LogFile']]"
   ]
  },
  {
   "cell_type": "code",
   "execution_count": null,
   "metadata": {
    "tags": []
   },
   "outputs": [],
   "source": [
    "# Get the file names of the reconstructions\n",
    "Data['Reconstructions'] = [sorted(glob.glob(os.path.join(f, '*rec0*.png'))) for f in Data['Folder']]\n",
    "Data['Number of reconstructions'] = [len(r) for r in Data.Reconstructions]"
   ]
  },
  {
   "cell_type": "code",
   "execution_count": null,
   "metadata": {
    "tags": []
   },
   "outputs": [],
   "source": [
    "# Drop samples which have either not been reconstructed yet or of which we deleted the reconstructions with\n",
    "# `find . -name \"*rec*.png\" -type f -mtime +333 -delete`\n",
    "# Based on https://stackoverflow.com/a/13851602\n",
    "# for c,row in Data.iterrows():\n",
    "#     if not row['Number of reconstructions']:\n",
    "#         print('%s contains no PNG files, we might be currently reconstructing it' % row.Folder)\n",
    "Data = Data[Data['Number of reconstructions'] > 0]\n",
    "Data.reset_index(drop=True, inplace=True)\n",
    "print('We have %s folders with reconstructions' % (len(Data)))"
   ]
  },
  {
   "cell_type": "code",
   "execution_count": null,
   "metadata": {
    "tags": []
   },
   "outputs": [],
   "source": [
    "# Get scanning parameters to doublecheck from logfiles\n",
    "Data['Scanner'] = [scanner(log) for log in Data['LogFile']]\n",
    "Data['Voltage'] = [voltage(log) for log in Data['LogFile']]\n",
    "Data['Current'] = [current(log) for log in Data['LogFile']]\n",
    "Data['Voxelsize'] = [pixelsize(log, rounded=True) for log in Data['LogFile']]\n",
    "Data['CameraWindow'] = [projection_size(log) for log in Data['LogFile']]\n",
    "Data['Exposuretime'] = [exposuretime(log) for log in Data['LogFile']]\n",
    "Data['Averaging'] = [averaging(log) for log in Data['LogFile']]\n",
    "Data['Stacks'] = [stacks(log) for log in Data['LogFile']]\n",
    "Data['RotationStep'] = [rotationstep(log) for log in Data['LogFile']]\n",
    "Data['Scan date'] = [scandate(log) for log in Data['LogFile']]\n",
    "Data['Scan time'] = [duration(log) for log in Data['LogFile']]"
   ]
  },
  {
   "cell_type": "code",
   "execution_count": null,
   "metadata": {
    "tags": []
   },
   "outputs": [],
   "source": [
    "# Sort our dataframe by scan date\n",
    "Data.sort_values(by='Scan date', inplace=True, ignore_index=True)"
   ]
  },
  {
   "cell_type": "code",
   "execution_count": null,
   "metadata": {
    "tags": []
   },
   "outputs": [],
   "source": [
    "# Get reconstruction parameters to doublecheck from logfiles\n",
    "Data['Grayvalue'] = [reconstruction_grayvalue(log) for log in Data['LogFile']]\n",
    "Data['RingartefactCorrection'] = [ringremoval(log) for log in Data['LogFile']]\n",
    "Data['BeamHardeningCorrection'] = [beamhardening(log) for log in Data['LogFile']]\n",
    "Data['DefectPixelMasking'] = [defectpixelmasking(log) for log in Data['LogFile']]\n",
    "Data['ROI'] = [region_of_interest(log) for log in Data['LogFile']]\n",
    "Data['Rot'] = [crosssection_rotation(l) for l in Data.LogFile]"
   ]
  },
  {
   "cell_type": "code",
   "execution_count": null,
   "metadata": {
    "tags": []
   },
   "outputs": [],
   "source": [
    "# Calculate time 'spent' since start\n",
    "Data['Time passed'] = [sd - Data['Scan date'].min() for sd in Data['Scan date']]\n",
    "# Also extract days, rounded\n",
    "Data['Days passed'] = [t.round('d') for t in Data['Time passed']]"
   ]
  },
  {
   "cell_type": "code",
   "execution_count": null,
   "metadata": {
    "tags": []
   },
   "outputs": [],
   "source": [
    "# Load all reconstructions into ephemereal DASK arrays\n",
    "Reconstructions = [None] * len(Data)\n",
    "for c, row in tqdm(Data.iterrows(),\n",
    "                   desc='Load reconstructions',\n",
    "                   total=len(Data)):\n",
    "    Reconstructions[c] = dask_image.imread.imread(os.path.join(row['Folder'],\n",
    "                                                               '*rec*.png'))"
   ]
  },
  {
   "cell_type": "code",
   "execution_count": null,
   "metadata": {
    "tags": []
   },
   "outputs": [],
   "source": [
    "# How big are the datasets?\n",
    "Data['Size'] = [rec.shape for rec in Reconstructions]"
   ]
  },
  {
   "cell_type": "code",
   "execution_count": null,
   "metadata": {},
   "outputs": [],
   "source": [
    "# Calculate mean brightness of the reconstructions\n",
    "# Subsample for speed reasons\n",
    "subsample = 11\n",
    "Data['MeanBrightness'] = [rec[::subsample,::subsample,::subsample].mean().compute() for rec in Reconstructions]"
   ]
  },
  {
   "cell_type": "code",
   "execution_count": null,
   "metadata": {
    "tags": []
   },
   "outputs": [],
   "source": [
    "Data[['Sample', 'Scan', 'Size', 'ROI', 'Days passed', 'Grayvalue', 'RingartefactCorrection', 'BeamHardeningCorrection', 'DefectPixelMasking', 'Rot', 'Grayvalue']]"
   ]
  },
  {
   "cell_type": "markdown",
   "metadata": {},
   "source": [
    "Define us some helper functions for generating the figures."
   ]
  },
  {
   "cell_type": "code",
   "execution_count": null,
   "metadata": {},
   "outputs": [],
   "source": [
    "# Adapted from AcinarSize_Johannes/MicroscopyFigure.ipynb\n",
    "def label_image(image, labeltext, x=None, y=None, color='white', boxcolor=None):\n",
    "    '''We have to print a label over the image several times'''\n",
    "    # If we didn't set coordinates, then use defaults\n",
    "    if not x:\n",
    "        x=numpy.shape(image)[1] * 0.0309\n",
    "    if not y:\n",
    "        y=numpy.shape(image)[0] - (numpy.shape(image)[0] * 0.0309)\n",
    "    t = plt.gca().text(x,\n",
    "                       y,\n",
    "                       labeltext,\n",
    "                       color=color,\n",
    "                       fontsize=12,\n",
    "                       verticalalignment='center',\n",
    "                       horizontalalignment='center')\n",
    "    if boxcolor is not None:\n",
    "        t.set_bbox(dict(facecolor=boxcolor,\n",
    "                        edgecolor=boxcolor,\n",
    "                        alpha=0.618))\n",
    "    return"
   ]
  },
  {
   "cell_type": "code",
   "execution_count": null,
   "metadata": {},
   "outputs": [],
   "source": [
    "def markregion(image, coordinates, width, height, showimage=True):\n",
    "    \"\"\"Mark a rectancular region in an image\"\"\"\n",
    "    from matplotlib.patches import Rectangle\n",
    "    if showimage:\n",
    "        plt.imshow(image)    \n",
    "    # Mark center\n",
    "    plt.scatter(coordinates[0], coordinates[1], color=seaborn.color_palette()[0], marker='x')\n",
    "    # Draw rectangle\n",
    "    plt.gca().add_patch(Rectangle((coordinates[0] - width / 2, coordinates[1] - height / 2), width, height,\n",
    "                                  # edgecolor=seaborn.color_palette()[0],\n",
    "                                  edgecolor='white',\n",
    "                                  linestyle='--',\n",
    "                                  facecolor='none'))\n",
    "    return()"
   ]
  },
  {
   "cell_type": "code",
   "execution_count": null,
   "metadata": {},
   "outputs": [],
   "source": [
    "def extract_directional_slice(stack, direction, coordinates, verbose=False):\n",
    "    if verbose:\n",
    "        print('The input stack has a size of %s x %s x %s px' % (stack.shape[0],\n",
    "                                                                 stack.shape[1],\n",
    "                                                                 stack.shape[2]))\n",
    "    if direction == 0:       \n",
    "        if verbose:\n",
    "            print('Extracting YZ slice %s of %s' % (coordinates[0], stack.shape[2]))\n",
    "            print('Marking y=%s' % coordinates[1])\n",
    "            print('Marking z=%s' % coordinates[2])                   \n",
    "        # Flip the extracted YZ slice, to be consistent with the OrthoViewer of ImageJ\n",
    "        extractedslice = dask.array.fliplr(stack[:,:,coordinates[0]])\n",
    "    elif direction == 1:\n",
    "        if verbose:\n",
    "            print('Extracting XZ slice %s of %s' % (coordinates[1], stack.shape[1]))\n",
    "            print('Marking x=%s' % coordinates[0])\n",
    "            print('Marking z=%s' % coordinates[2])            \n",
    "        extractedslice = stack[:,coordinates[1],:]\n",
    "    elif direction == 2:\n",
    "        if verbose:\n",
    "            print('Extracting Z slice %s of %s' % (coordinates[2], stack.shape[0]))\n",
    "            print('Marking x=%s' % coordinates[0])\n",
    "            print('Marking y=%s' % coordinates[1])\n",
    "        extractedslice = stack[coordinates[2],:,:]\n",
    "    if verbose:\n",
    "        plt.imshow(extractedslice)\n",
    "        if direction == 0:\n",
    "            plt.axhline(coordinates[2], c=seaborn.color_palette()[1])\n",
    "            plt.axvline(coordinates[1], c=seaborn.color_palette()[0])\n",
    "            plt.title('YZ (dir %s): coords: %s' % (direction, coordinates))            \n",
    "        elif direction == 1:\n",
    "            plt.axhline(coordinates[2], c=seaborn.color_palette()[2])\n",
    "            plt.axvline(coordinates[0], c=seaborn.color_palette()[1])\n",
    "            plt.title('XZ (dir %s): coords: %s' % (direction, coordinates))                        \n",
    "        elif direction == 2:\n",
    "            plt.axhline(coordinates[1], c=seaborn.color_palette()[0])\n",
    "            plt.axvline(coordinates[0], c=seaborn.color_palette()[2])       \n",
    "            plt.title('Slice %s: coords: %s' % (coordinates[2], coordinates))                                \n",
    "        # plt.show()\n",
    "    return(extractedslice)"
   ]
  },
  {
   "cell_type": "code",
   "execution_count": null,
   "metadata": {},
   "outputs": [],
   "source": [
    "# Test extraction script\n",
    "plt.figure(11)\n",
    "for direction in range(3):\n",
    "    plt.subplot(1,3,direction+1)\n",
    "    # Coordinates are of left blood vessel on slice 2434 on 11um stack of d152, as shown in OrthoViewer of ImageJ\n",
    "    extract_directional_slice(Reconstructions[15],\n",
    "                              direction,\n",
    "                              (1344,2026,2434),\n",
    "                              verbose=True)\n",
    "plt.show()"
   ]
  },
  {
   "cell_type": "code",
   "execution_count": null,
   "metadata": {},
   "outputs": [],
   "source": [
    "def extract_roi(stack, coordinates, width=None, height=None, verbose=False):\n",
    "    \"\"\"Get a (small) region from an input stack\"\"\"\n",
    "    extract=stack[coordinates[2]][coordinates[1] - int(height/2):coordinates[1] + int(height/2),\n",
    "                                  coordinates[0] - int(width/2):coordinates[0]+int(width/2)]\n",
    "    if verbose:\n",
    "        plt.figure(11)\n",
    "        plt.subplot(121)\n",
    "        # plt.imshow(stack[coordinates[2]])\n",
    "        # show region mark\n",
    "        markregion(stack[coordinates[2]], coordinates, width, height, showimage=True)\n",
    "        plt.title('Slice %s of input stack\\n'\n",
    "                  'Centered at x=%s and y=%s' % (coordinates[2], coordinates[0], coordinates[1]))\n",
    "        plt.subplot(122)\n",
    "        plt.imshow(extract)\n",
    "        plt.title('Extract\\n'\n",
    "                 '%s x %s px' % (extract.shape[0], extract.shape[1]))\n",
    "        plt.show()\n",
    "    return(extract)"
   ]
  },
  {
   "cell_type": "code",
   "execution_count": null,
   "metadata": {},
   "outputs": [],
   "source": [
    "# Test ROI extraction\n",
    "extract_roi(Reconstructions[0],\n",
    "        (800, 900, 1634),\n",
    "        width=1200, height=750,\n",
    "        verbose=True)"
   ]
  },
  {
   "cell_type": "code",
   "execution_count": null,
   "metadata": {},
   "outputs": [],
   "source": [
    "Data.Grayvalue"
   ]
  },
  {
   "cell_type": "markdown",
   "metadata": {},
   "source": [
    "----\n",
    "# Figure 1\n",
    "\n",
    "We want to show a figure with the gray value curve along the timeframe we stained and scanned.\n",
    "In addition some representative slices of a dataset at the start, middle and end of the duration.\n",
    "And some detailed view of marked regions in these slices."
   ]
  },
  {
   "cell_type": "code",
   "execution_count": null,
   "metadata": {},
   "outputs": [],
   "source": [
    "# Automatically find the one day closest to the middle of the duration.\n",
    "# https://stackoverflow.com/a/30112305/323100\n",
    "middleone = Data.index[(Data['Days passed'] - Data['Days passed'].mean()).abs().argsort()[:1]][0]\n",
    "Data.loc[middleone][['Sample', 'Scan', 'Voxelsize']]"
   ]
  },
  {
   "cell_type": "code",
   "execution_count": null,
   "metadata": {},
   "outputs": [],
   "source": [
    "# Put coordinates we want to show for this figure into dataframe\n",
    "Data['Coordinates'] = ''\n",
    "Data.at[0, 'Coordinates'] = [800, 900, 1634]\n",
    "Data.at[middleone, 'Coordinates'] = [800, 900, 1634]\n",
    "Data.at[len(Data)-1, 'Coordinates'] = [1000, 1500, 2614]"
   ]
  },
  {
   "cell_type": "code",
   "execution_count": null,
   "metadata": {},
   "outputs": [],
   "source": [
    "Data[['Sample', 'Scan', 'Voxelsize', 'Coordinates']]"
   ]
  },
  {
   "cell_type": "code",
   "execution_count": null,
   "metadata": {},
   "outputs": [],
   "source": [
    "# Recalculate voxel size scaling (for showing both 20 um and 11 um scans)\n",
    "11.0/20.0"
   ]
  },
  {
   "cell_type": "code",
   "execution_count": null,
   "metadata": {},
   "outputs": [],
   "source": [
    "# Extract relevant regions from relevant images\n",
    "width = 1000\n",
    "height = 750\n",
    "detail_start = extract_roi(Reconstructions[0],\n",
    "                           Data['Coordinates'][0],\n",
    "                           width=width, height=height, verbose=True)\n",
    "detail_mid = extract_roi(Reconstructions[middleone],\n",
    "                         Data['Coordinates'][middleone],\n",
    "                         width=width, height=height, verbose=True)\n",
    "# Scale width/height with voxel size difference (11/20 um)\n",
    "detail_end = extract_roi(Reconstructions[-1],\n",
    "                         Data['Coordinates'].iloc[-1], width=width/.55, height=height/.55, verbose=True)"
   ]
  },
  {
   "cell_type": "code",
   "execution_count": null,
   "metadata": {},
   "outputs": [],
   "source": [
    "# Plot the mean brightness of the scan with their dates\n",
    "seaborn.scatterplot(data=Data,\n",
    "                    x='Scan date',\n",
    "                    y='MeanBrightness',\n",
    "                    # size='MeanBrightness'\n",
    "                   )\n",
    "# Label text: https://matplotlib.org/stable/tutorials/text/annotations.html\n",
    "for c,row in Data.iterrows():\n",
    "    plt.gca().annotate(row.Sample.replace('Foetus01', 'F1').replace('_Lugol','').replace('_05pct','').replace('_10pct','').replace('_15pct',''),\n",
    "                       xy=(row['Scan date'], row.MeanBrightness),\n",
    "                       xycoords='data',\n",
    "                       xytext=(-3, -75),\n",
    "                       textcoords='offset points',\n",
    "                       ha='left',\n",
    "                       rotation=-60)\n",
    "plt.ylim(ymin=0)\n",
    "plt.title('Average gray value of the %s-times subsampled reconstructions' % subsample)\n",
    "plt.show()"
   ]
  },
  {
   "cell_type": "code",
   "execution_count": null,
   "metadata": {},
   "outputs": [],
   "source": [
    "# Collate figure 1\n",
    "fig=plt.figure(1)\n",
    "plt.subplot(311)\n",
    "# Plot the mean brightness of the scan with their dates\n",
    "seaborn.lineplot(data=Data,\n",
    "                 x='Scan date',\n",
    "                 y='MeanBrightness',\n",
    "                 # size='MeanBrightness'\n",
    "                   )\n",
    "seaborn.scatterplot(data=Data,\n",
    "                 x='Scan date',\n",
    "                 y='MeanBrightness',\n",
    "                 # size='MeanBrightness'\n",
    "                   )\n",
    "# Label text: https://matplotlib.org/stable/tutorials/text/annotations.html\n",
    "for c,row in Data.iterrows():\n",
    "    plt.gca().annotate(row.Sample.replace('Foetus01', 'F1').replace('_Lugol','').replace('_05pct','').replace('_10pct','').replace('_15pct',''),\n",
    "                       xy=(row['Scan date'], row.MeanBrightness),\n",
    "                       xycoords='data',\n",
    "                       xytext=(-3, -75),\n",
    "                       textcoords='offset points',\n",
    "                       ha='left',\n",
    "                       rotation=-60)\n",
    "from string import ascii_uppercase    \n",
    "for c, i in enumerate([0, middleone, len(Data)-1]):\n",
    "    plt.gca().annotate('%s/%s' % (ascii_uppercase[c+1],ascii_uppercase[c+1+3]),\n",
    "                       xy = (Data['Scan date'][i], Data['MeanBrightness'][i]),\n",
    "                       xycoords='data',\n",
    "                       color='red')\n",
    "plt.ylim(ymin=0)\n",
    "plt.title('Average gray value of the %s-times subsampled reconstructions' % subsample)\n",
    "\n",
    "plt.subplot(334)\n",
    "markregion(Reconstructions[0][Data['Coordinates'][0][2]], \n",
    "           Data['Coordinates'][0], width, height)\n",
    "plt.gca().add_artist(ScaleBar(Data['Voxelsize'][0],'um'))\n",
    "label_image(Reconstructions[0][Data['Coordinates'][0][2]], 'B')\n",
    "plt.axis('off')\n",
    "\n",
    "plt.subplot(335)\n",
    "markregion(Reconstructions[middleone][Data['Coordinates'][middleone][2]],\n",
    "           Data['Coordinates'][middleone], width, height)\n",
    "plt.gca().add_artist(ScaleBar(Data['Voxelsize'][middleone],'um'))\n",
    "label_image(Reconstructions[middleone][Data['Coordinates'][middleone][2]], 'C')\n",
    "plt.axis('off')\n",
    "\n",
    "plt.subplot(336)\n",
    "markregion(Reconstructions[-1][Data['Coordinates'].iloc[-1][2]],\n",
    "           Data['Coordinates'].iloc[-1],\n",
    "           width=width/.55, height=height/.55)\n",
    "           \n",
    "plt.gca().add_artist(ScaleBar(Data['Voxelsize'].iloc[-1],'um'))\n",
    "label_image(Reconstructions[-1][Data['Coordinates'].iloc[-1][2]], 'D')\n",
    "plt.axis('off')\n",
    "\n",
    "plt.subplot(337)\n",
    "plt.imshow(detail_start)\n",
    "plt.gca().add_artist(ScaleBar(Data['Voxelsize'][0],'um'))\n",
    "label_image(detail_start, 'E')\n",
    "plt.axis('off')\n",
    "\n",
    "plt.subplot(338)\n",
    "plt.imshow(detail_mid)\n",
    "plt.gca().add_artist(ScaleBar(Data['Voxelsize'][middleone],'um'))\n",
    "label_image(detail_mid, 'F')\n",
    "plt.axis('off')\n",
    "\n",
    "plt.subplot(339)\n",
    "plt.imshow(detail_end)\n",
    "plt.gca().add_artist(ScaleBar(Data['Voxelsize'].iloc[-1],'um'))\n",
    "label_image(detail_end, 'G')\n",
    "plt.axis('off')\n",
    "fig.supxlabel('Fig. 1: A) Detail of a native scan of the human foetal pelvis, the ossification centres of the iliac bone (bottom) and two ossification centres of the sacrum (top left and right) can be seen.'\n",
    "              'The soft tissue is not distinguishable.'\n",
    "              'B) The same detail after 158 days of Lugol immersion.'\n",
    "              'Besides the bony structures, now the cartilage, muscles, blood vessels and connective tissue can be distinguished.',\n",
    "              wrap=True)\n",
    "plt.savefig(os.path.join(OutPutDir, 'Fig01.png'),\n",
    "            bbox_inches='tight')\n",
    "plt.show()"
   ]
  },
  {
   "cell_type": "markdown",
   "metadata": {},
   "source": [
    "----\n",
    "# Figure 2"
   ]
  },
  {
   "cell_type": "markdown",
   "metadata": {},
   "source": [
    "Koordinaten (in 11um stack 152d)\n",
    "\n",
    "A) x: 2249, y: 1075, z:819 --> war gedreht, jetzt 1936,2218,819\n",
    "\n",
    "B) x:2223 y: 1308 z:2527 --> war gedreht, jetzt 2230,2093,2527\n",
    "\n",
    "C) x: 1939, y: 1063, z: 819 --> war gedreht, jetzt 2061,1878,819"
   ]
  },
  {
   "cell_type": "code",
   "execution_count": null,
   "metadata": {},
   "outputs": [],
   "source": [
    "# Collect figure 2\n",
    "plt.figure(2)\n",
    "plt.subplot(231)\n",
    "markregion(Reconstructions[-1][819], \n",
    "           (1936, 2218, 819), 500, 500)\n",
    "plt.gca().add_artist(ScaleBar(Data['Voxelsize'].iloc[-1],'um'))\n",
    "label_image(Reconstructions[-1][819], 'A')\n",
    "plt.axis('off')\n",
    "plt.subplot(232)\n",
    "markregion(Reconstructions[-1][2527], \n",
    "           (2048, 2180, 2527), 700, 700)\n",
    "plt.gca().add_artist(ScaleBar(Data['Voxelsize'].iloc[-1],'um'))\n",
    "label_image(Reconstructions[-1][819], 'B')\n",
    "plt.axis('off')\n",
    "plt.subplot(233)\n",
    "markregion(Reconstructions[-1][819], \n",
    "           (2061, 1878, 819), 500, 500)\n",
    "plt.gca().add_artist(ScaleBar(Data['Voxelsize'].iloc[-1],'um'))\n",
    "label_image(Reconstructions[-1][819], 'C')\n",
    "plt.axis('off')\n",
    "#---\n",
    "plt.subplot(234)\n",
    "plt.imshow(skimage.exposure.equalize_adapthist(extract_roi(Reconstructions[-1],\n",
    "                                                           (1936, 2218, 819), 500, 500)))\n",
    "plt.gca().add_artist(ScaleBar(Data['Voxelsize'].iloc[-1],'um'))\n",
    "label_image(extract_roi(Reconstructions[-1],\n",
    "                        (1936, 2218, 819), 500, 500),\n",
    "            'D')\n",
    "plt.axis('off')\n",
    "plt.subplot(235)\n",
    "plt.imshow(skimage.exposure.equalize_adapthist(extract_roi(Reconstructions[-1],\n",
    "                                                           (2048, 2180, 2527), 700, 700)))\n",
    "plt.gca().add_artist(ScaleBar(Data['Voxelsize'].iloc[-1],'um'))\n",
    "label_image(extract_roi(Reconstructions[-1],\n",
    "                        (2048, 2180, 2527), 700, 700),\n",
    "            'E')\n",
    "plt.axis('off')\n",
    "plt.subplot(236)\n",
    "plt.imshow(skimage.exposure.equalize_adapthist(extract_roi(Reconstructions[-1],\n",
    "                                                           (2061, 1878, 819), 500, 500)))\n",
    "plt.gca().add_artist(ScaleBar(Data['Voxelsize'].iloc[-1],'um'))\n",
    "label_image(extract_roi(Reconstructions[-1],\n",
    "                        (2061, 1878, 819), 500, 500),\n",
    "            'F')\n",
    "plt.axis('off')\n",
    "plt.tight_layout(pad=0.1)\n",
    "fig.supxlabel('Fig. 2: Details of different anatomical structures in the human pelvis, seen after 158 days of Lugol immersion.'\n",
    "              'A) Greater vestibular glands on both sides of the vulvar vestibule.'\n",
    "              'B) Uterus (bottom of the image) and several cuts through the left fallopian tube, parts of the ovary are also visible.'\n",
    "              'C) Muscle layers of the distal rectum with circular and longitudinally oriented muscle fibre bundles.') \n",
    "plt.savefig(os.path.join(OutPutDir, 'Fig02.png'),\n",
    "            bbox_inches='tight')\n",
    "plt.show()"
   ]
  },
  {
   "cell_type": "markdown",
   "metadata": {},
   "source": [
    "----\n",
    "# Figure 3"
   ]
  },
  {
   "cell_type": "markdown",
   "metadata": {},
   "source": [
    "Koordinaten: neu, im rotierten 11um stack 152 days \n",
    "\n",
    "Bulbospongiosus (+ ischiocavernosus) \n",
    "\n",
    "- YZ 1935, x 723, y 842 --> 1935,723,842\n",
    "- XZ 2229, x 1935, y 722 -> 1935,2229,722\n",
    "\n",
    "Longitudinal rectum muscle \n",
    "\n",
    "- XY (original orientation) slice 789, x 2022, y 1932 \n",
    "- YZ 2022, x 789, y 1139 \n",
    "\n",
    "EAS \n",
    "\n",
    "- YZ 1752, x 489, y 1442 \n",
    "- XZ 1629, x 1752, y 488 \n",
    "\n",
    "STP \n",
    "- Slice 651, x 2010, y 1914, z 650 \n",
    "- XZ 1914, x 2010, y 650 "
   ]
  },
  {
   "cell_type": "code",
   "execution_count": null,
   "metadata": {},
   "outputs": [],
   "source": [
    "# Which is which?\n",
    "# Copy from function-definition above\n",
    "    # if direction == 0:\n",
    "    #     plt.title('YZ (dir %s): coords: %s' % (direction, coordinates))            \n",
    "    # elif direction == 1:\n",
    "    #     plt.title('XZ (dir %s): coords: %s' % (direction, coordinates))                        \n",
    "    # elif direction == 2:\n",
    "    #     plt.title('Slice %s: coords: %s' % (coordinates[2], coordinates))                                "
   ]
  },
  {
   "cell_type": "code",
   "execution_count": null,
   "metadata": {},
   "outputs": [],
   "source": [
    "coordinates_bsp_a = (1935,723,842)\n",
    "coordinates_bsp_b = (1935,2229,722)\n",
    "coordinates_lrm_a = (2022,1932,789)\n",
    "coordinates_lrm_b = (2022,1932,789)\n",
    "coordinates_eas_a = (1752,1442,489)\n",
    "coordinates_eas_b = (1752,1629,488)\n",
    "coordinates_stp_a = (2010,1914,650)\n",
    "coordinates_stp_b = (2010,1914,650)"
   ]
  },
  {
   "cell_type": "code",
   "execution_count": null,
   "metadata": {},
   "outputs": [],
   "source": [
    "# Bulbospongiosus\n",
    "bsp_a = extract_directional_slice(Reconstructions[15],\n",
    "                                  0,\n",
    "                                  coordinates_bsp_a,\n",
    "                                  verbose=True).compute()"
   ]
  },
  {
   "cell_type": "code",
   "execution_count": null,
   "metadata": {},
   "outputs": [],
   "source": [
    "# Bulbospongiosus\n",
    "bsp_b = extract_directional_slice(Reconstructions[15],\n",
    "                                  1,\n",
    "                                  coordinates_bsp_b,\n",
    "                                  verbose=True).compute()"
   ]
  },
  {
   "cell_type": "code",
   "execution_count": null,
   "metadata": {},
   "outputs": [],
   "source": [
    "# Longitudinal rectum muscle \n",
    "lrm_a = extract_directional_slice(Reconstructions[15],\n",
    "                                  2,\n",
    "                                  coordinates_lrm_a,\n",
    "                                  verbose=True).compute()"
   ]
  },
  {
   "cell_type": "code",
   "execution_count": null,
   "metadata": {},
   "outputs": [],
   "source": [
    "# Longitudinal rectum muscle \n",
    "lrm_b = extract_directional_slice(Reconstructions[15],\n",
    "                                  1,\n",
    "                                  coordinates_lrm_b,\n",
    "                                  verbose=True).compute()"
   ]
  },
  {
   "cell_type": "code",
   "execution_count": null,
   "metadata": {},
   "outputs": [],
   "source": [
    "# EAS\n",
    "eas_a = extract_directional_slice(Reconstructions[15],\n",
    "                                  0,\n",
    "                                  coordinates_eas_a,\n",
    "                                  verbose=True).compute()"
   ]
  },
  {
   "cell_type": "code",
   "execution_count": null,
   "metadata": {},
   "outputs": [],
   "source": [
    "# EAS\n",
    "eas_b = extract_directional_slice(Reconstructions[15],\n",
    "                                  1,\n",
    "                                  coordinates_eas_b,\n",
    "                                  verbose=True).compute()"
   ]
  },
  {
   "cell_type": "code",
   "execution_count": null,
   "metadata": {},
   "outputs": [],
   "source": [
    "# STP\n",
    "stp_a = extract_directional_slice(Reconstructions[15],\n",
    "                                  2,\n",
    "                                  (2010,1914,650),\n",
    "                                  verbose=True).compute()"
   ]
  },
  {
   "cell_type": "code",
   "execution_count": null,
   "metadata": {},
   "outputs": [],
   "source": [
    "# STP\n",
    "stp_b = extract_directional_slice(Reconstructions[15],\n",
    "                                  1,\n",
    "                                  coordinates_stp_b,\n",
    "                                  verbose=True).compute()"
   ]
  },
  {
   "cell_type": "code",
   "execution_count": null,
   "metadata": {},
   "outputs": [],
   "source": [
    "# Collect figure 3\n",
    "width = 500\n",
    "height = 600\n",
    "plt.figure(3)\n",
    "plt.subplot(4,4,1)\n",
    "plt.imshow(bsp_a)\n",
    "markregion(bsp_a, coordinates_bsp_a, width=width, height=height)\n",
    "plt.gca().add_artist(ScaleBar(Data['Voxelsize'].iloc[-1],'um'))\n",
    "plt.title('bsp_a')\n",
    "plt.axis('off')\n",
    "plt.figure(3)\n",
    "plt.subplot(4,4,2)\n",
    "plt.imshow(extract_roi(Reconstructions[15], coordinates_bsp_a, width=width, height=height))\n",
    "plt.gca().add_artist(ScaleBar(Data['Voxelsize'].iloc[-1],'um'))\n",
    "plt.title('bsp_a')\n",
    "plt.axis('off')\n",
    "plt.subplot(4,4,3)\n",
    "plt.imshow(bsp_b)\n",
    "plt.gca().add_artist(ScaleBar(Data['Voxelsize'].iloc[-1],'um'))\n",
    "plt.title('bsp_b')\n",
    "plt.axis('off')\n",
    "plt.subplot(4,4,4)\n",
    "plt.imshow(extract_roi(Reconstructions[15], coordinates_bsp_b, width=width, height=height))\n",
    "plt.gca().add_artist(ScaleBar(Data['Voxelsize'].iloc[-1],'um'))\n",
    "plt.title('bsp_b')\n",
    "plt.axis('off')\n",
    "# ----------\n",
    "plt.subplot(4,4,5)\n",
    "plt.imshow(lrm_a)\n",
    "markregion(lrm_a, coordinates_lrm_a, width=width, height=height)\n",
    "plt.gca().add_artist(ScaleBar(Data['Voxelsize'].iloc[-1],'um'))\n",
    "plt.title('lrm_a')\n",
    "plt.axis('off')\n",
    "plt.figure(3)\n",
    "plt.subplot(4,4,6)\n",
    "plt.imshow(extract_roi(Reconstructions[15], coordinates_lrm_a, width=width, height=height))\n",
    "plt.gca().add_artist(ScaleBar(Data['Voxelsize'].iloc[-1],'um'))\n",
    "plt.title('lrm_a')\n",
    "plt.axis('off')\n",
    "plt.subplot(4,4,7)\n",
    "plt.imshow(lrm_b)\n",
    "plt.gca().add_artist(ScaleBar(Data['Voxelsize'].iloc[-1],'um'))\n",
    "plt.title('lrm_b')\n",
    "plt.axis('off')\n",
    "plt.subplot(4,4,8)\n",
    "plt.imshow(extract_roi(Reconstructions[15], coordinates_lrm_b, width=width, height=height))\n",
    "plt.gca().add_artist(ScaleBar(Data['Voxelsize'].iloc[-1],'um'))\n",
    "plt.title('lrm_b')\n",
    "plt.axis('off')\n",
    "# ----------\n",
    "plt.subplot(4,4,9)\n",
    "plt.imshow(eas_a)\n",
    "markregion(eas_a, coordinates_eas_a, width=width, height=height)\n",
    "plt.gca().add_artist(ScaleBar(Data['Voxelsize'].iloc[-1],'um'))\n",
    "plt.title('eas_a')\n",
    "plt.axis('off')\n",
    "plt.figure(3)\n",
    "plt.subplot(4,4,10)\n",
    "plt.imshow(extract_roi(Reconstructions[15], coordinates_eas_a, width=width, height=height))\n",
    "plt.gca().add_artist(ScaleBar(Data['Voxelsize'].iloc[-1],'um'))\n",
    "plt.title('eas_a')\n",
    "plt.axis('off')\n",
    "plt.subplot(4,4,11)\n",
    "plt.imshow(eas_b)\n",
    "plt.gca().add_artist(ScaleBar(Data['Voxelsize'].iloc[-1],'um'))\n",
    "plt.title('eas_b')\n",
    "plt.axis('off')\n",
    "plt.subplot(4,4,12)\n",
    "plt.imshow(extract_roi(Reconstructions[15], coordinates_eas_b, width=width, height=height))\n",
    "plt.gca().add_artist(ScaleBar(Data['Voxelsize'].iloc[-1],'um'))\n",
    "plt.title('eas_b')\n",
    "plt.axis('off')\n",
    "# ----------\n",
    "plt.subplot(4,4,13)\n",
    "plt.imshow(stp_a)\n",
    "markregion(stp_a, coordinates_stp_a, width=width, height=height)\n",
    "plt.gca().add_artist(ScaleBar(Data['Voxelsize'].iloc[-1],'um'))\n",
    "plt.title('stp_a')\n",
    "plt.axis('off')\n",
    "plt.figure(3)\n",
    "plt.subplot(4,4,14)\n",
    "plt.imshow(extract_roi(Reconstructions[15], coordinates_stp_a, width=width, height=height))\n",
    "plt.gca().add_artist(ScaleBar(Data['Voxelsize'].iloc[-1],'um'))\n",
    "plt.title('stp_a')\n",
    "plt.axis('off')\n",
    "plt.subplot(4,4,15)\n",
    "plt.imshow(stp_b)\n",
    "plt.gca().add_artist(ScaleBar(Data['Voxelsize'].iloc[-1],'um'))\n",
    "plt.title('stp_b')\n",
    "plt.axis('off')\n",
    "plt.subplot(4,4,16)\n",
    "plt.imshow(extract_roi(Reconstructions[15], coordinates_stp_b, width=width, height=height))\n",
    "plt.gca().add_artist(ScaleBar(Data['Voxelsize'].iloc[-1],'um'))\n",
    "plt.title('stp_b')\n",
    "plt.axis('off')\n",
    "plt.tight_layout(pad=0.1)\n",
    "fig.supxlabel('Fig. 3: Muscles of the perineal body.'\n",
    "              'Top left: frontal/coronal view.'\n",
    "              'Top right: sagittal view.'\n",
    "              'Bottom left: transversal view.'\n",
    "              'The bulbospongiosus muscle can be seen where the lines cross, caudal to the vestibular bulb and the greater vestibular gland, extending dorsally towards the perineal body.') \n",
    "plt.savefig(os.path.join(OutPutDir, 'Fig03.png'),\n",
    "            bbox_inches='tight')\n",
    "plt.show()"
   ]
  },
  {
   "cell_type": "code",
   "execution_count": null,
   "metadata": {},
   "outputs": [],
   "source": [
    "plt.subplot(231)\n",
    "plt.imshow(numpy.random.random(size=(100,100)))\n",
    "plt.subplot(234)\n",
    "plt.imshow(numpy.random.random(size=(100,100)))\n",
    "plt.subplot(236)\n",
    "plt.imshow(numpy.random.random(size=(100,100)))"
   ]
  },
  {
   "cell_type": "code",
   "execution_count": null,
   "metadata": {},
   "outputs": [],
   "source": [
    "numpy.random.randint?"
   ]
  },
  {
   "cell_type": "markdown",
   "metadata": {},
   "source": [
    "Fig. 3: Muscles of the perineal body. Top left: frontal/coronal view, top right: sagittal view, bottom left: transversal view. The bulbospongiosus muscle can be seen where the lines cross, caudal to the vestibular bulb and the greater vestibular gland, extending dorsally towards the perineal body. "
   ]
  },
  {
   "cell_type": "code",
   "execution_count": null,
   "metadata": {},
   "outputs": [],
   "source": [
    "print('Saved all figures to %s' % OutPutDir)"
   ]
  }
 ],
 "metadata": {
  "kernelspec": {
   "display_name": "Python 3 (ipykernel)",
   "language": "python",
   "name": "python3"
  },
  "language_info": {
   "codemirror_mode": {
    "name": "ipython",
    "version": 3
   },
   "file_extension": ".py",
   "mimetype": "text/x-python",
   "name": "python",
   "nbconvert_exporter": "python",
   "pygments_lexer": "ipython3",
   "version": "3.9.11"
  }
 },
 "nbformat": 4,
 "nbformat_minor": 4
}
